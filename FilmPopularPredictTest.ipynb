{
 "cells": [
  {
   "cell_type": "markdown",
   "id": "b3278fcd-7fb5-43ff-8f8b-dc4967a3b592",
   "metadata": {},
   "source": [
    "# Predict film popularity using machine learning\n",
    "\n",
    "A machine learning model to predict the popularity of a film based on its characteristics"
   ]
  },
  {
   "cell_type": "code",
   "execution_count": 523,
   "id": "df2a2be0-269c-4e9d-bb16-a271b0da68a1",
   "metadata": {},
   "outputs": [],
   "source": [
    "## import tools\n",
    "import pandas as pd\n",
    "import numpy as np\n",
    "import matplotlib.pyplot as plt\n",
    "import seaborn as sns\n",
    "\n",
    "from sklearn.linear_model import LogisticRegression\n",
    "from sklearn.neighbors import KNeighborsClassifier\n",
    "from sklearn.ensemble import RandomForestClassifier\n",
    "\n",
    "from sklearn.model_selection import cross_val_score\n",
    "from sklearn.model_selection import RandomizedSearchCV, GridSearchCV\n",
    "from sklearn.metrics import confusion_matrix, classification_report\n",
    "from sklearn.metrics import precision_score, recall_score, f1_score\n",
    "from sklearn.metrics import RocCurveDisplay"
   ]
  },
  {
   "cell_type": "code",
   "execution_count": 524,
   "id": "721b5098-642d-4cdf-a4d8-8ca8d66cd39d",
   "metadata": {},
   "outputs": [],
   "source": [
    "my_data = pd.read_csv(\"data/test_kaggle.csv\")\n",
    "\n",
    "## Data exploration\n",
    "idx_index = my_data.title_index\n",
    "my_data = my_data.drop(\"title_index\", axis = 1)"
   ]
  },
  {
   "cell_type": "code",
   "execution_count": 525,
   "id": "f11d4345-c739-4245-9e6d-9a9071d30b86",
   "metadata": {
    "scrolled": true
   },
   "outputs": [],
   "source": [
    "%%capture\n",
    "my_data[\"country\"] = my_data[\"country\"].fillna(\"Unknown\")\n",
    "my_data[\"language\"] = my_data[\"language\"].fillna(\"Unknown\")\n",
    "my_data[\"director\"].fillna(\"Unknown\", inplace = True)\n",
    "my_data[\"writer\"].fillna(\"Unknown\", inplace = True)\n",
    "my_data[\"production_company\"].fillna(\"Unknown\", inplace = True)\n",
    "my_data[\"actors\"].fillna(\"Unknown\", inplace = True)\n",
    "my_data[\"description\"].fillna(\"Unknown\", inplace = True)"
   ]
  },
  {
   "cell_type": "markdown",
   "id": "94d748ec-dda1-47a4-9d7c-efd960bc4690",
   "metadata": {},
   "source": [
    "# Fix us_gross_income col"
   ]
  },
  {
   "cell_type": "code",
   "execution_count": 526,
   "id": "dd73cd48-a5b0-4b32-8ba7-d7d7681b5017",
   "metadata": {},
   "outputs": [],
   "source": [
    "my_data['usa_gross_income'] = my_data['usa_gross_income'].str.replace('$', \"\", regex = False)"
   ]
  },
  {
   "cell_type": "code",
   "execution_count": 527,
   "id": "867f68d2-9046-4b1d-9659-15974d0de368",
   "metadata": {},
   "outputs": [
    {
     "name": "stdout",
     "output_type": "stream",
     "text": [
      "[]\n"
     ]
    }
   ],
   "source": [
    "index = 0\n",
    "val = []\n",
    "for data in my_data['usa_gross_income']:\n",
    "    #print(data)\n",
    "    if pd.notnull(data) and 'EUR' in data:\n",
    "        print(data)\n",
    "        val.append(index)\n",
    "    index = index + 1\n",
    "print(val)\n",
    "#print(my_data['usa_gross_income'][10998])"
   ]
  },
  {
   "cell_type": "code",
   "execution_count": 528,
   "id": "b872fde3-031d-4826-9321-61c40c1fc77f",
   "metadata": {
    "scrolled": true
   },
   "outputs": [],
   "source": [
    "%%capture\n",
    "my_data[\"usa_gross_income\"][10344] = '272254'\n",
    "my_data[\"usa_gross_income\"][10344]"
   ]
  },
  {
   "cell_type": "code",
   "execution_count": 529,
   "id": "23751de1-5521-423c-8353-d3a766bd6420",
   "metadata": {
    "scrolled": true
   },
   "outputs": [
    {
     "name": "stdout",
     "output_type": "stream",
     "text": [
      "[]\n"
     ]
    }
   ],
   "source": [
    "index = 0\n",
    "val = []\n",
    "for data in my_data['usa_gross_income']:\n",
    "    #print(data)\n",
    "    if pd.notnull(data) and 'GBP' in data:\n",
    "        print(data)\n",
    "        val.append(index)\n",
    "    index = index + 1\n",
    "print(val)"
   ]
  },
  {
   "cell_type": "code",
   "execution_count": 530,
   "id": "fb106db6-d0ad-4957-8910-f6ceebe4b510",
   "metadata": {},
   "outputs": [],
   "source": [
    "%%capture\n",
    "for index in val:\n",
    "    my_data['usa_gross_income'][index] = my_data['usa_gross_income'][index].replace(\"GBP\", \"\")\n",
    "    my_data['usa_gross_income'][index] = int(my_data['usa_gross_income'][index])*126/100\n",
    "    print(my_data['usa_gross_income'][index])"
   ]
  },
  {
   "cell_type": "code",
   "execution_count": 531,
   "id": "cc169df2-c909-4f3a-9ed3-bc5efc0f6d58",
   "metadata": {},
   "outputs": [
    {
     "name": "stdout",
     "output_type": "stream",
     "text": [
      "<class 'pandas.core.series.Series'>\n",
      "RangeIndex: 20000 entries, 0 to 19999\n",
      "Series name: usa_gross_income\n",
      "Non-Null Count  Dtype \n",
      "--------------  ----- \n",
      "3580 non-null   object\n",
      "dtypes: object(1)\n",
      "memory usage: 156.4+ KB\n"
     ]
    }
   ],
   "source": [
    "my_data['usa_gross_income'].info()"
   ]
  },
  {
   "cell_type": "code",
   "execution_count": 532,
   "id": "012bea4c-3257-4cf8-beb5-26850ba2c413",
   "metadata": {},
   "outputs": [],
   "source": [
    "my_data['usa_gross_income'] = pd.to_numeric(my_data['usa_gross_income'],errors='coerce' )"
   ]
  },
  {
   "cell_type": "code",
   "execution_count": 533,
   "id": "b55913e9-73e5-4776-bd66-38af4bd6322b",
   "metadata": {},
   "outputs": [
    {
     "name": "stderr",
     "output_type": "stream",
     "text": [
      "C:\\Users\\minha\\AppData\\Local\\Temp\\ipykernel_24324\\4088441139.py:2: FutureWarning: A value is trying to be set on a copy of a DataFrame or Series through chained assignment using an inplace method.\n",
      "The behavior will change in pandas 3.0. This inplace method will never work because the intermediate object on which we are setting values always behaves as a copy.\n",
      "\n",
      "For example, when doing 'df[col].method(value, inplace=True)', try using 'df.method({col: value}, inplace=True)' or df[col] = df[col].method(value) instead, to perform the operation inplace on the original object.\n",
      "\n",
      "\n",
      "  my_data['usa_gross_income'].fillna(mean, inplace = True)\n"
     ]
    }
   ],
   "source": [
    "mean = my_data['usa_gross_income'].mean()\n",
    "my_data['usa_gross_income'].fillna(mean, inplace = True)"
   ]
  },
  {
   "cell_type": "markdown",
   "id": "a3fe4d0c-bfc5-4342-b7a6-fdc659aedf46",
   "metadata": {},
   "source": [
    "# Fix worldwide_gross_income col\n"
   ]
  },
  {
   "cell_type": "code",
   "execution_count": 534,
   "id": "dde91c47-4bb5-4044-ad5d-a230c6a7fdfb",
   "metadata": {
    "jupyter": {
     "source_hidden": true
    }
   },
   "outputs": [
    {
     "name": "stdout",
     "output_type": "stream",
     "text": [
      "<class 'pandas.core.series.Series'>\n",
      "RangeIndex: 20000 entries, 0 to 19999\n",
      "Series name: worlwide_gross_income\n",
      "Non-Null Count  Dtype \n",
      "--------------  ----- \n",
      "7312 non-null   object\n",
      "dtypes: object(1)\n",
      "memory usage: 156.4+ KB\n"
     ]
    }
   ],
   "source": [
    "my_data['worlwide_gross_income'].info()"
   ]
  },
  {
   "cell_type": "code",
   "execution_count": 535,
   "id": "4910b966-4d26-4bc9-bcbe-72775fda4760",
   "metadata": {},
   "outputs": [],
   "source": [
    "my_data['worlwide_gross_income'] = my_data['worlwide_gross_income'].str.replace('$', \"\", regex = False)"
   ]
  },
  {
   "cell_type": "code",
   "execution_count": 536,
   "id": "b64fcc79-2bac-4374-9491-6eb4b7d7a82c",
   "metadata": {
    "jupyter": {
     "source_hidden": true
    }
   },
   "outputs": [
    {
     "name": "stdout",
     "output_type": "stream",
     "text": [
      "[]\n",
      "Series([], Name: worlwide_gross_income, dtype: object)\n"
     ]
    }
   ],
   "source": [
    "index = 0\n",
    "val = []\n",
    "for data in my_data['worlwide_gross_income']:\n",
    "    #print(data)\n",
    "    if type(data) == str and ('NPR' in data):\n",
    "        #print(data)\n",
    "        val.append(index)\n",
    "    index = index + 1\n",
    "print(val)\n",
    "print(my_data['worlwide_gross_income'][val])"
   ]
  },
  {
   "cell_type": "code",
   "execution_count": 537,
   "id": "f1be2a98-4e3a-4f43-81e0-d5754f6ad41d",
   "metadata": {
    "jupyter": {
     "source_hidden": true
    }
   },
   "outputs": [],
   "source": [
    "%%capture\n",
    "for index in val:\n",
    "    my_data[\"worlwide_gross_income\"][index] = my_data['worlwide_gross_income'][index].replace('NPR','')\n",
    "    my_data[\"worlwide_gross_income\"][index] = int(my_data[\"worlwide_gross_income\"][index])/133.18"
   ]
  },
  {
   "cell_type": "code",
   "execution_count": 538,
   "id": "b7de0151-184d-4370-86b6-254049dc7b31",
   "metadata": {
    "jupyter": {
     "source_hidden": true
    }
   },
   "outputs": [],
   "source": [
    "%%capture\n",
    "index = 0\n",
    "val = []\n",
    "for data in my_data['worlwide_gross_income']:\n",
    "    #print(data)\n",
    "    if type(data) == str and ('INR' in data):\n",
    "        #print(data)\n",
    "        val.append(index)\n",
    "    index = index + 1\n",
    "for index in val:\n",
    "    my_data[\"worlwide_gross_income\"][index] = my_data['worlwide_gross_income'][index].replace('INR','')\n",
    "    my_data[\"worlwide_gross_income\"][index] = int(my_data[\"worlwide_gross_income\"][index])*0.012"
   ]
  },
  {
   "cell_type": "code",
   "execution_count": 539,
   "id": "d4c9ed35-bc9f-449f-8011-34d52dc79aa4",
   "metadata": {},
   "outputs": [],
   "source": [
    "%%capture\n",
    "index = 0\n",
    "val = []\n",
    "for data in my_data['worlwide_gross_income']:\n",
    "    #print(data)\n",
    "    if type(data) == str and ('GBP' in data):\n",
    "        #print(data)\n",
    "        val.append(index)\n",
    "    index = index + 1\n",
    "for index in val:\n",
    "    my_data[\"worlwide_gross_income\"][index] = my_data['worlwide_gross_income'][index].replace('GBP','')\n",
    "    my_data[\"worlwide_gross_income\"][index] = int(my_data[\"worlwide_gross_income\"][index])*1.26"
   ]
  },
  {
   "cell_type": "code",
   "execution_count": 540,
   "id": "801ce4b3-2b40-4fee-8035-ca8738fe5eba",
   "metadata": {},
   "outputs": [],
   "source": [
    "%%capture\n",
    "index = 0\n",
    "val = []\n",
    "for data in my_data['worlwide_gross_income']:\n",
    "    #print(data)\n",
    "    if type(data) == str and ('PKR' in data):\n",
    "        #print(data)\n",
    "        val.append(index)\n",
    "    index = index + 1\n",
    "for index in val:\n",
    "    my_data[\"worlwide_gross_income\"][index] = my_data['worlwide_gross_income'][index].replace('PKR','')\n",
    "    my_data[\"worlwide_gross_income\"][index] = int(my_data[\"worlwide_gross_income\"][index])*0.0036"
   ]
  },
  {
   "cell_type": "code",
   "execution_count": 541,
   "id": "39841aaa-4e10-4cef-a05b-dcd98d97f1df",
   "metadata": {},
   "outputs": [],
   "source": [
    "my_data['worlwide_gross_income'] = pd.to_numeric(my_data['worlwide_gross_income'])"
   ]
  },
  {
   "cell_type": "code",
   "execution_count": 542,
   "id": "c5700251-2bbe-4679-bfe1-f28a9db18514",
   "metadata": {
    "scrolled": true
   },
   "outputs": [],
   "source": [
    "%%capture\n",
    "mean = my_data['worlwide_gross_income'].mean()\n",
    "my_data['worlwide_gross_income'].fillna(mean, inplace = True)"
   ]
  },
  {
   "cell_type": "markdown",
   "id": "3d03a87b-2f7e-4053-9a79-8bb46fd52873",
   "metadata": {},
   "source": [
    "# Fix budget col"
   ]
  },
  {
   "cell_type": "code",
   "execution_count": 543,
   "id": "80f37022-5dff-45f4-98dc-6590a0d931a2",
   "metadata": {},
   "outputs": [
    {
     "data": {
      "text/plain": [
       "0             NaN\n",
       "1        $ 300000\n",
       "2             NaN\n",
       "3             NaN\n",
       "4             NaN\n",
       "           ...   \n",
       "19995         NaN\n",
       "19996         NaN\n",
       "19997         NaN\n",
       "19998         NaN\n",
       "19999         NaN\n",
       "Name: budget, Length: 20000, dtype: object"
      ]
     },
     "execution_count": 543,
     "metadata": {},
     "output_type": "execute_result"
    }
   ],
   "source": [
    "my_data['budget']"
   ]
  },
  {
   "cell_type": "code",
   "execution_count": 544,
   "id": "7d5701ab-5c6a-454c-91ed-f4bd0733acf0",
   "metadata": {},
   "outputs": [],
   "source": [
    "my_data['budget'] = my_data['budget'].str.replace('$', \"\", regex = False)"
   ]
  },
  {
   "cell_type": "code",
   "execution_count": 545,
   "id": "b1d0be30-01f1-49c2-99a5-f9bed5f6c1f0",
   "metadata": {
    "scrolled": true
   },
   "outputs": [
    {
     "name": "stdout",
     "output_type": "stream",
     "text": [
      "[338, 634, 1221, 1239, 1290, 1572, 1707, 2967, 3322, 4161, 6144, 6356, 6763, 7036, 7086, 7269, 9291, 10662, 10901, 11699, 11844, 13169, 13417, 13812, 14170, 14539, 14635, 14674, 14906, 15207, 16567, 17893, 18061, 18628, 18987]\n",
      "338       FRF 50000000\n",
      "634       FRF 80000000\n",
      "1221      FRF 53000000\n",
      "1239      FRF 25000000\n",
      "1290       FRF 4000000\n",
      "1572      FRF 12000000\n",
      "1707       FRF 6000000\n",
      "2967      FRF 75000000\n",
      "3322       FRF 5300000\n",
      "4161     FRF 110000000\n",
      "6144      FRF 50000000\n",
      "6356      FRF 37000000\n",
      "6763      FRF 15000000\n",
      "7036      FRF 39000000\n",
      "7086      FRF 71500000\n",
      "7269       FRF 3100000\n",
      "9291     FRF 164000000\n",
      "10662     FRF 30000000\n",
      "10901        FRF 40000\n",
      "11699     FRF 17000000\n",
      "11844     FRF 53000000\n",
      "13169     FRF 21000000\n",
      "13417     FRF 60000000\n",
      "13812     FRF 26000000\n",
      "14170     FRF 65000000\n",
      "14539    FRF 116000000\n",
      "14635     FRF 17000000\n",
      "14674     FRF 60000000\n",
      "14906     FRF 30000000\n",
      "15207       FRF 248000\n",
      "16567     FRF 22500000\n",
      "17893     FRF 82000000\n",
      "18061       FRF 200000\n",
      "18628     FRF 33000000\n",
      "18987     FRF 26000000\n",
      "Name: budget, dtype: object\n"
     ]
    }
   ],
   "source": [
    "index = 0\n",
    "val = []\n",
    "for data in my_data['budget']:\n",
    "    #print(data)\n",
    "    if type(data) == str and ('FRF' in data):\n",
    "        #print(data)\n",
    "        val.append(index)\n",
    "    index = index + 1\n",
    "print(val)\n",
    "print(my_data['budget'][val])"
   ]
  },
  {
   "cell_type": "code",
   "execution_count": 546,
   "id": "73f6edef-fe3f-433f-a0ef-bcecced96ed3",
   "metadata": {},
   "outputs": [],
   "source": [
    "%%capture\n",
    "for index in val:\n",
    "    my_data[\"budget\"][index] = my_data['budget'][index].replace('FRF','')\n",
    "    my_data[\"budget\"][index] = int(my_data[\"budget\"][index])/6.18"
   ]
  },
  {
   "cell_type": "code",
   "execution_count": 547,
   "id": "14d83725-0a15-455d-8790-2855d60d644e",
   "metadata": {},
   "outputs": [],
   "source": [
    "%%capture\n",
    "index = 0\n",
    "val = []\n",
    "for data in my_data['budget']:\n",
    "    #print(data)\n",
    "    if type(data) == str and ('EUR' in data):\n",
    "        #print(data)\n",
    "        val.append(index)\n",
    "    index = index + 1\n",
    "for index in val:\n",
    "    my_data[\"budget\"][index] = my_data['budget'][index].replace('EUR','')\n",
    "    my_data[\"budget\"][index] = int(my_data[\"budget\"][index])*1.08"
   ]
  },
  {
   "cell_type": "code",
   "execution_count": 548,
   "id": "f9dc9c1b-3312-4978-894e-2907a2b2dc7a",
   "metadata": {},
   "outputs": [],
   "source": [
    "%%capture\n",
    "index = 0\n",
    "val = []\n",
    "for data in my_data['budget']:\n",
    "    #print(data)\n",
    "    if type(data) == str and ('GBP' in data):\n",
    "        #print(data)\n",
    "        val.append(index)\n",
    "    index = index + 1\n",
    "for index in val:\n",
    "    my_data[\"budget\"][index] = my_data['budget'][index].replace('GBP','')\n",
    "    my_data[\"budget\"][index] = int(my_data[\"budget\"][index])*1.26"
   ]
  },
  {
   "cell_type": "code",
   "execution_count": 549,
   "id": "ebc51722-ccba-4821-b7ee-e78b8fca9457",
   "metadata": {
    "jupyter": {
     "source_hidden": true
    }
   },
   "outputs": [],
   "source": [
    "%%capture\n",
    "index = 0\n",
    "val = []\n",
    "for data in my_data['budget']:\n",
    "    #print(data)\n",
    "    if type(data) == str and ('CAD' in data):\n",
    "        #print(data)\n",
    "        val.append(index)\n",
    "    index = index + 1\n",
    "for index in val:\n",
    "    my_data[\"budget\"][index] = my_data['budget'][index].replace('CAD','')\n",
    "    my_data[\"budget\"][index] = int(my_data[\"budget\"][index])*1.35"
   ]
  },
  {
   "cell_type": "code",
   "execution_count": 550,
   "id": "3255328c-bd98-4c94-999c-8d84da0c13b6",
   "metadata": {
    "jupyter": {
     "source_hidden": true
    }
   },
   "outputs": [],
   "source": [
    "%%capture\n",
    "index = 0\n",
    "val = []\n",
    "for data in my_data['budget']:\n",
    "    #print(data)\n",
    "    if type(data) == str and ('AUD' in data):\n",
    "        #print(data)\n",
    "        val.append(index)\n",
    "    index = index + 1\n",
    "for index in val:\n",
    "    my_data[\"budget\"][index] = my_data['budget'][index].replace('AUD','')\n",
    "    my_data[\"budget\"][index] = int(my_data[\"budget\"][index])*1.53"
   ]
  },
  {
   "cell_type": "code",
   "execution_count": 551,
   "id": "c5a2e788-3faf-42a3-9384-c9693fa17650",
   "metadata": {
    "jupyter": {
     "source_hidden": true
    }
   },
   "outputs": [],
   "source": [
    "%%capture\n",
    "index = 0\n",
    "val = []\n",
    "for data in my_data['budget']:\n",
    "    #print(data)\n",
    "    if type(data) == str and ('JPY' in data):\n",
    "        #print(data)\n",
    "        val.append(index)\n",
    "    index = index + 1\n",
    "for index in val:\n",
    "    my_data[\"budget\"][index] = my_data['budget'][index].replace('JPY','')\n",
    "    my_data[\"budget\"][index] = int(my_data[\"budget\"][index])/151.44"
   ]
  },
  {
   "cell_type": "code",
   "execution_count": 552,
   "id": "005431bd-aeba-4e71-b0b4-0146d3e7a819",
   "metadata": {
    "jupyter": {
     "source_hidden": true
    }
   },
   "outputs": [],
   "source": [
    "%%capture\n",
    "index = 0\n",
    "val = []\n",
    "for data in my_data['budget']:\n",
    "    #print(data)\n",
    "    if type(data) == str and ('EGP' in data):\n",
    "        #print(data)\n",
    "        val.append(index)\n",
    "    index = index + 1\n",
    "for index in val:\n",
    "    my_data[\"budget\"][index] = my_data['budget'][index].replace('EGP','')\n",
    "    my_data[\"budget\"][index] = int(my_data[\"budget\"][index])/47.35"
   ]
  },
  {
   "cell_type": "code",
   "execution_count": 553,
   "id": "ca6678ef-ce8d-452b-a3bd-cb451b6b41a9",
   "metadata": {
    "jupyter": {
     "source_hidden": true
    }
   },
   "outputs": [],
   "source": [
    "%%capture\n",
    "index = 0\n",
    "val = []\n",
    "for data in my_data['budget']:\n",
    "    #print(data)\n",
    "    if type(data) == str and ('TRL' in data):\n",
    "        #print(data)\n",
    "        val.append(index)\n",
    "    index = index + 1\n",
    "for index in val:\n",
    "    my_data[\"budget\"][index] = my_data['budget'][index].replace('TRL','')\n",
    "    my_data[\"budget\"][index] = int(my_data[\"budget\"][index])*0.031"
   ]
  },
  {
   "cell_type": "code",
   "execution_count": 554,
   "id": "35566eb9-a087-4c33-a02e-5fbe9ac8c914",
   "metadata": {
    "jupyter": {
     "source_hidden": true
    }
   },
   "outputs": [],
   "source": [
    "%%capture\n",
    "index = 0\n",
    "val = []\n",
    "for data in my_data['budget']:\n",
    "    #print(data)\n",
    "    if type(data) == str and ('SEK' in data):\n",
    "        #print(data)\n",
    "        val.append(index)\n",
    "    index = index + 1\n",
    "for index in val:\n",
    "    my_data[\"budget\"][index] = my_data['budget'][index].replace('SEK','')\n",
    "    my_data[\"budget\"][index] = int(my_data[\"budget\"][index])*0.094"
   ]
  },
  {
   "cell_type": "code",
   "execution_count": 555,
   "id": "114e6fc4-f5b0-48a7-ab31-72788ff998db",
   "metadata": {
    "jupyter": {
     "source_hidden": true
    }
   },
   "outputs": [],
   "source": [
    "%%capture\n",
    "index = 0\n",
    "val = []\n",
    "for data in my_data['budget']:\n",
    "    #print(data)\n",
    "    if type(data) == str and ('IRR' in data):\n",
    "        #print(data)\n",
    "        val.append(index)\n",
    "    index = index + 1\n",
    "for index in val:\n",
    "    my_data[\"budget\"][index] = my_data['budget'][index].replace('IRR','')\n",
    "    my_data[\"budget\"][index] = int(my_data[\"budget\"][index])*0.000024"
   ]
  },
  {
   "cell_type": "code",
   "execution_count": 556,
   "id": "a3471c54-1e46-4263-9113-4f6111bd65db",
   "metadata": {
    "jupyter": {
     "source_hidden": true
    }
   },
   "outputs": [],
   "source": [
    "%%capture\n",
    "index = 0\n",
    "val = []\n",
    "for data in my_data['budget']:\n",
    "    #print(data)\n",
    "    if type(data) == str and ('PTE' in data):\n",
    "        #print(data)\n",
    "        val.append(index)\n",
    "    index = index + 1\n",
    "for index in val:\n",
    "    my_data[\"budget\"][index] = my_data['budget'][index].replace('PTE','')\n",
    "    my_data[\"budget\"][index] = int(my_data[\"budget\"][index])*0.00538522"
   ]
  },
  {
   "cell_type": "code",
   "execution_count": 557,
   "id": "87bcbaaf-4bb2-4dd5-9400-3f680c14fc00",
   "metadata": {
    "jupyter": {
     "source_hidden": true
    }
   },
   "outputs": [],
   "source": [
    "%%capture\n",
    "index = 0\n",
    "val = []\n",
    "for data in my_data['budget']:\n",
    "    #print(data)\n",
    "    if type(data) == str and ('NOK' in data):\n",
    "        #print(data)\n",
    "        val.append(index)\n",
    "    index = index + 1\n",
    "for index in val:\n",
    "    my_data[\"budget\"][index] = my_data['budget'][index].replace('NOK','')\n",
    "    my_data[\"budget\"][index] = int(my_data[\"budget\"][index])*0.092"
   ]
  },
  {
   "cell_type": "code",
   "execution_count": 558,
   "id": "c735925f-e302-445f-b37d-a2b0ca65a6f1",
   "metadata": {
    "jupyter": {
     "source_hidden": true
    }
   },
   "outputs": [],
   "source": [
    "%%capture\n",
    "index = 0\n",
    "val = []\n",
    "for data in my_data['budget']:\n",
    "    #print(data)\n",
    "    if type(data) == str and ('MXN' in data):\n",
    "        #print(data)\n",
    "        val.append(index)\n",
    "    index = index + 1\n",
    "for index in val:\n",
    "    my_data[\"budget\"][index] = my_data['budget'][index].replace('MXN','')\n",
    "    my_data[\"budget\"][index] = int(my_data[\"budget\"][index])*0.060"
   ]
  },
  {
   "cell_type": "code",
   "execution_count": 559,
   "id": "49add42a-c031-4b9e-89dd-b10ca495f1ec",
   "metadata": {
    "jupyter": {
     "source_hidden": true
    }
   },
   "outputs": [],
   "source": [
    "%%capture\n",
    "index = 0\n",
    "val = []\n",
    "for data in my_data['budget']:\n",
    "    #print(data)\n",
    "    if type(data) == str and ('HUF' in data):\n",
    "        #print(data)\n",
    "        val.append(index)\n",
    "    index = index + 1\n",
    "for index in val:\n",
    "    my_data[\"budget\"][index] = my_data['budget'][index].replace('HUF','')\n",
    "    my_data[\"budget\"][index] = int(my_data[\"budget\"][index])*0.0027"
   ]
  },
  {
   "cell_type": "code",
   "execution_count": 560,
   "id": "b363a8d9-a682-40f0-a758-cd6ec5bb6251",
   "metadata": {
    "jupyter": {
     "source_hidden": true
    }
   },
   "outputs": [],
   "source": [
    "%%capture\n",
    "index = 0\n",
    "val = []\n",
    "for data in my_data['budget']:\n",
    "    #print(data)\n",
    "    if type(data) == str and ('DKK' in data):\n",
    "        #print(data)\n",
    "        val.append(index)\n",
    "    index = index + 1\n",
    "for index in val:\n",
    "    my_data[\"budget\"][index] = my_data['budget'][index].replace('DKK','')\n",
    "    my_data[\"budget\"][index] = int(my_data[\"budget\"][index])*0.14"
   ]
  },
  {
   "cell_type": "code",
   "execution_count": 561,
   "id": "54b148f0-6ec2-4bb0-9185-092cd9c92683",
   "metadata": {
    "jupyter": {
     "source_hidden": true
    }
   },
   "outputs": [],
   "source": [
    "%%capture\n",
    "index = 0\n",
    "val = []\n",
    "for data in my_data['budget']:\n",
    "    #print(data)\n",
    "    if type(data) == str and ('DEM' in data):\n",
    "        #print(data)\n",
    "        val.append(index)\n",
    "    index = index + 1\n",
    "for index in val:\n",
    "    my_data[\"budget\"][index] = my_data['budget'][index].replace('DEM','')\n",
    "    my_data[\"budget\"][index] = int(my_data[\"budget\"][index])*0.0035"
   ]
  },
  {
   "cell_type": "code",
   "execution_count": 562,
   "id": "b4bdeabb-8452-40b0-b0f0-972e08700f7d",
   "metadata": {
    "jupyter": {
     "source_hidden": true
    }
   },
   "outputs": [],
   "source": [
    "%%capture\n",
    "index = 0\n",
    "val = []\n",
    "for data in my_data['budget']:\n",
    "    #print(data)\n",
    "    if type(data) == str and ('THB' in data):\n",
    "        #print(data)\n",
    "        val.append(index)\n",
    "    index = index + 1\n",
    "for index in val:\n",
    "    my_data[\"budget\"][index] = my_data['budget'][index].replace('THB','')\n",
    "    my_data[\"budget\"][index] = int(my_data[\"budget\"][index])*0.027"
   ]
  },
  {
   "cell_type": "code",
   "execution_count": 563,
   "id": "30a2a1db-0d4c-4e9c-9df8-cdd491bc5964",
   "metadata": {
    "jupyter": {
     "source_hidden": true
    }
   },
   "outputs": [],
   "source": [
    "%%capture\n",
    "index = 0\n",
    "val = []\n",
    "for data in my_data['budget']:\n",
    "    #print(data)\n",
    "    if type(data) == str and ('ITL' in data):\n",
    "        #print(data)\n",
    "        val.append(index)\n",
    "    index = index + 1\n",
    "for index in val:\n",
    "    my_data[\"budget\"][index] = my_data['budget'][index].replace('ITL','')\n",
    "    my_data[\"budget\"][index] = int(my_data[\"budget\"][index])*0.00054"
   ]
  },
  {
   "cell_type": "code",
   "execution_count": 564,
   "id": "4aa9ca9f-f04c-4233-9a2f-52284333b719",
   "metadata": {
    "jupyter": {
     "source_hidden": true
    }
   },
   "outputs": [],
   "source": [
    "%%capture\n",
    "index = 0\n",
    "val = []\n",
    "for data in my_data['budget']:\n",
    "    #print(data)\n",
    "    if type(data) == str and ('IDR' in data):\n",
    "        #print(data)\n",
    "        val.append(index)\n",
    "    index = index + 1\n",
    "for index in val:\n",
    "    my_data[\"budget\"][index] = my_data['budget'][index].replace('IDR','')\n",
    "    my_data[\"budget\"][index] = int(my_data[\"budget\"][index])*0.000063"
   ]
  },
  {
   "cell_type": "code",
   "execution_count": 565,
   "id": "380b1331-a2c4-4413-8be1-ca12b59eb963",
   "metadata": {
    "jupyter": {
     "source_hidden": true
    }
   },
   "outputs": [],
   "source": [
    "%%capture\n",
    "index = 0\n",
    "val = []\n",
    "for data in my_data['budget']:\n",
    "    #print(data)\n",
    "    if type(data) == str and ('CNY' in data):\n",
    "        #print(data)\n",
    "        val.append(index)\n",
    "    index = index + 1\n",
    "for index in val:\n",
    "    my_data[\"budget\"][index] = my_data['budget'][index].replace('CNY','')\n",
    "    my_data[\"budget\"][index] = int(my_data[\"budget\"][index])*0.14"
   ]
  },
  {
   "cell_type": "code",
   "execution_count": 566,
   "id": "7978084f-be95-4b89-be07-b709ef9cc5a4",
   "metadata": {
    "jupyter": {
     "source_hidden": true
    }
   },
   "outputs": [],
   "source": [
    "%%capture\n",
    "index = 0\n",
    "val = []\n",
    "for data in my_data['budget']:\n",
    "    #print(data)\n",
    "    if type(data) == str and ('CZK' in data):\n",
    "        #print(data)\n",
    "        val.append(index)\n",
    "    index = index + 1\n",
    "for index in val:\n",
    "    my_data[\"budget\"][index] = my_data['budget'][index].replace('CZK','')\n",
    "    my_data[\"budget\"][index] = int(my_data[\"budget\"][index])*0.043"
   ]
  },
  {
   "cell_type": "code",
   "execution_count": 567,
   "id": "27bbfb66-2ef0-4f6d-9f1d-408b6582c8d7",
   "metadata": {
    "jupyter": {
     "source_hidden": true
    }
   },
   "outputs": [],
   "source": [
    "%%capture\n",
    "index = 0\n",
    "val = []\n",
    "for data in my_data['budget']:\n",
    "    #print(data)\n",
    "    if type(data) == str and ('ARS' in data):\n",
    "        #print(data)\n",
    "        val.append(index)\n",
    "    index = index + 1\n",
    "for index in val:\n",
    "    my_data[\"budget\"][index] = my_data['budget'][index].replace('ARS','')\n",
    "    my_data[\"budget\"][index] = int(my_data[\"budget\"][index])*0.0012"
   ]
  },
  {
   "cell_type": "code",
   "execution_count": 568,
   "id": "52c02db6-ffe5-42a2-97d1-4320762e1fc7",
   "metadata": {
    "jupyter": {
     "source_hidden": true
    }
   },
   "outputs": [],
   "source": [
    "%%capture\n",
    "index = 0\n",
    "val = []\n",
    "for data in my_data['budget']:\n",
    "    #print(data)\n",
    "    if type(data) == str and ('BRL' in data):\n",
    "        #print(data)\n",
    "        val.append(index)\n",
    "    index = index + 1\n",
    "for index in val:\n",
    "    my_data[\"budget\"][index] = my_data['budget'][index].replace('BRL','')\n",
    "    my_data[\"budget\"][index] = int(my_data[\"budget\"][index])*0.20"
   ]
  },
  {
   "cell_type": "code",
   "execution_count": 569,
   "id": "12653497-1819-4231-a86f-c5a15bb7d4cb",
   "metadata": {
    "jupyter": {
     "source_hidden": true
    }
   },
   "outputs": [],
   "source": [
    "%%capture\n",
    "index = 0\n",
    "val = []\n",
    "for data in my_data['budget']:\n",
    "    #print(data)\n",
    "    if type(data) == str and ('KRW' in data):\n",
    "        #print(data)\n",
    "        val.append(index)\n",
    "    index = index + 1\n",
    "for index in val:\n",
    "    my_data[\"budget\"][index] = my_data['budget'][index].replace('KRW','')\n",
    "    my_data[\"budget\"][index] = int(my_data[\"budget\"][index])*0.00074"
   ]
  },
  {
   "cell_type": "code",
   "execution_count": 570,
   "id": "44eb2c52-f0b1-46fc-89ef-1308c5fa2ec2",
   "metadata": {
    "jupyter": {
     "source_hidden": true
    }
   },
   "outputs": [],
   "source": [
    "%%capture\n",
    "index = 0\n",
    "val = []\n",
    "for data in my_data['budget']:\n",
    "    #print(data)\n",
    "    if type(data) == str and ('RUR' in data):\n",
    "        #print(data)\n",
    "        val.append(index)\n",
    "    index = index + 1\n",
    "for index in val:\n",
    "    my_data[\"budget\"][index] = my_data['budget'][index].replace('RUR','')\n",
    "    my_data[\"budget\"][index] = int(my_data[\"budget\"][index])*0.011"
   ]
  },
  {
   "cell_type": "code",
   "execution_count": 571,
   "id": "2baedf53-fbed-4a4b-9440-6679cedf7cd9",
   "metadata": {
    "jupyter": {
     "source_hidden": true
    },
    "scrolled": true
   },
   "outputs": [],
   "source": [
    "%%capture\n",
    "index = 0\n",
    "val = []\n",
    "for data in my_data['budget']:\n",
    "    #print(data)\n",
    "    if type(data) == str and ('NLG' in data):\n",
    "        #print(data)\n",
    "        val.append(index)\n",
    "    index = index + 1\n",
    "for index in val:\n",
    "    my_data[\"budget\"][index] = my_data['budget'][index].replace('NLG','')\n",
    "    my_data[\"budget\"][index] = int(my_data[\"budget\"][index])*0.49"
   ]
  },
  {
   "cell_type": "code",
   "execution_count": 572,
   "id": "a18a1783-e90d-4f1b-94f5-71d035dada7b",
   "metadata": {
    "jupyter": {
     "source_hidden": true
    }
   },
   "outputs": [],
   "source": [
    "%%capture\n",
    "index = 0\n",
    "val = []\n",
    "for data in my_data['budget']:\n",
    "    #print(data)\n",
    "    if type(data) == str and ('DOP' in data):\n",
    "        #print(data)\n",
    "        val.append(index)\n",
    "    index = index + 1\n",
    "for index in val:\n",
    "    my_data[\"budget\"][index] = my_data['budget'][index].replace('DOP','')\n",
    "    my_data[\"budget\"][index] = int(my_data[\"budget\"][index])*0.017"
   ]
  },
  {
   "cell_type": "code",
   "execution_count": 573,
   "id": "68389a95-b3ae-4c1f-bc29-81f04ed4f2ef",
   "metadata": {
    "jupyter": {
     "source_hidden": true
    }
   },
   "outputs": [],
   "source": [
    "%%capture\n",
    "index = 0\n",
    "val = []\n",
    "for data in my_data['budget']:\n",
    "    #print(data)\n",
    "    if type(data) == str and ('HKD' in data):\n",
    "        #print(data)\n",
    "        val.append(index)\n",
    "    index = index + 1\n",
    "for index in val:\n",
    "    my_data[\"budget\"][index] = my_data['budget'][index].replace('HKD','')\n",
    "    my_data[\"budget\"][index] = int(my_data[\"budget\"][index])*0.13"
   ]
  },
  {
   "cell_type": "code",
   "execution_count": 574,
   "id": "fe14e66c-deca-437b-a84f-745a44c3b989",
   "metadata": {
    "jupyter": {
     "source_hidden": true
    }
   },
   "outputs": [],
   "source": [
    "%%capture\n",
    "index = 0\n",
    "val = []\n",
    "for data in my_data['budget']:\n",
    "    #print(data)\n",
    "    if type(data) == str and ('NZD' in data):\n",
    "        #print(data)\n",
    "        val.append(index)\n",
    "    index = index + 1\n",
    "for index in val:\n",
    "    my_data[\"budget\"][index] = my_data['budget'][index].replace('NZD','')\n",
    "    my_data[\"budget\"][index] = int(my_data[\"budget\"][index])*0.60"
   ]
  },
  {
   "cell_type": "code",
   "execution_count": 575,
   "id": "ccb399f1-8b5c-42c5-96ac-098173551a3e",
   "metadata": {
    "jupyter": {
     "source_hidden": true
    }
   },
   "outputs": [],
   "source": [
    "%%capture\n",
    "index = 0\n",
    "val = []\n",
    "for data in my_data['budget']:\n",
    "    #print(data)\n",
    "    if type(data) == str and ('AZM' in data):\n",
    "        #print(data)\n",
    "        val.append(index)\n",
    "    index = index + 1\n",
    "for index in val:\n",
    "    my_data[\"budget\"][index] = my_data['budget'][index].replace('AZM','')\n",
    "    my_data[\"budget\"][index] = int(my_data[\"budget\"][index])*0.59"
   ]
  },
  {
   "cell_type": "code",
   "execution_count": 576,
   "id": "ca791939-7782-4522-8f6a-3d02510a0978",
   "metadata": {
    "jupyter": {
     "source_hidden": true
    }
   },
   "outputs": [],
   "source": [
    "%%capture\n",
    "index = 0\n",
    "val = []\n",
    "for data in my_data['budget']:\n",
    "    #print(data)\n",
    "    if type(data) == str and ('SGD' in data):\n",
    "        #print(data)\n",
    "        val.append(index)\n",
    "    index = index + 1\n",
    "for index in val:\n",
    "    my_data[\"budget\"][index] = my_data['budget'][index].replace('SGD','')\n",
    "    my_data[\"budget\"][index] = int(my_data[\"budget\"][index])*0.74"
   ]
  },
  {
   "cell_type": "code",
   "execution_count": 577,
   "id": "f0e74006-9559-47ca-8837-e0b0e3725644",
   "metadata": {
    "jupyter": {
     "source_hidden": true
    }
   },
   "outputs": [],
   "source": [
    "%%capture\n",
    "index = 0\n",
    "val = []\n",
    "for data in my_data['budget']:\n",
    "    #print(data)\n",
    "    if type(data) == str and ('PLN' in data):\n",
    "        #print(data)\n",
    "        val.append(index)\n",
    "    index = index + 1\n",
    "for index in val:\n",
    "    my_data[\"budget\"][index] = my_data['budget'][index].replace('PLN','')\n",
    "    my_data[\"budget\"][index] = int(my_data[\"budget\"][index])*0.25"
   ]
  },
  {
   "cell_type": "code",
   "execution_count": 578,
   "id": "aa85d200-e276-4d08-9127-8bee4f31fe7a",
   "metadata": {
    "jupyter": {
     "source_hidden": true
    }
   },
   "outputs": [],
   "source": [
    "%%capture\n",
    "index = 0\n",
    "val = []\n",
    "for data in my_data['budget']:\n",
    "    #print(data)\n",
    "    if type(data) == str and ('BDT' in data):\n",
    "        #print(data)\n",
    "        val.append(index)\n",
    "    index = index + 1\n",
    "for index in val:\n",
    "    my_data[\"budget\"][index] = my_data['budget'][index].replace('BDT','')\n",
    "    my_data[\"budget\"][index] = int(my_data[\"budget\"][index])*0.0091"
   ]
  },
  {
   "cell_type": "code",
   "execution_count": 579,
   "id": "84b0574d-e3b2-4d80-a357-4596e9e96e14",
   "metadata": {
    "jupyter": {
     "source_hidden": true
    }
   },
   "outputs": [],
   "source": [
    "%%capture\n",
    "index = 0\n",
    "val = []\n",
    "for data in my_data['budget']:\n",
    "    #print(data)\n",
    "    if type(data) == str and ('ESP' in data):\n",
    "        #print(data)\n",
    "        val.append(index)\n",
    "    index = index + 1\n",
    "for index in val:\n",
    "    my_data[\"budget\"][index] = my_data['budget'][index].replace('ESP','')\n",
    "    my_data[\"budget\"][index] = int(my_data[\"budget\"][index])*1.08"
   ]
  },
  {
   "cell_type": "code",
   "execution_count": 580,
   "id": "16e4c4de-93a4-4bd3-bff4-072045020f16",
   "metadata": {
    "jupyter": {
     "source_hidden": true
    }
   },
   "outputs": [],
   "source": [
    "%%capture\n",
    "index = 0\n",
    "val = []\n",
    "for data in my_data['budget']:\n",
    "    #print(data)\n",
    "    if type(data) == str and ('MYR' in data):\n",
    "        #print(data)\n",
    "        val.append(index)\n",
    "    index = index + 1\n",
    "for index in val:\n",
    "    my_data[\"budget\"][index] = my_data['budget'][index].replace('MYR','')\n",
    "    my_data[\"budget\"][index] = int(my_data[\"budget\"][index])*0.211663"
   ]
  },
  {
   "cell_type": "code",
   "execution_count": 581,
   "id": "1ef56c54-c8c7-4b98-9b26-763da35c27a3",
   "metadata": {
    "jupyter": {
     "source_hidden": true
    }
   },
   "outputs": [],
   "source": [
    "%%capture\n",
    "index = 0\n",
    "val = []\n",
    "for data in my_data['budget']:\n",
    "    #print(data)\n",
    "    if type(data) == str and ('VND' in data):\n",
    "        #print(data)\n",
    "        val.append(index)\n",
    "    index = index + 1\n",
    "for index in val:\n",
    "    my_data[\"budget\"][index] = my_data['budget'][index].replace('VND','')\n",
    "    my_data[\"budget\"][index] = int(my_data[\"budget\"][index])*0.00004"
   ]
  },
  {
   "cell_type": "code",
   "execution_count": 582,
   "id": "9bbc30bd-07ef-4e6a-8476-19ff6ae8cfb6",
   "metadata": {
    "jupyter": {
     "source_hidden": true
    },
    "scrolled": true
   },
   "outputs": [],
   "source": [
    "%%capture\n",
    "index = 0\n",
    "val = []\n",
    "for data in my_data['budget']:\n",
    "    #print(data)\n",
    "    if type(data) == str and ('BGL' in data):\n",
    "        #print(data)\n",
    "        val.append(index)\n",
    "    index = index + 1\n",
    "for index in val:\n",
    "    my_data[\"budget\"][index] = my_data['budget'][index].replace('BGL','')\n",
    "    my_data[\"budget\"][index] = int(my_data[\"budget\"][index])*0.55"
   ]
  },
  {
   "cell_type": "code",
   "execution_count": 583,
   "id": "13350544-b4d2-422b-9d9c-67a9cb7d2387",
   "metadata": {
    "jupyter": {
     "source_hidden": true
    }
   },
   "outputs": [],
   "source": [
    "%%capture\n",
    "index = 0\n",
    "val = []\n",
    "for data in my_data['budget']:\n",
    "    #print(data)\n",
    "    if type(data) == str and ('ISK' in data):\n",
    "        #print(data)\n",
    "        val.append(index)\n",
    "    index = index + 1\n",
    "for index in val:\n",
    "    my_data[\"budget\"][index] = my_data['budget'][index].replace('ISK','')\n",
    "    my_data[\"budget\"][index] = int(my_data[\"budget\"][index])*0.0072"
   ]
  },
  {
   "cell_type": "code",
   "execution_count": 584,
   "id": "63564357-7278-4cae-9dfe-d29c5d2f4ffd",
   "metadata": {
    "jupyter": {
     "source_hidden": true
    }
   },
   "outputs": [],
   "source": [
    "%%capture\n",
    "index = 0\n",
    "val = []\n",
    "for data in my_data['budget']:\n",
    "    #print(data)\n",
    "    if type(data) == str and ('EEK' in data):\n",
    "        #print(data)\n",
    "        val.append(index)\n",
    "    index = index + 1\n",
    "for index in val:\n",
    "    my_data[\"budget\"][index] = my_data['budget'][index].replace('EEK','')\n",
    "    my_data[\"budget\"][index] = int(my_data[\"budget\"][index])*0.0690014"
   ]
  },
  {
   "cell_type": "code",
   "execution_count": 585,
   "id": "56f2e8d2-7882-493e-b559-f66516069052",
   "metadata": {
    "jupyter": {
     "source_hidden": true
    }
   },
   "outputs": [],
   "source": [
    "%%capture\n",
    "index = 0\n",
    "val = []\n",
    "for data in my_data['budget']:\n",
    "    #print(data)\n",
    "    if type(data) == str and ('BEF' in data):\n",
    "        #print(data)\n",
    "        val.append(index)\n",
    "    index = index + 1\n",
    "for index in val:\n",
    "    my_data[\"budget\"][index] = my_data['budget'][index].replace('BEF','')\n",
    "    my_data[\"budget\"][index] = int(my_data[\"budget\"][index])*0.0267636"
   ]
  },
  {
   "cell_type": "code",
   "execution_count": 586,
   "id": "1382b775-f90e-416f-846e-3ce67f363f1f",
   "metadata": {
    "jupyter": {
     "source_hidden": true
    }
   },
   "outputs": [],
   "source": [
    "%%capture\n",
    "index = 0\n",
    "val = []\n",
    "for data in my_data['budget']:\n",
    "    #print(data)\n",
    "    if type(data) == str and ('ROL' in data):\n",
    "        #print(data)\n",
    "        val.append(index)\n",
    "    index = index + 1\n",
    "for index in val:\n",
    "    my_data[\"budget\"][index] = my_data['budget'][index].replace('ROL','')\n",
    "    my_data[\"budget\"][index] = int(my_data[\"budget\"][index])*0.22"
   ]
  },
  {
   "cell_type": "code",
   "execution_count": 587,
   "id": "b9ac5a0c-9602-43c0-aa3e-133fe59c7a66",
   "metadata": {
    "jupyter": {
     "source_hidden": true
    }
   },
   "outputs": [],
   "source": [
    "%%capture\n",
    "index = 0\n",
    "val = []\n",
    "for data in my_data['budget']:\n",
    "    #print(data)\n",
    "    if type(data) == str and ('COP' in data):\n",
    "        #print(data)\n",
    "        val.append(index)\n",
    "    index = index + 1\n",
    "for index in val:\n",
    "    my_data[\"budget\"][index] = my_data['budget'][index].replace('COP','')\n",
    "    my_data[\"budget\"][index] = int(my_data[\"budget\"][index])*0.00026"
   ]
  },
  {
   "cell_type": "code",
   "execution_count": 588,
   "id": "c4df6106-d17c-45f9-a20c-d85db364c6cf",
   "metadata": {
    "jupyter": {
     "source_hidden": true
    }
   },
   "outputs": [],
   "source": [
    "%%capture\n",
    "index = 0\n",
    "val = []\n",
    "for data in my_data['budget']:\n",
    "    #print(data)\n",
    "    if type(data) == str and ('LKR' in data):\n",
    "        #print(data)\n",
    "        val.append(index)\n",
    "    index = index + 1\n",
    "for index in val:\n",
    "    my_data[\"budget\"][index] = my_data['budget'][index].replace('LKR','')\n",
    "    my_data[\"budget\"][index] = int(my_data[\"budget\"][index])*0.0033"
   ]
  },
  {
   "cell_type": "code",
   "execution_count": 589,
   "id": "0d2b1dd9-1a80-4878-a1d0-8f81ad7391c6",
   "metadata": {
    "jupyter": {
     "source_hidden": true
    }
   },
   "outputs": [],
   "source": [
    "%%capture\n",
    "index = 0\n",
    "val = []\n",
    "for data in my_data['budget']:\n",
    "    #print(data)\n",
    "    if type(data) == str and ('PHP' in data):\n",
    "        #print(data)\n",
    "        val.append(index)\n",
    "    index = index + 1\n",
    "for index in val:\n",
    "    my_data[\"budget\"][index] = my_data['budget'][index].replace('PHP','')\n",
    "    my_data[\"budget\"][index] = int(my_data[\"budget\"][index])*0.018"
   ]
  },
  {
   "cell_type": "code",
   "execution_count": 590,
   "id": "29033714-0352-4afd-8182-dfe5f1100a11",
   "metadata": {
    "jupyter": {
     "source_hidden": true
    }
   },
   "outputs": [],
   "source": [
    "%%capture\n",
    "index = 0\n",
    "val = []\n",
    "for data in my_data['budget']:\n",
    "    #print(data)\n",
    "    if type(data) == str and ('PKR' in data):\n",
    "        #print(data)\n",
    "        val.append(index)\n",
    "    index = index + 1\n",
    "for index in val:\n",
    "    my_data[\"budget\"][index] = my_data['budget'][index].replace('PKR','')\n",
    "    my_data[\"budget\"][index] = int(my_data[\"budget\"][index])*0.0036"
   ]
  },
  {
   "cell_type": "code",
   "execution_count": 591,
   "id": "defacd77-8c72-4f20-9cd7-7608c77431fb",
   "metadata": {
    "jupyter": {
     "source_hidden": true
    }
   },
   "outputs": [],
   "source": [
    "%%capture\n",
    "index = 0\n",
    "val = []\n",
    "for data in my_data['budget']:\n",
    "    #print(data)\n",
    "    if type(data) == str and ('SIT' in data):\n",
    "        #print(data)\n",
    "        val.append(index)\n",
    "    index = index + 1\n",
    "for index in val:\n",
    "    my_data[\"budget\"][index] = my_data['budget'][index].replace('SIT','')\n",
    "    my_data[\"budget\"][index] = int(my_data[\"budget\"][index])*0.0045114867"
   ]
  },
  {
   "cell_type": "code",
   "execution_count": 592,
   "id": "bb191ed7-1ea8-4584-8308-9fb0fe907c6e",
   "metadata": {
    "jupyter": {
     "source_hidden": true
    }
   },
   "outputs": [],
   "source": [
    "%%capture\n",
    "index = 0\n",
    "val = []\n",
    "for data in my_data['budget']:\n",
    "    #print(data)\n",
    "    if type(data) == str and ('ZAR' in data):\n",
    "        #print(data)\n",
    "        val.append(index)\n",
    "    index = index + 1\n",
    "for index in val:\n",
    "    my_data[\"budget\"][index] = my_data['budget'][index].replace('ZAR','')\n",
    "    my_data[\"budget\"][index] = int(my_data[\"budget\"][index])*0.054"
   ]
  },
  {
   "cell_type": "code",
   "execution_count": 593,
   "id": "bc57a3d6-1fea-43d5-8db6-c4751f87aae1",
   "metadata": {
    "jupyter": {
     "source_hidden": true
    },
    "scrolled": true
   },
   "outputs": [],
   "source": [
    "%%capture\n",
    "index = 0\n",
    "val = []\n",
    "for data in my_data['budget']:\n",
    "    #print(data)\n",
    "    if type(data) == str and ('CHF' in data):\n",
    "        #print(data)\n",
    "        val.append(index)\n",
    "    index = index + 1\n",
    "for index in val:\n",
    "    my_data[\"budget\"][index] = my_data['budget'][index].replace('CHF','')\n",
    "    my_data[\"budget\"][index] = int(my_data[\"budget\"][index])*1.11"
   ]
  },
  {
   "cell_type": "code",
   "execution_count": 594,
   "id": "bd623341-de67-4efe-84f9-01b5016b24e8",
   "metadata": {
    "jupyter": {
     "source_hidden": true
    }
   },
   "outputs": [],
   "source": [
    "%%capture\n",
    "index = 0\n",
    "val = []\n",
    "for data in my_data['budget']:\n",
    "    #print(data)\n",
    "    if type(data) == str and ('ILS' in data):\n",
    "        #print(data)\n",
    "        val.append(index)\n",
    "    index = index + 1\n",
    "for index in val:\n",
    "    my_data[\"budget\"][index] = my_data['budget'][index].replace('ILS','')\n",
    "    my_data[\"budget\"][index] = int(my_data[\"budget\"][index])*0.27"
   ]
  },
  {
   "cell_type": "code",
   "execution_count": 595,
   "id": "defe0262-fdc6-43c1-903e-a9a578f2dea0",
   "metadata": {
    "jupyter": {
     "source_hidden": true
    }
   },
   "outputs": [],
   "source": [
    "%%capture\n",
    "index = 0\n",
    "val = []\n",
    "for data in my_data['budget']:\n",
    "    #print(data)\n",
    "    if type(data) == str and ('CLP' in data):\n",
    "        #print(data)\n",
    "        val.append(index)\n",
    "    index = index + 1\n",
    "for index in val:\n",
    "    my_data[\"budget\"][index] = my_data['budget'][index].replace('CLP','')\n",
    "    my_data[\"budget\"][index] = int(my_data[\"budget\"][index])*0.0010"
   ]
  },
  {
   "cell_type": "code",
   "execution_count": 596,
   "id": "0f18b1ff-0604-42d9-95ae-acca7fd11d16",
   "metadata": {
    "jupyter": {
     "source_hidden": true
    }
   },
   "outputs": [],
   "source": [
    "%%capture\n",
    "index = 0\n",
    "val = []\n",
    "for data in my_data['budget']:\n",
    "    #print(data)\n",
    "    if type(data) == str and ('LVL' in data):\n",
    "        #print(data)\n",
    "        val.append(index)\n",
    "    index = index + 1\n",
    "for index in val:\n",
    "    my_data[\"budget\"][index] = my_data['budget'][index].replace('LVL','')\n",
    "    my_data[\"budget\"][index] = int(my_data[\"budget\"][index])*1.65"
   ]
  },
  {
   "cell_type": "code",
   "execution_count": 597,
   "id": "d7c3dc0f-2163-4ab4-8988-13ef899faa76",
   "metadata": {
    "jupyter": {
     "source_hidden": true
    }
   },
   "outputs": [],
   "source": [
    "%%capture\n",
    "index = 0\n",
    "val = []\n",
    "for data in my_data['budget']:\n",
    "    #print(data)\n",
    "    if type(data) == str and ('NPR' in data):\n",
    "        #print(data)\n",
    "        val.append(index)\n",
    "    index = index + 1\n",
    "for index in val:\n",
    "    my_data[\"budget\"][index] = my_data['budget'][index].replace('NPR','')\n",
    "    my_data[\"budget\"][index] = int(my_data[\"budget\"][index])*0.0075"
   ]
  },
  {
   "cell_type": "code",
   "execution_count": 598,
   "id": "e9c6b2d1-2ae1-4025-813f-b4baf6e5a3d1",
   "metadata": {
    "jupyter": {
     "source_hidden": true
    }
   },
   "outputs": [],
   "source": [
    "%%capture\n",
    "index = 0\n",
    "val = []\n",
    "for data in my_data['budget']:\n",
    "    #print(data)\n",
    "    if type(data) == str and ('YUM' in data):\n",
    "        #print(data)\n",
    "        val.append(index)\n",
    "    index = index + 1\n",
    "for index in val:\n",
    "    my_data[\"budget\"][index] = my_data['budget'][index].replace('YUM','')\n",
    "    my_data[\"budget\"][index] = int(my_data[\"budget\"][index])*0.552499"
   ]
  },
  {
   "cell_type": "code",
   "execution_count": 599,
   "id": "db207198-190e-4a2b-bbcb-a82017aa2dec",
   "metadata": {
    "jupyter": {
     "source_hidden": true
    }
   },
   "outputs": [],
   "source": [
    "%%capture\n",
    "index = 0\n",
    "val = []\n",
    "for data in my_data['budget']:\n",
    "    #print(data)\n",
    "    if type(data) == str and ('TWD' in data):\n",
    "        #print(data)\n",
    "        val.append(index)\n",
    "    index = index + 1\n",
    "for index in val:\n",
    "    my_data[\"budget\"][index] = my_data['budget'][index].replace('TWD','')\n",
    "    my_data[\"budget\"][index] = int(my_data[\"budget\"][index])*0.031"
   ]
  },
  {
   "cell_type": "code",
   "execution_count": 600,
   "id": "d0fb5cc2-0e49-4cfe-993c-1c67772790a6",
   "metadata": {
    "jupyter": {
     "source_hidden": true
    }
   },
   "outputs": [],
   "source": [
    "%%capture\n",
    "index = 0\n",
    "val = []\n",
    "for data in my_data['budget']:\n",
    "    #print(data)\n",
    "    if type(data) == str and ('GEL' in data):\n",
    "        #print(data)\n",
    "        val.append(index)\n",
    "    index = index + 1\n",
    "for index in val:\n",
    "    my_data[\"budget\"][index] = my_data['budget'][index].replace('GEL','')\n",
    "    my_data[\"budget\"][index] = int(my_data[\"budget\"][index])*0.37"
   ]
  },
  {
   "cell_type": "code",
   "execution_count": 601,
   "id": "c0e73c24-5794-4f7d-8cd1-175e65d98d37",
   "metadata": {
    "jupyter": {
     "source_hidden": true
    }
   },
   "outputs": [],
   "source": [
    "%%capture\n",
    "index = 0\n",
    "val = []\n",
    "for data in my_data['budget']:\n",
    "    #print(data)\n",
    "    if type(data) == str and ('AMD' in data):\n",
    "        #print(data)\n",
    "        val.append(index)\n",
    "    index = index + 1\n",
    "for index in val:\n",
    "    my_data[\"budget\"][index] = my_data['budget'][index].replace('AMD','')\n",
    "    my_data[\"budget\"][index] = int(my_data[\"budget\"][index])*0.0035"
   ]
  },
  {
   "cell_type": "code",
   "execution_count": 602,
   "id": "e1392566-8e3d-4a5f-ab66-2ce3bc9011fa",
   "metadata": {
    "jupyter": {
     "source_hidden": true
    }
   },
   "outputs": [],
   "source": [
    "%%capture\n",
    "index = 0\n",
    "val = []\n",
    "for data in my_data['budget']:\n",
    "    #print(data)\n",
    "    if type(data) == str and ('NGN' in data):\n",
    "        #print(data)\n",
    "        val.append(index)\n",
    "    index = index + 1\n",
    "for index in val:\n",
    "    my_data[\"budget\"][index] = my_data['budget'][index].replace('NGN','')\n",
    "    my_data[\"budget\"][index] = int(my_data[\"budget\"][index])*0.00076"
   ]
  },
  {
   "cell_type": "code",
   "execution_count": 603,
   "id": "33bbda9c-fa9a-4cd1-bf25-98c5c4867919",
   "metadata": {
    "jupyter": {
     "source_hidden": true
    }
   },
   "outputs": [],
   "source": [
    "%%capture\n",
    "index = 0\n",
    "val = []\n",
    "for data in my_data['budget']:\n",
    "    #print(data)\n",
    "    if type(data) == str and ('HRK' in data):\n",
    "        #print(data)\n",
    "        val.append(index)\n",
    "    index = index + 1\n",
    "for index in val:\n",
    "    my_data[\"budget\"][index] = my_data['budget'][index].replace('HRK','')\n",
    "    my_data[\"budget\"][index] = int(my_data[\"budget\"][index])*0.14244"
   ]
  },
  {
   "cell_type": "code",
   "execution_count": 604,
   "id": "bee0e41c-4ae7-405f-bd27-a9891c47cff7",
   "metadata": {
    "jupyter": {
     "source_hidden": true
    }
   },
   "outputs": [],
   "source": [
    "%%capture\n",
    "index = 0\n",
    "val = []\n",
    "for data in my_data['budget']:\n",
    "    #print(data)\n",
    "    if type(data) == str and ('MTL' in data):\n",
    "        #print(data)\n",
    "        val.append(index)\n",
    "    index = index + 1\n",
    "for index in val:\n",
    "    my_data[\"budget\"][index] = my_data['budget'][index].replace('MTL','')\n",
    "    my_data[\"budget\"][index] = int(my_data[\"budget\"][index])*2.51488"
   ]
  },
  {
   "cell_type": "code",
   "execution_count": 605,
   "id": "b1086efb-aef8-4e67-b4ec-bb661fee2422",
   "metadata": {
    "jupyter": {
     "source_hidden": true
    }
   },
   "outputs": [],
   "source": [
    "%%capture\n",
    "index = 0\n",
    "val = []\n",
    "for data in my_data['budget']:\n",
    "    #print(data)\n",
    "    if type(data) == str and ('MNT' in data):\n",
    "        #print(data)\n",
    "        val.append(index)\n",
    "    index = index + 1\n",
    "for index in val:\n",
    "    my_data[\"budget\"][index] = my_data['budget'][index].replace('MNT','')\n",
    "    my_data[\"budget\"][index] = int(my_data[\"budget\"][index])*0.00030"
   ]
  },
  {
   "cell_type": "code",
   "execution_count": 606,
   "id": "3a8c0ead-4ccb-4256-92c6-77f2e97107e1",
   "metadata": {
    "jupyter": {
     "source_hidden": true
    }
   },
   "outputs": [],
   "source": [
    "%%capture\n",
    "index = 0\n",
    "val = []\n",
    "for data in my_data['budget']:\n",
    "    #print(data)\n",
    "    if type(data) == str and ('LTL' in data):\n",
    "        #print(data)\n",
    "        val.append(index)\n",
    "    index = index + 1\n",
    "for index in val:\n",
    "    my_data[\"budget\"][index] = my_data['budget'][index].replace('LTL','')\n",
    "    my_data[\"budget\"][index] = int(my_data[\"budget\"][index])*0.312685"
   ]
  },
  {
   "cell_type": "code",
   "execution_count": 607,
   "id": "abe34929-939f-4f25-ba82-495e70192406",
   "metadata": {
    "jupyter": {
     "source_hidden": true
    }
   },
   "outputs": [],
   "source": [
    "%%capture\n",
    "index = 0\n",
    "val = []\n",
    "for data in my_data['budget']:\n",
    "    #print(data)\n",
    "    if type(data) == str and ('AED' in data):\n",
    "        #print(data)\n",
    "        val.append(index)\n",
    "    index = index + 1\n",
    "for index in val:\n",
    "    my_data[\"budget\"][index] = my_data['budget'][index].replace('AED','')\n",
    "    my_data[\"budget\"][index] = int(my_data[\"budget\"][index])*0.27"
   ]
  },
  {
   "cell_type": "code",
   "execution_count": 608,
   "id": "091929ef-5503-4208-a341-08863eb866d7",
   "metadata": {
    "jupyter": {
     "source_hidden": true
    }
   },
   "outputs": [],
   "source": [
    "%%capture\n",
    "index = 0\n",
    "val = []\n",
    "for data in my_data['budget']:\n",
    "    #print(data)\n",
    "    if type(data) == str and ('TTD' in data):\n",
    "        #print(data)\n",
    "        val.append(index)\n",
    "    index = index + 1\n",
    "for index in val:\n",
    "    my_data[\"budget\"][index] = my_data['budget'][index].replace('TTD','')\n",
    "    my_data[\"budget\"][index] = int(my_data[\"budget\"][index])*0.15"
   ]
  },
  {
   "cell_type": "code",
   "execution_count": 609,
   "id": "d539907c-4a96-4bc9-b70e-8fe5146d5f28",
   "metadata": {
    "jupyter": {
     "source_hidden": true
    }
   },
   "outputs": [],
   "source": [
    "%%capture\n",
    "index = 0\n",
    "val = []\n",
    "for data in my_data['budget']:\n",
    "    #print(data)\n",
    "    if type(data) == str and ('BND' in data):\n",
    "        #print(data)\n",
    "        val.append(index)\n",
    "    index = index + 1\n",
    "for index in val:\n",
    "    my_data[\"budget\"][index] = my_data['budget'][index].replace('BND','')\n",
    "    my_data[\"budget\"][index] = int(my_data[\"budget\"][index])*0.74"
   ]
  },
  {
   "cell_type": "code",
   "execution_count": 610,
   "id": "115b2b25-527a-40f6-ae99-f7d15ade0e6e",
   "metadata": {
    "jupyter": {
     "source_hidden": true
    }
   },
   "outputs": [],
   "source": [
    "%%capture\n",
    "index = 0\n",
    "val = []\n",
    "for data in my_data['budget']:\n",
    "    #print(data)\n",
    "    if type(data) == str and ('IEP' in data):\n",
    "        #print(data)\n",
    "        val.append(index)\n",
    "    index = index + 1\n",
    "for index in val:\n",
    "    my_data[\"budget\"][index] = my_data['budget'][index].replace('IEP','')\n",
    "    my_data[\"budget\"][index] = int(my_data[\"budget\"][index])*1.37086"
   ]
  },
  {
   "cell_type": "code",
   "execution_count": 611,
   "id": "af00a19e-4bdd-4227-9cc0-ac045a843dac",
   "metadata": {
    "jupyter": {
     "source_hidden": true
    }
   },
   "outputs": [],
   "source": [
    "%%capture\n",
    "index = 0\n",
    "val = []\n",
    "for data in my_data['budget']:\n",
    "    #print(data)\n",
    "    if type(data) == str and ('RON' in data):\n",
    "        #print(data)\n",
    "        val.append(index)\n",
    "    index = index + 1\n",
    "for index in val:\n",
    "    my_data[\"budget\"][index] = my_data['budget'][index].replace('RON','')\n",
    "    my_data[\"budget\"][index] = int(my_data[\"budget\"][index])*0.22"
   ]
  },
  {
   "cell_type": "code",
   "execution_count": 612,
   "id": "4bb79a1d-7d69-470a-ae80-8bc67bdaa77f",
   "metadata": {
    "jupyter": {
     "source_hidden": true
    }
   },
   "outputs": [],
   "source": [
    "%%capture\n",
    "index = 0\n",
    "val = []\n",
    "for data in my_data['budget']:\n",
    "    #print(data)\n",
    "    if type(data) == str and ('ALL' in data):\n",
    "        #print(data)\n",
    "        val.append(index)\n",
    "    index = index + 1\n",
    "for index in val:\n",
    "    my_data[\"budget\"][index] = my_data['budget'][index].replace('ALL','')\n",
    "    my_data[\"budget\"][index] = int(my_data[\"budget\"][index])*1.35"
   ]
  },
  {
   "cell_type": "code",
   "execution_count": 613,
   "id": "31284ccb-f1f5-4a31-925a-da83333cd444",
   "metadata": {
    "jupyter": {
     "source_hidden": true
    }
   },
   "outputs": [],
   "source": [
    "%%capture\n",
    "index = 0\n",
    "val = []\n",
    "for data in my_data['budget']:\n",
    "    #print(data)\n",
    "    if type(data) == str and ('INR' in data):\n",
    "        #print(data)\n",
    "        val.append(index)\n",
    "    index = index + 1\n",
    "for index in val:\n",
    "    my_data[\"budget\"][index] = my_data['budget'][index].replace('INR','')\n",
    "    my_data[\"budget\"][index] = int(my_data[\"budget\"][index])*0.012"
   ]
  },
  {
   "cell_type": "code",
   "execution_count": 614,
   "id": "540d4d0f-5f11-40eb-a2c3-5289b696158f",
   "metadata": {
    "jupyter": {
     "source_hidden": true
    }
   },
   "outputs": [],
   "source": [
    "%%capture\n",
    "index = 0\n",
    "val = []\n",
    "for data in my_data['budget']:\n",
    "    #print(data)\n",
    "    if type(data) == str and ('JOD' in data):\n",
    "        #print(data)\n",
    "        val.append(index)\n",
    "    index = index + 1\n",
    "for index in val:\n",
    "    my_data[\"budget\"][index] = my_data['budget'][index].replace('JOD','')\n",
    "    my_data[\"budget\"][index] = int(my_data[\"budget\"][index])*1.41"
   ]
  },
  {
   "cell_type": "code",
   "execution_count": 615,
   "id": "d7501075-e919-4928-90e8-3cd150770b0d",
   "metadata": {
    "jupyter": {
     "source_hidden": true
    }
   },
   "outputs": [],
   "source": [
    "%%capture\n",
    "index = 0\n",
    "val = []\n",
    "for data in my_data['budget']:\n",
    "    #print(data)\n",
    "    if type(data) == str and ('FIM' in data):\n",
    "        #print(data)\n",
    "        val.append(index)\n",
    "    index = index + 1\n",
    "for index in val:\n",
    "    my_data[\"budget\"][index] = my_data['budget'][index].replace('FIM','')\n",
    "    my_data[\"budget\"][index] = int(my_data[\"budget\"][index])*0.18"
   ]
  },
  {
   "cell_type": "code",
   "execution_count": 616,
   "id": "cecc81fa-63f8-4524-9a8f-4316eb16d7d1",
   "metadata": {
    "jupyter": {
     "source_hidden": true
    }
   },
   "outputs": [],
   "source": [
    "%%capture\n",
    "index = 0\n",
    "val = []\n",
    "for data in my_data['budget']:\n",
    "    #print(data)\n",
    "    if type(data) == str and ('UAH' in data):\n",
    "        #print(data)\n",
    "        val.append(index)\n",
    "    index = index + 1\n",
    "for index in val:\n",
    "    my_data[\"budget\"][index] = my_data['budget'][index].replace('UAH','')\n",
    "    my_data[\"budget\"][index] = int(my_data[\"budget\"][index])*0.026"
   ]
  },
  {
   "cell_type": "code",
   "execution_count": 617,
   "id": "7975b545-feca-4b1b-9716-c8af2576857d",
   "metadata": {
    "jupyter": {
     "source_hidden": true
    }
   },
   "outputs": [],
   "source": [
    "%%capture\n",
    "index = 0\n",
    "val = []\n",
    "for data in my_data['budget']:\n",
    "    #print(data)\n",
    "    if type(data) == str and ('VEB' in data):\n",
    "        #print(data)\n",
    "        val.append(index)\n",
    "    index = index + 1\n",
    "for index in val:\n",
    "    my_data[\"budget\"][index] = my_data['budget'][index].replace('VEB','')\n",
    "    my_data[\"budget\"][index] = int(my_data[\"budget\"][index])*0.0276"
   ]
  },
  {
   "cell_type": "code",
   "execution_count": 618,
   "id": "cd5cb655-494b-4242-9ba4-c6f67a1b3e89",
   "metadata": {
    "jupyter": {
     "source_hidden": true
    }
   },
   "outputs": [],
   "source": [
    "%%capture\n",
    "index = 0\n",
    "val = []\n",
    "for data in my_data['budget']:\n",
    "    #print(data)\n",
    "    if type(data) == str and ('SKK' in data):\n",
    "        #print(data)\n",
    "        val.append(index)\n",
    "    index = index + 1\n",
    "for index in val:\n",
    "    my_data[\"budget\"][index] = my_data['budget'][index].replace('SKK','')\n",
    "    my_data[\"budget\"][index] = int(my_data[\"budget\"][index])*0.0360411"
   ]
  },
  {
   "cell_type": "code",
   "execution_count": 619,
   "id": "c9ab4810-7ca0-4409-82e4-803acd18dc1e",
   "metadata": {
    "jupyter": {
     "source_hidden": true
    }
   },
   "outputs": [],
   "source": [
    "%%capture\n",
    "index = 0\n",
    "val = []\n",
    "for data in my_data['budget']:\n",
    "    #print(data)\n",
    "    if type(data) == str and ('ATS' in data):\n",
    "        #print(data)\n",
    "        val.append(index)\n",
    "    index = index + 1\n",
    "for index in val:\n",
    "    my_data[\"budget\"][index] = my_data['budget'][index].replace('ATS','')\n",
    "    my_data[\"budget\"][index] = int(my_data[\"budget\"][index])*0.078836"
   ]
  },
  {
   "cell_type": "code",
   "execution_count": 620,
   "id": "4cf1595f-7234-4bb8-a2ef-0729b7abb8b3",
   "metadata": {
    "jupyter": {
     "source_hidden": true
    }
   },
   "outputs": [],
   "source": [
    "%%capture\n",
    "index = 0\n",
    "val = []\n",
    "for data in my_data['budget']:\n",
    "    #print(data)\n",
    "    if type(data) == str and ('PYG' in data):\n",
    "        #print(data)\n",
    "        val.append(index)\n",
    "    index = index + 1\n",
    "for index in val:\n",
    "    my_data[\"budget\"][index] = my_data['budget'][index].replace('PYG','')\n",
    "    my_data[\"budget\"][index] = int(my_data[\"budget\"][index])*0.00014"
   ]
  },
  {
   "cell_type": "code",
   "execution_count": 621,
   "id": "041d72b6-a4ca-4dd7-95dc-67315b82970c",
   "metadata": {
    "jupyter": {
     "source_hidden": true
    }
   },
   "outputs": [],
   "source": [
    "%%capture\n",
    "index = 0\n",
    "val = []\n",
    "for data in my_data['budget']:\n",
    "    #print(data)\n",
    "    if type(data) == str and ('JMD' in data):\n",
    "        #print(data)\n",
    "        val.append(index)\n",
    "    index = index + 1\n",
    "for index in val:\n",
    "    my_data[\"budget\"][index] = my_data['budget'][index].replace('JMD','')\n",
    "    my_data[\"budget\"][index] = int(my_data[\"budget\"][index])*0.0065"
   ]
  },
  {
   "cell_type": "code",
   "execution_count": 622,
   "id": "dac5ef02-a76a-4ba5-81c6-e8008d1bbeef",
   "metadata": {
    "jupyter": {
     "source_hidden": true
    }
   },
   "outputs": [],
   "source": [
    "%%capture\n",
    "index = 0\n",
    "val = []\n",
    "for data in my_data['budget']:\n",
    "    #print(data)\n",
    "    if type(data) == str and ('XAU' in data):\n",
    "        #print(data)\n",
    "        val.append(index)\n",
    "    index = index + 1\n",
    "for index in val:\n",
    "    my_data[\"budget\"][index] = my_data['budget'][index].replace('XAU','')\n",
    "    my_data[\"budget\"][index] = int(my_data[\"budget\"][index])* 2346.699989"
   ]
  },
  {
   "cell_type": "code",
   "execution_count": 623,
   "id": "7873b854-0ab5-4d30-b042-9cdbc200967f",
   "metadata": {
    "jupyter": {
     "source_hidden": true
    }
   },
   "outputs": [],
   "source": [
    "%%capture\n",
    "index = 0\n",
    "val = []\n",
    "for data in my_data['budget']:\n",
    "    #print(data)\n",
    "    if type(data) == str and ('GRD' in data):\n",
    "        #print(data)\n",
    "        val.append(index)\n",
    "    index = index + 1\n",
    "for index in val:\n",
    "    my_data[\"budget\"][index] = my_data['budget'][index].replace('GRD','')\n",
    "    my_data[\"budget\"][index] = int(my_data[\"budget\"][index])* 0.00318642"
   ]
  },
  {
   "cell_type": "code",
   "execution_count": 624,
   "id": "c7d78d17-6186-4fe7-9863-a711582e8eb1",
   "metadata": {},
   "outputs": [],
   "source": [
    "my_data[\"budget\"] = pd.to_numeric(my_data['budget'])"
   ]
  },
  {
   "cell_type": "code",
   "execution_count": 625,
   "id": "5e4e5654-f845-4029-91e7-d49238652151",
   "metadata": {},
   "outputs": [
    {
     "name": "stderr",
     "output_type": "stream",
     "text": [
      "C:\\Users\\minha\\AppData\\Local\\Temp\\ipykernel_24324\\3933946565.py:2: FutureWarning: A value is trying to be set on a copy of a DataFrame or Series through chained assignment using an inplace method.\n",
      "The behavior will change in pandas 3.0. This inplace method will never work because the intermediate object on which we are setting values always behaves as a copy.\n",
      "\n",
      "For example, when doing 'df[col].method(value, inplace=True)', try using 'df.method({col: value}, inplace=True)' or df[col] = df[col].method(value) instead, to perform the operation inplace on the original object.\n",
      "\n",
      "\n",
      "  my_data['budget'].fillna(mean, inplace = True)\n"
     ]
    }
   ],
   "source": [
    "mean = my_data['budget'].mean()\n",
    "my_data['budget'].fillna(mean, inplace = True)"
   ]
  },
  {
   "cell_type": "code",
   "execution_count": 626,
   "id": "9278effe-ba34-416f-91cd-7389b2369e9a",
   "metadata": {
    "jupyter": {
     "source_hidden": true
    },
    "scrolled": true
   },
   "outputs": [
    {
     "name": "stdout",
     "output_type": "stream",
     "text": [
      "<class 'pandas.core.frame.DataFrame'>\n",
      "RangeIndex: 20000 entries, 0 to 19999\n",
      "Data columns (total 16 columns):\n",
      " #   Column                 Non-Null Count  Dtype  \n",
      "---  ------                 --------------  -----  \n",
      " 0   title                  20000 non-null  object \n",
      " 1   original_title         20000 non-null  object \n",
      " 2   year                   20000 non-null  object \n",
      " 3   date_published         20000 non-null  object \n",
      " 4   genre                  20000 non-null  object \n",
      " 5   duration               20000 non-null  int64  \n",
      " 6   country                20000 non-null  object \n",
      " 7   language               20000 non-null  object \n",
      " 8   director               20000 non-null  object \n",
      " 9   writer                 20000 non-null  object \n",
      " 10  production_company     20000 non-null  object \n",
      " 11  actors                 20000 non-null  object \n",
      " 12  description            20000 non-null  object \n",
      " 13  budget                 20000 non-null  float64\n",
      " 14  usa_gross_income       20000 non-null  float64\n",
      " 15  worlwide_gross_income  20000 non-null  float64\n",
      "dtypes: float64(3), int64(1), object(12)\n",
      "memory usage: 2.4+ MB\n"
     ]
    }
   ],
   "source": [
    "my_data.info()"
   ]
  },
  {
   "cell_type": "markdown",
   "id": "775c2b1d-c36e-4deb-8aaa-75fab66862b5",
   "metadata": {},
   "source": [
    "# Checkpoint"
   ]
  },
  {
   "cell_type": "code",
   "execution_count": 627,
   "id": "41c66b93-232c-47e9-a678-9626e20fbe1f",
   "metadata": {},
   "outputs": [],
   "source": [
    "my_data[\"change_title\"] = (my_data[\"title\"] == my_data[\"original_title\"]).astype(int)"
   ]
  },
  {
   "cell_type": "code",
   "execution_count": 628,
   "id": "4bb6f720-e9ce-42e3-acf2-3f61c66de565",
   "metadata": {},
   "outputs": [
    {
     "name": "stderr",
     "output_type": "stream",
     "text": [
      "C:\\Users\\minha\\AppData\\Local\\Temp\\ipykernel_24324\\1579076628.py:1: FutureWarning: ChainedAssignmentError: behaviour will change in pandas 3.0!\n",
      "You are setting values through chained assignment. Currently this works in certain cases, but when using Copy-on-Write (which will become the default behaviour in pandas 3.0) this will never work to update the original DataFrame or Series, because the intermediate object on which we are setting values will behave as a copy.\n",
      "A typical example is when you are setting values in a column of a DataFrame, like:\n",
      "\n",
      "df[\"col\"][row_indexer] = value\n",
      "\n",
      "Use `df.loc[row_indexer, \"col\"] = values` instead, to perform the assignment in a single step and ensure this keeps updating the original `df`.\n",
      "\n",
      "See the caveats in the documentation: https://pandas.pydata.org/pandas-docs/stable/user_guide/indexing.html#returning-a-view-versus-a-copy\n",
      "\n",
      "  my_data[\"year\"][8137] = 2019\n",
      "C:\\Users\\minha\\AppData\\Local\\Temp\\ipykernel_24324\\1579076628.py:1: SettingWithCopyWarning: \n",
      "A value is trying to be set on a copy of a slice from a DataFrame\n",
      "\n",
      "See the caveats in the documentation: https://pandas.pydata.org/pandas-docs/stable/user_guide/indexing.html#returning-a-view-versus-a-copy\n",
      "  my_data[\"year\"][8137] = 2019\n"
     ]
    }
   ],
   "source": [
    "my_data[\"year\"][8137] = 2019"
   ]
  },
  {
   "cell_type": "code",
   "execution_count": 629,
   "id": "c4fded08-a5ba-4d5a-8b31-c7e4d18a592a",
   "metadata": {},
   "outputs": [],
   "source": [
    "my_data[\"age\"] = 2024 - my_data[\"year\"].astype(int)"
   ]
  },
  {
   "cell_type": "code",
   "execution_count": 630,
   "id": "0bbc3126-450a-4913-801b-f9174ab037c5",
   "metadata": {},
   "outputs": [],
   "source": [
    "copy_data = my_data.copy()"
   ]
  },
  {
   "cell_type": "code",
   "execution_count": 631,
   "id": "88fd17e9-8e46-416f-a7fa-ec0879ed20b3",
   "metadata": {},
   "outputs": [],
   "source": [
    "# from sklearn.compose import ColumnTransformer\n",
    "# column_transformer = ColumnTransformer(\n",
    "#     transformers = [\n",
    "#         ('description_tranform', CountVectorizer(stop_words = 'english'), 'description')\n",
    "#     ],\n",
    "#     remainder = 'drop'\n",
    "# )\n",
    "# transformed_data = column_transformer.fit_transform(my_data)"
   ]
  },
  {
   "cell_type": "code",
   "execution_count": 632,
   "id": "70596ccf-bfa5-4e90-94b5-d3571c3e1c76",
   "metadata": {},
   "outputs": [],
   "source": [
    "# count_vec = column_transformer.named_transformers_[\"description_tranform\"]\n",
    "# feature_names = count_vec.get_feature_names_out()\n",
    "# prefixed_feature_names = [\"mat_\" + feature for feature in feature_names]\n",
    "\n",
    "# sparse_mat = pd.DataFrame.sparse.from_spmatrix(transformed_data, columns = prefixed_feature_names)\n",
    "# cols = []\n",
    "# for col in my_data.columns:\n",
    "#     cols.append(col)"
   ]
  },
  {
   "cell_type": "code",
   "execution_count": 633,
   "id": "36225552-e566-40d2-8981-f4fe11093588",
   "metadata": {},
   "outputs": [],
   "source": [
    "# sparse_mat.index = my_data.index"
   ]
  },
  {
   "cell_type": "code",
   "execution_count": 634,
   "id": "1bed5f00-f77a-4b1d-a29c-3864b655f4fd",
   "metadata": {},
   "outputs": [],
   "source": [
    "# my_data = pd.concat([my_data[cols], sparse_mat], axis = 1)"
   ]
  },
  {
   "cell_type": "code",
   "execution_count": 635,
   "id": "108f16d6-4186-49f0-a569-3085c0042188",
   "metadata": {},
   "outputs": [],
   "source": [
    "copy_data = pd.read_csv(\"data/train.csv\")\n",
    "huhu = pd.to_datetime(copy_data[\"date_published\"], errors = 'coerce')\n",
    "huhu = huhu.dt.strftime(\"%m-%d\")\n",
    "\n",
    "my_data[\"date_published\"] = huhu"
   ]
  },
  {
   "cell_type": "code",
   "execution_count": 636,
   "id": "a457b8b3-bf2a-4568-a063-185963af92a7",
   "metadata": {},
   "outputs": [],
   "source": [
    "refined_data = my_data.drop([\"title\", \"original_title\", \"year\", \"description\"], axis = 1)\n",
    "refined_data = refined_data.iloc[:, :15]"
   ]
  },
  {
   "cell_type": "code",
   "execution_count": 637,
   "id": "ff4d11b5-81b5-4d0d-b20e-8a55469469d7",
   "metadata": {},
   "outputs": [],
   "source": [
    "# still need to fix country, language, director, writer, production_comp, actors, budget, usa_gross_income, worldwide_gross_income\n",
    "\n",
    "refined_data.shape\n",
    "refined_data[\"genre\"] = refined_data[\"genre\"].str.split(', ')"
   ]
  },
  {
   "cell_type": "code",
   "execution_count": 638,
   "id": "6eaf8f17-2c56-45dc-b7d1-df8b5c64ea54",
   "metadata": {},
   "outputs": [],
   "source": [
    "refined_data[\"country\"] = refined_data[\"country\"].str.split(', ')\n",
    "refined_data[\"language\"] = refined_data[\"language\"].str.split(', ')\n",
    "refined_data[\"director\"] = refined_data[\"director\"].str.split(', ')\n",
    "refined_data[\"writer\"] = refined_data[\"writer\"].str.split(', ')\n",
    "refined_data[\"production_company\"] = refined_data[\"production_company\"].str.split(', ')\n",
    "refined_data[\"actors\"] = refined_data[\"actors\"].str.split(', ')"
   ]
  },
  {
   "cell_type": "code",
   "execution_count": 639,
   "id": "53d571b8-119f-4811-8adb-dc2ae53c5c48",
   "metadata": {},
   "outputs": [],
   "source": [
    "refined_data[['month', 'day']] = refined_data['date_published'].str.split('-', expand=True)\n",
    "\n",
    "refined_data['month'] = pd.to_numeric(refined_data['month'], errors='coerce')\n",
    "refined_data['day'] = pd.to_numeric(refined_data['day'], errors='coerce')"
   ]
  },
  {
   "cell_type": "code",
   "execution_count": 640,
   "id": "9a440d68-2bdf-45b4-b279-4ac90c130ae6",
   "metadata": {},
   "outputs": [
    {
     "data": {
      "text/html": [
       "<div>\n",
       "<style scoped>\n",
       "    .dataframe tbody tr th:only-of-type {\n",
       "        vertical-align: middle;\n",
       "    }\n",
       "\n",
       "    .dataframe tbody tr th {\n",
       "        vertical-align: top;\n",
       "    }\n",
       "\n",
       "    .dataframe thead th {\n",
       "        text-align: right;\n",
       "    }\n",
       "</style>\n",
       "<table border=\"1\" class=\"dataframe\">\n",
       "  <thead>\n",
       "    <tr style=\"text-align: right;\">\n",
       "      <th></th>\n",
       "      <th>date_published</th>\n",
       "      <th>genre</th>\n",
       "      <th>duration</th>\n",
       "      <th>country</th>\n",
       "      <th>language</th>\n",
       "      <th>director</th>\n",
       "      <th>writer</th>\n",
       "      <th>production_company</th>\n",
       "      <th>actors</th>\n",
       "      <th>budget</th>\n",
       "      <th>usa_gross_income</th>\n",
       "      <th>worlwide_gross_income</th>\n",
       "      <th>change_title</th>\n",
       "      <th>age</th>\n",
       "      <th>month</th>\n",
       "      <th>day</th>\n",
       "    </tr>\n",
       "  </thead>\n",
       "  <tbody>\n",
       "    <tr>\n",
       "      <th>0</th>\n",
       "      <td>147.0</td>\n",
       "      <td>[Drama]</td>\n",
       "      <td>104</td>\n",
       "      <td>[Austria]</td>\n",
       "      <td>[German, French]</td>\n",
       "      <td>[Monja Art]</td>\n",
       "      <td>[Monja Art]</td>\n",
       "      <td>[Orbrock Film]</td>\n",
       "      <td>[Elisabeth Wabitsch, Magdalena Wabitsch, Baile...</td>\n",
       "      <td>1.339135e+07</td>\n",
       "      <td>2.069060e+07</td>\n",
       "      <td>2.408318e+07</td>\n",
       "      <td>1</td>\n",
       "      <td>7</td>\n",
       "      <td>5.0</td>\n",
       "      <td>27.0</td>\n",
       "    </tr>\n",
       "    <tr>\n",
       "      <th>1</th>\n",
       "      <td>104.0</td>\n",
       "      <td>[Action, Drama]</td>\n",
       "      <td>88</td>\n",
       "      <td>[USA]</td>\n",
       "      <td>[Italian, German]</td>\n",
       "      <td>[Ari Taub]</td>\n",
       "      <td>[Caio Ribeiro]</td>\n",
       "      <td>[Hit &amp; Run Productions]</td>\n",
       "      <td>[Daniel Asher, C.J. Barkus, Gianluca Bianco, D...</td>\n",
       "      <td>3.000000e+05</td>\n",
       "      <td>2.069060e+07</td>\n",
       "      <td>2.408318e+07</td>\n",
       "      <td>1</td>\n",
       "      <td>14</td>\n",
       "      <td>4.0</td>\n",
       "      <td>14.0</td>\n",
       "    </tr>\n",
       "    <tr>\n",
       "      <th>2</th>\n",
       "      <td>315.0</td>\n",
       "      <td>[Action, Crime, Drama]</td>\n",
       "      <td>100</td>\n",
       "      <td>[USA]</td>\n",
       "      <td>[English]</td>\n",
       "      <td>[Paul Mones]</td>\n",
       "      <td>[Paul Mones]</td>\n",
       "      <td>[MDP Worldwide]</td>\n",
       "      <td>[Damian Chapa, Jennifer Rubin, Scott Plank, Wi...</td>\n",
       "      <td>1.339135e+07</td>\n",
       "      <td>2.069060e+07</td>\n",
       "      <td>2.408318e+07</td>\n",
       "      <td>1</td>\n",
       "      <td>30</td>\n",
       "      <td>11.0</td>\n",
       "      <td>15.0</td>\n",
       "    </tr>\n",
       "    <tr>\n",
       "      <th>3</th>\n",
       "      <td>178.0</td>\n",
       "      <td>[Drama, Horror, Mystery]</td>\n",
       "      <td>125</td>\n",
       "      <td>[Thailand]</td>\n",
       "      <td>[Thai]</td>\n",
       "      <td>[Sophon Sakdaphisit]</td>\n",
       "      <td>[Sopana Chaowwiwatkul, Sophon Sakdaphisit]</td>\n",
       "      <td>[Unknown]</td>\n",
       "      <td>[Saharat Sangkapreecha, Piyathida Woramusik, S...</td>\n",
       "      <td>1.339135e+07</td>\n",
       "      <td>2.069060e+07</td>\n",
       "      <td>5.755172e+06</td>\n",
       "      <td>1</td>\n",
       "      <td>13</td>\n",
       "      <td>6.0</td>\n",
       "      <td>28.0</td>\n",
       "    </tr>\n",
       "    <tr>\n",
       "      <th>4</th>\n",
       "      <td>63.0</td>\n",
       "      <td>[Drama]</td>\n",
       "      <td>115</td>\n",
       "      <td>[Canada]</td>\n",
       "      <td>[French]</td>\n",
       "      <td>[Robin Aubert]</td>\n",
       "      <td>[Robin Aubert]</td>\n",
       "      <td>[Max Films Productions]</td>\n",
       "      <td>[Trystan Bouthillier, Richard Robitaille, Patr...</td>\n",
       "      <td>1.339135e+07</td>\n",
       "      <td>2.069060e+07</td>\n",
       "      <td>2.408318e+07</td>\n",
       "      <td>1</td>\n",
       "      <td>14</td>\n",
       "      <td>3.0</td>\n",
       "      <td>3.0</td>\n",
       "    </tr>\n",
       "  </tbody>\n",
       "</table>\n",
       "</div>"
      ],
      "text/plain": [
       "   date_published                     genre  duration     country  \\\n",
       "0           147.0                   [Drama]       104   [Austria]   \n",
       "1           104.0           [Action, Drama]        88       [USA]   \n",
       "2           315.0    [Action, Crime, Drama]       100       [USA]   \n",
       "3           178.0  [Drama, Horror, Mystery]       125  [Thailand]   \n",
       "4            63.0                   [Drama]       115    [Canada]   \n",
       "\n",
       "            language              director  \\\n",
       "0   [German, French]           [Monja Art]   \n",
       "1  [Italian, German]            [Ari Taub]   \n",
       "2          [English]          [Paul Mones]   \n",
       "3             [Thai]  [Sophon Sakdaphisit]   \n",
       "4           [French]        [Robin Aubert]   \n",
       "\n",
       "                                       writer       production_company  \\\n",
       "0                                 [Monja Art]           [Orbrock Film]   \n",
       "1                              [Caio Ribeiro]  [Hit & Run Productions]   \n",
       "2                                [Paul Mones]          [MDP Worldwide]   \n",
       "3  [Sopana Chaowwiwatkul, Sophon Sakdaphisit]                [Unknown]   \n",
       "4                              [Robin Aubert]  [Max Films Productions]   \n",
       "\n",
       "                                              actors        budget  \\\n",
       "0  [Elisabeth Wabitsch, Magdalena Wabitsch, Baile...  1.339135e+07   \n",
       "1  [Daniel Asher, C.J. Barkus, Gianluca Bianco, D...  3.000000e+05   \n",
       "2  [Damian Chapa, Jennifer Rubin, Scott Plank, Wi...  1.339135e+07   \n",
       "3  [Saharat Sangkapreecha, Piyathida Woramusik, S...  1.339135e+07   \n",
       "4  [Trystan Bouthillier, Richard Robitaille, Patr...  1.339135e+07   \n",
       "\n",
       "   usa_gross_income  worlwide_gross_income  change_title  age  month   day  \n",
       "0      2.069060e+07           2.408318e+07             1    7    5.0  27.0  \n",
       "1      2.069060e+07           2.408318e+07             1   14    4.0  14.0  \n",
       "2      2.069060e+07           2.408318e+07             1   30   11.0  15.0  \n",
       "3      2.069060e+07           5.755172e+06             1   13    6.0  28.0  \n",
       "4      2.069060e+07           2.408318e+07             1   14    3.0   3.0  "
      ]
     },
     "execution_count": 640,
     "metadata": {},
     "output_type": "execute_result"
    }
   ],
   "source": [
    "refined_data[\"date_published\"] = (refined_data['month'] - 1) * 30 + refined_data['day']\n",
    "refined_data.fillna(-1, inplace = True)\n",
    "refined_data.head()"
   ]
  },
  {
   "cell_type": "code",
   "execution_count": 641,
   "id": "7475f5eb-d11e-4cb6-8717-7e718fd54d3f",
   "metadata": {},
   "outputs": [],
   "source": [
    "refined_data = refined_data.drop([\"month\", \"day\"], axis=1)"
   ]
  },
  {
   "cell_type": "code",
   "execution_count": 642,
   "id": "a41ce825-e738-4eb2-8547-3715fa66185b",
   "metadata": {},
   "outputs": [
    {
     "data": {
      "text/html": [
       "<div>\n",
       "<style scoped>\n",
       "    .dataframe tbody tr th:only-of-type {\n",
       "        vertical-align: middle;\n",
       "    }\n",
       "\n",
       "    .dataframe tbody tr th {\n",
       "        vertical-align: top;\n",
       "    }\n",
       "\n",
       "    .dataframe thead th {\n",
       "        text-align: right;\n",
       "    }\n",
       "</style>\n",
       "<table border=\"1\" class=\"dataframe\">\n",
       "  <thead>\n",
       "    <tr style=\"text-align: right;\">\n",
       "      <th></th>\n",
       "      <th>date_published</th>\n",
       "      <th>genre</th>\n",
       "      <th>duration</th>\n",
       "      <th>country</th>\n",
       "      <th>language</th>\n",
       "      <th>director</th>\n",
       "      <th>writer</th>\n",
       "      <th>production_company</th>\n",
       "      <th>actors</th>\n",
       "      <th>budget</th>\n",
       "      <th>usa_gross_income</th>\n",
       "      <th>worlwide_gross_income</th>\n",
       "      <th>change_title</th>\n",
       "      <th>age</th>\n",
       "    </tr>\n",
       "  </thead>\n",
       "  <tbody>\n",
       "    <tr>\n",
       "      <th>0</th>\n",
       "      <td>147.0</td>\n",
       "      <td>[Drama]</td>\n",
       "      <td>104</td>\n",
       "      <td>[Austria]</td>\n",
       "      <td>[German, French]</td>\n",
       "      <td>[Monja Art]</td>\n",
       "      <td>[Monja Art]</td>\n",
       "      <td>[Orbrock Film]</td>\n",
       "      <td>[Elisabeth Wabitsch, Magdalena Wabitsch, Baile...</td>\n",
       "      <td>1.339135e+07</td>\n",
       "      <td>2.069060e+07</td>\n",
       "      <td>2.408318e+07</td>\n",
       "      <td>1</td>\n",
       "      <td>7</td>\n",
       "    </tr>\n",
       "    <tr>\n",
       "      <th>1</th>\n",
       "      <td>104.0</td>\n",
       "      <td>[Action, Drama]</td>\n",
       "      <td>88</td>\n",
       "      <td>[USA]</td>\n",
       "      <td>[Italian, German]</td>\n",
       "      <td>[Ari Taub]</td>\n",
       "      <td>[Caio Ribeiro]</td>\n",
       "      <td>[Hit &amp; Run Productions]</td>\n",
       "      <td>[Daniel Asher, C.J. Barkus, Gianluca Bianco, D...</td>\n",
       "      <td>3.000000e+05</td>\n",
       "      <td>2.069060e+07</td>\n",
       "      <td>2.408318e+07</td>\n",
       "      <td>1</td>\n",
       "      <td>14</td>\n",
       "    </tr>\n",
       "    <tr>\n",
       "      <th>2</th>\n",
       "      <td>315.0</td>\n",
       "      <td>[Action, Crime, Drama]</td>\n",
       "      <td>100</td>\n",
       "      <td>[USA]</td>\n",
       "      <td>[English]</td>\n",
       "      <td>[Paul Mones]</td>\n",
       "      <td>[Paul Mones]</td>\n",
       "      <td>[MDP Worldwide]</td>\n",
       "      <td>[Damian Chapa, Jennifer Rubin, Scott Plank, Wi...</td>\n",
       "      <td>1.339135e+07</td>\n",
       "      <td>2.069060e+07</td>\n",
       "      <td>2.408318e+07</td>\n",
       "      <td>1</td>\n",
       "      <td>30</td>\n",
       "    </tr>\n",
       "    <tr>\n",
       "      <th>3</th>\n",
       "      <td>178.0</td>\n",
       "      <td>[Drama, Horror, Mystery]</td>\n",
       "      <td>125</td>\n",
       "      <td>[Thailand]</td>\n",
       "      <td>[Thai]</td>\n",
       "      <td>[Sophon Sakdaphisit]</td>\n",
       "      <td>[Sopana Chaowwiwatkul, Sophon Sakdaphisit]</td>\n",
       "      <td>[Unknown]</td>\n",
       "      <td>[Saharat Sangkapreecha, Piyathida Woramusik, S...</td>\n",
       "      <td>1.339135e+07</td>\n",
       "      <td>2.069060e+07</td>\n",
       "      <td>5.755172e+06</td>\n",
       "      <td>1</td>\n",
       "      <td>13</td>\n",
       "    </tr>\n",
       "    <tr>\n",
       "      <th>4</th>\n",
       "      <td>63.0</td>\n",
       "      <td>[Drama]</td>\n",
       "      <td>115</td>\n",
       "      <td>[Canada]</td>\n",
       "      <td>[French]</td>\n",
       "      <td>[Robin Aubert]</td>\n",
       "      <td>[Robin Aubert]</td>\n",
       "      <td>[Max Films Productions]</td>\n",
       "      <td>[Trystan Bouthillier, Richard Robitaille, Patr...</td>\n",
       "      <td>1.339135e+07</td>\n",
       "      <td>2.069060e+07</td>\n",
       "      <td>2.408318e+07</td>\n",
       "      <td>1</td>\n",
       "      <td>14</td>\n",
       "    </tr>\n",
       "  </tbody>\n",
       "</table>\n",
       "</div>"
      ],
      "text/plain": [
       "   date_published                     genre  duration     country  \\\n",
       "0           147.0                   [Drama]       104   [Austria]   \n",
       "1           104.0           [Action, Drama]        88       [USA]   \n",
       "2           315.0    [Action, Crime, Drama]       100       [USA]   \n",
       "3           178.0  [Drama, Horror, Mystery]       125  [Thailand]   \n",
       "4            63.0                   [Drama]       115    [Canada]   \n",
       "\n",
       "            language              director  \\\n",
       "0   [German, French]           [Monja Art]   \n",
       "1  [Italian, German]            [Ari Taub]   \n",
       "2          [English]          [Paul Mones]   \n",
       "3             [Thai]  [Sophon Sakdaphisit]   \n",
       "4           [French]        [Robin Aubert]   \n",
       "\n",
       "                                       writer       production_company  \\\n",
       "0                                 [Monja Art]           [Orbrock Film]   \n",
       "1                              [Caio Ribeiro]  [Hit & Run Productions]   \n",
       "2                                [Paul Mones]          [MDP Worldwide]   \n",
       "3  [Sopana Chaowwiwatkul, Sophon Sakdaphisit]                [Unknown]   \n",
       "4                              [Robin Aubert]  [Max Films Productions]   \n",
       "\n",
       "                                              actors        budget  \\\n",
       "0  [Elisabeth Wabitsch, Magdalena Wabitsch, Baile...  1.339135e+07   \n",
       "1  [Daniel Asher, C.J. Barkus, Gianluca Bianco, D...  3.000000e+05   \n",
       "2  [Damian Chapa, Jennifer Rubin, Scott Plank, Wi...  1.339135e+07   \n",
       "3  [Saharat Sangkapreecha, Piyathida Woramusik, S...  1.339135e+07   \n",
       "4  [Trystan Bouthillier, Richard Robitaille, Patr...  1.339135e+07   \n",
       "\n",
       "   usa_gross_income  worlwide_gross_income  change_title  age  \n",
       "0      2.069060e+07           2.408318e+07             1    7  \n",
       "1      2.069060e+07           2.408318e+07             1   14  \n",
       "2      2.069060e+07           2.408318e+07             1   30  \n",
       "3      2.069060e+07           5.755172e+06             1   13  \n",
       "4      2.069060e+07           2.408318e+07             1   14  "
      ]
     },
     "execution_count": 642,
     "metadata": {},
     "output_type": "execute_result"
    }
   ],
   "source": [
    "refined_data.iloc[:5,:] "
   ]
  },
  {
   "cell_type": "markdown",
   "id": "f714a191-0236-4bd9-9b65-53ada296a258",
   "metadata": {},
   "source": [
    "6. Experimentation"
   ]
  },
  {
   "cell_type": "code",
   "execution_count": 643,
   "id": "225f91ec-475c-4557-8603-af862f19a68d",
   "metadata": {},
   "outputs": [],
   "source": [
    "import json\n",
    "with open('target_mean_mappings.json', 'r') as f:\n",
    "    loaded_mappings = json.load(f)"
   ]
  },
  {
   "cell_type": "code",
   "execution_count": 644,
   "id": "4f981ed4-9c21-471b-b00f-4c9fdae5a3f2",
   "metadata": {},
   "outputs": [],
   "source": [
    "def apply_mapping(row, column):\n",
    "    if isinstance(row[column], list):\n",
    "        numerical_val = []\n",
    "        for item in row[column]:\n",
    "            if item in loaded_mappings[column][\"target_mean\"]:\n",
    "                numerical_val.append(loaded_mappings[column][\"target_mean\"][item])\n",
    "            else:\n",
    "                numerical_val.append(loaded_mappings[column][\"global_mean\"])\n",
    "        return sum(numerical_val)/len(numerical_val) if numerical_val else loaded_mappings[column][\"global_mean\"]\n",
    "    else:\n",
    "        if row[column] in loaded_mappings[column][\"target_mean\"]:\n",
    "            return loaded_mappings[column][\"target_mean\"][row[column]]\n",
    "        else:\n",
    "            return loaded_mappings[column][\"global_mean\"]"
   ]
  },
  {
   "cell_type": "code",
   "execution_count": 645,
   "id": "a147db41-6224-4cf5-8681-3a3397c6e0d3",
   "metadata": {},
   "outputs": [],
   "source": [
    "refined_data[\"genre\"] = refined_data.apply(lambda row: apply_mapping(row, 'genre'), axis = 1)\n",
    "refined_data[\"country\"] = refined_data.apply(lambda row: apply_mapping(row, 'country'), axis = 1)\n",
    "refined_data[\"language\"] = refined_data.apply(lambda row: apply_mapping(row, 'language'), axis = 1)\n",
    "refined_data[\"director\"] = refined_data.apply(lambda row: apply_mapping(row, 'director'), axis = 1)\n",
    "refined_data[\"writer\"] = refined_data.apply(lambda row: apply_mapping(row, 'writer'), axis = 1)\n",
    "refined_data[\"production_company\"] = refined_data.apply(lambda row: apply_mapping(row, 'production_company'), axis = 1)\n",
    "refined_data[\"actors\"] = refined_data.apply(lambda row: apply_mapping(row, 'actors'), axis = 1)"
   ]
  },
  {
   "cell_type": "code",
   "execution_count": 646,
   "id": "4460cd55-2135-4cd3-9bc5-43bbea412478",
   "metadata": {},
   "outputs": [
    {
     "data": {
      "text/html": [
       "<div>\n",
       "<style scoped>\n",
       "    .dataframe tbody tr th:only-of-type {\n",
       "        vertical-align: middle;\n",
       "    }\n",
       "\n",
       "    .dataframe tbody tr th {\n",
       "        vertical-align: top;\n",
       "    }\n",
       "\n",
       "    .dataframe thead th {\n",
       "        text-align: right;\n",
       "    }\n",
       "</style>\n",
       "<table border=\"1\" class=\"dataframe\">\n",
       "  <thead>\n",
       "    <tr style=\"text-align: right;\">\n",
       "      <th></th>\n",
       "      <th>date_published</th>\n",
       "      <th>genre</th>\n",
       "      <th>duration</th>\n",
       "      <th>country</th>\n",
       "      <th>language</th>\n",
       "      <th>director</th>\n",
       "      <th>writer</th>\n",
       "      <th>production_company</th>\n",
       "      <th>actors</th>\n",
       "      <th>budget</th>\n",
       "      <th>usa_gross_income</th>\n",
       "      <th>worlwide_gross_income</th>\n",
       "      <th>change_title</th>\n",
       "      <th>age</th>\n",
       "    </tr>\n",
       "  </thead>\n",
       "  <tbody>\n",
       "    <tr>\n",
       "      <th>0</th>\n",
       "      <td>147.0</td>\n",
       "      <td>0.672597</td>\n",
       "      <td>104</td>\n",
       "      <td>0.667622</td>\n",
       "      <td>0.676310</td>\n",
       "      <td>0.550959</td>\n",
       "      <td>0.565012</td>\n",
       "      <td>0.000000</td>\n",
       "      <td>0.398994</td>\n",
       "      <td>1.339135e+07</td>\n",
       "      <td>2.069060e+07</td>\n",
       "      <td>2.408318e+07</td>\n",
       "      <td>1</td>\n",
       "      <td>7</td>\n",
       "    </tr>\n",
       "    <tr>\n",
       "      <th>1</th>\n",
       "      <td>104.0</td>\n",
       "      <td>0.565348</td>\n",
       "      <td>88</td>\n",
       "      <td>0.455850</td>\n",
       "      <td>0.637768</td>\n",
       "      <td>0.000000</td>\n",
       "      <td>0.000000</td>\n",
       "      <td>0.000000</td>\n",
       "      <td>0.255962</td>\n",
       "      <td>3.000000e+05</td>\n",
       "      <td>2.069060e+07</td>\n",
       "      <td>2.408318e+07</td>\n",
       "      <td>1</td>\n",
       "      <td>14</td>\n",
       "    </tr>\n",
       "    <tr>\n",
       "      <th>2</th>\n",
       "      <td>315.0</td>\n",
       "      <td>0.575630</td>\n",
       "      <td>100</td>\n",
       "      <td>0.455850</td>\n",
       "      <td>0.475802</td>\n",
       "      <td>0.500000</td>\n",
       "      <td>0.500000</td>\n",
       "      <td>0.375000</td>\n",
       "      <td>0.327067</td>\n",
       "      <td>1.339135e+07</td>\n",
       "      <td>2.069060e+07</td>\n",
       "      <td>2.408318e+07</td>\n",
       "      <td>1</td>\n",
       "      <td>30</td>\n",
       "    </tr>\n",
       "    <tr>\n",
       "      <th>3</th>\n",
       "      <td>178.0</td>\n",
       "      <td>0.465774</td>\n",
       "      <td>125</td>\n",
       "      <td>0.505338</td>\n",
       "      <td>0.575080</td>\n",
       "      <td>1.000000</td>\n",
       "      <td>1.000000</td>\n",
       "      <td>0.491182</td>\n",
       "      <td>0.567248</td>\n",
       "      <td>1.339135e+07</td>\n",
       "      <td>2.069060e+07</td>\n",
       "      <td>5.755172e+06</td>\n",
       "      <td>1</td>\n",
       "      <td>13</td>\n",
       "    </tr>\n",
       "    <tr>\n",
       "      <th>4</th>\n",
       "      <td>63.0</td>\n",
       "      <td>0.672597</td>\n",
       "      <td>115</td>\n",
       "      <td>0.429866</td>\n",
       "      <td>0.677760</td>\n",
       "      <td>0.500000</td>\n",
       "      <td>0.500000</td>\n",
       "      <td>0.937500</td>\n",
       "      <td>0.800095</td>\n",
       "      <td>1.339135e+07</td>\n",
       "      <td>2.069060e+07</td>\n",
       "      <td>2.408318e+07</td>\n",
       "      <td>1</td>\n",
       "      <td>14</td>\n",
       "    </tr>\n",
       "  </tbody>\n",
       "</table>\n",
       "</div>"
      ],
      "text/plain": [
       "   date_published     genre  duration   country  language  director    writer  \\\n",
       "0           147.0  0.672597       104  0.667622  0.676310  0.550959  0.565012   \n",
       "1           104.0  0.565348        88  0.455850  0.637768  0.000000  0.000000   \n",
       "2           315.0  0.575630       100  0.455850  0.475802  0.500000  0.500000   \n",
       "3           178.0  0.465774       125  0.505338  0.575080  1.000000  1.000000   \n",
       "4            63.0  0.672597       115  0.429866  0.677760  0.500000  0.500000   \n",
       "\n",
       "   production_company    actors        budget  usa_gross_income  \\\n",
       "0            0.000000  0.398994  1.339135e+07      2.069060e+07   \n",
       "1            0.000000  0.255962  3.000000e+05      2.069060e+07   \n",
       "2            0.375000  0.327067  1.339135e+07      2.069060e+07   \n",
       "3            0.491182  0.567248  1.339135e+07      2.069060e+07   \n",
       "4            0.937500  0.800095  1.339135e+07      2.069060e+07   \n",
       "\n",
       "   worlwide_gross_income  change_title  age  \n",
       "0           2.408318e+07             1    7  \n",
       "1           2.408318e+07             1   14  \n",
       "2           2.408318e+07             1   30  \n",
       "3           5.755172e+06             1   13  \n",
       "4           2.408318e+07             1   14  "
      ]
     },
     "execution_count": 646,
     "metadata": {},
     "output_type": "execute_result"
    }
   ],
   "source": [
    "refined_data.head()"
   ]
  },
  {
   "cell_type": "code",
   "execution_count": 647,
   "id": "d8bf70a1-223a-4998-a5de-cdd5e6b760e5",
   "metadata": {},
   "outputs": [],
   "source": [
    "from joblib import dump, load\n",
    "model = load('filmPredictModel.joblib')"
   ]
  },
  {
   "cell_type": "code",
   "execution_count": 654,
   "id": "adb317a5-bedb-40c2-8084-2a0f44b65151",
   "metadata": {},
   "outputs": [],
   "source": [
    "y_pred = model.predict(refined_data)"
   ]
  },
  {
   "cell_type": "code",
   "execution_count": 661,
   "id": "024a204b-3c98-41f9-8cfb-0c039a5e96f1",
   "metadata": {},
   "outputs": [],
   "source": [
    "def get_popularity(x):\n",
    "    if x > 0.5:\n",
    "        return 'popular'\n",
    "    else:\n",
    "        return 'unpopular'"
   ]
  },
  {
   "cell_type": "code",
   "execution_count": 662,
   "id": "295d8317-e15c-4825-aa64-119de494c561",
   "metadata": {},
   "outputs": [],
   "source": [
    "result = pd.DataFrame(columns = ['title_index', 'popularity'])"
   ]
  },
  {
   "cell_type": "code",
   "execution_count": 663,
   "id": "c0ef750d-ffce-43dd-a472-541071d6f6b5",
   "metadata": {},
   "outputs": [],
   "source": [
    "result.title_index = idx_index"
   ]
  },
  {
   "cell_type": "code",
   "execution_count": 664,
   "id": "16e9d73d-0c6a-4864-a66d-3ad6612bf353",
   "metadata": {},
   "outputs": [],
   "source": [
    "result.popularity = [get_popularity(x) for x in y_pred]"
   ]
  },
  {
   "cell_type": "code",
   "execution_count": 665,
   "id": "509089e2-c2ef-40f1-a301-778a40ad56b8",
   "metadata": {},
   "outputs": [
    {
     "data": {
      "text/plain": [
       "array([0, 0, 0, ..., 0, 0, 1])"
      ]
     },
     "execution_count": 665,
     "metadata": {},
     "output_type": "execute_result"
    }
   ],
   "source": [
    "y_pred"
   ]
  },
  {
   "cell_type": "code",
   "execution_count": 666,
   "id": "d5b1aba3-c8c5-42a6-b023-bc21fdf2cae3",
   "metadata": {},
   "outputs": [
    {
     "data": {
      "text/html": [
       "<div>\n",
       "<style scoped>\n",
       "    .dataframe tbody tr th:only-of-type {\n",
       "        vertical-align: middle;\n",
       "    }\n",
       "\n",
       "    .dataframe tbody tr th {\n",
       "        vertical-align: top;\n",
       "    }\n",
       "\n",
       "    .dataframe thead th {\n",
       "        text-align: right;\n",
       "    }\n",
       "</style>\n",
       "<table border=\"1\" class=\"dataframe\">\n",
       "  <thead>\n",
       "    <tr style=\"text-align: right;\">\n",
       "      <th></th>\n",
       "      <th>title_index</th>\n",
       "      <th>popularity</th>\n",
       "    </tr>\n",
       "  </thead>\n",
       "  <tbody>\n",
       "    <tr>\n",
       "      <th>0</th>\n",
       "      <td>0</td>\n",
       "      <td>unpopular</td>\n",
       "    </tr>\n",
       "    <tr>\n",
       "      <th>1</th>\n",
       "      <td>1</td>\n",
       "      <td>unpopular</td>\n",
       "    </tr>\n",
       "    <tr>\n",
       "      <th>2</th>\n",
       "      <td>2</td>\n",
       "      <td>unpopular</td>\n",
       "    </tr>\n",
       "    <tr>\n",
       "      <th>3</th>\n",
       "      <td>3</td>\n",
       "      <td>popular</td>\n",
       "    </tr>\n",
       "    <tr>\n",
       "      <th>4</th>\n",
       "      <td>4</td>\n",
       "      <td>popular</td>\n",
       "    </tr>\n",
       "    <tr>\n",
       "      <th>...</th>\n",
       "      <td>...</td>\n",
       "      <td>...</td>\n",
       "    </tr>\n",
       "    <tr>\n",
       "      <th>19995</th>\n",
       "      <td>19998</td>\n",
       "      <td>popular</td>\n",
       "    </tr>\n",
       "    <tr>\n",
       "      <th>19996</th>\n",
       "      <td>19999</td>\n",
       "      <td>popular</td>\n",
       "    </tr>\n",
       "    <tr>\n",
       "      <th>19997</th>\n",
       "      <td>20000</td>\n",
       "      <td>unpopular</td>\n",
       "    </tr>\n",
       "    <tr>\n",
       "      <th>19998</th>\n",
       "      <td>20001</td>\n",
       "      <td>unpopular</td>\n",
       "    </tr>\n",
       "    <tr>\n",
       "      <th>19999</th>\n",
       "      <td>20002</td>\n",
       "      <td>popular</td>\n",
       "    </tr>\n",
       "  </tbody>\n",
       "</table>\n",
       "<p>20000 rows × 2 columns</p>\n",
       "</div>"
      ],
      "text/plain": [
       "       title_index popularity\n",
       "0                0  unpopular\n",
       "1                1  unpopular\n",
       "2                2  unpopular\n",
       "3                3    popular\n",
       "4                4    popular\n",
       "...            ...        ...\n",
       "19995        19998    popular\n",
       "19996        19999    popular\n",
       "19997        20000  unpopular\n",
       "19998        20001  unpopular\n",
       "19999        20002    popular\n",
       "\n",
       "[20000 rows x 2 columns]"
      ]
     },
     "execution_count": 666,
     "metadata": {},
     "output_type": "execute_result"
    }
   ],
   "source": [
    "result"
   ]
  },
  {
   "cell_type": "code",
   "execution_count": 667,
   "id": "178de722-ff64-4a47-8d6d-4a32cc804f7a",
   "metadata": {},
   "outputs": [],
   "source": [
    "result.to_csv('submission.csv',index=False)"
   ]
  },
  {
   "cell_type": "code",
   "execution_count": null,
   "id": "eaa23cc5-acd4-4bb5-92b5-ce0c74f01295",
   "metadata": {},
   "outputs": [],
   "source": []
  }
 ],
 "metadata": {
  "kernelspec": {
   "display_name": "Python 3 (ipykernel)",
   "language": "python",
   "name": "python3"
  },
  "language_info": {
   "codemirror_mode": {
    "name": "ipython",
    "version": 3
   },
   "file_extension": ".py",
   "mimetype": "text/x-python",
   "name": "python",
   "nbconvert_exporter": "python",
   "pygments_lexer": "ipython3",
   "version": "3.12.2"
  }
 },
 "nbformat": 4,
 "nbformat_minor": 5
}
