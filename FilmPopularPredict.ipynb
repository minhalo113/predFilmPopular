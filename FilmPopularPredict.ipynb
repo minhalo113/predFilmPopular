{
 "cells": [
  {
   "cell_type": "markdown",
   "id": "b3278fcd-7fb5-43ff-8f8b-dc4967a3b592",
   "metadata": {},
   "source": [
    "# Predict film popularity using machine learning\n",
    "\n",
    "A machine learning model to predict the popularity of a film based on its characteristics"
   ]
  },
  {
   "cell_type": "code",
   "execution_count": 580,
   "id": "df2a2be0-269c-4e9d-bb16-a271b0da68a1",
   "metadata": {},
   "outputs": [],
   "source": [
    "## import tools\n",
    "import pandas as pd\n",
    "import numpy as np\n",
    "import matplotlib.pyplot as plt\n",
    "import seaborn as sns\n",
    "\n",
    "from sklearn.linear_model import LogisticRegression\n",
    "from sklearn.neighbors import KNeighborsClassifier\n",
    "from sklearn.ensemble import RandomForestClassifier\n",
    "\n",
    "from sklearn.model_selection import cross_val_score\n",
    "from sklearn.model_selection import RandomizedSearchCV, GridSearchCV\n",
    "from sklearn.metrics import confusion_matrix, classification_report\n",
    "from sklearn.metrics import precision_score, recall_score, f1_score\n",
    "from sklearn.metrics import RocCurveDisplay"
   ]
  },
  {
   "cell_type": "code",
   "execution_count": 581,
   "id": "721b5098-642d-4cdf-a4d8-8ca8d66cd39d",
   "metadata": {},
   "outputs": [],
   "source": [
    "my_data = pd.read_csv(\"data/train.csv\")\n",
    "\n",
    "## Data exploration\n",
    "my_data = my_data.drop(\"title_index\", axis = 1)"
   ]
  },
  {
   "cell_type": "code",
   "execution_count": 582,
   "id": "f11d4345-c739-4245-9e6d-9a9071d30b86",
   "metadata": {
    "scrolled": true
   },
   "outputs": [],
   "source": [
    "%%capture\n",
    "my_data[\"country\"] = my_data[\"country\"].fillna(\"Unknown\")\n",
    "my_data[\"language\"] = my_data[\"language\"].fillna(\"Unknown\")\n",
    "my_data[\"director\"].fillna(\"Unknown\", inplace = True)\n",
    "my_data[\"writer\"].fillna(\"Unknown\", inplace = True)\n",
    "my_data[\"production_company\"].fillna(\"Unknown\", inplace = True)\n",
    "my_data[\"actors\"].fillna(\"Unknown\", inplace = True)\n",
    "my_data[\"description\"].fillna(\"Unknown\", inplace = True)"
   ]
  },
  {
   "cell_type": "markdown",
   "id": "94d748ec-dda1-47a4-9d7c-efd960bc4690",
   "metadata": {},
   "source": [
    "# Fix us_gross_income col"
   ]
  },
  {
   "cell_type": "code",
   "execution_count": 583,
   "id": "dd73cd48-a5b0-4b32-8ba7-d7d7681b5017",
   "metadata": {},
   "outputs": [],
   "source": [
    "my_data['usa_gross_income'] = my_data['usa_gross_income'].str.replace('$', \"\", regex = False)"
   ]
  },
  {
   "cell_type": "code",
   "execution_count": 584,
   "id": "867f68d2-9046-4b1d-9659-15974d0de368",
   "metadata": {},
   "outputs": [
    {
     "name": "stdout",
     "output_type": "stream",
     "text": [
      "EUR 252076\n",
      "[10344]\n"
     ]
    }
   ],
   "source": [
    "index = 0\n",
    "val = []\n",
    "for data in my_data['usa_gross_income']:\n",
    "    #print(data)\n",
    "    if pd.notnull(data) and 'EUR' in data:\n",
    "        print(data)\n",
    "        val.append(index)\n",
    "    index = index + 1\n",
    "print(val)\n",
    "#print(my_data['usa_gross_income'][10998])"
   ]
  },
  {
   "cell_type": "code",
   "execution_count": 585,
   "id": "b872fde3-031d-4826-9321-61c40c1fc77f",
   "metadata": {
    "scrolled": true
   },
   "outputs": [],
   "source": [
    "%%capture\n",
    "my_data[\"usa_gross_income\"][10344] = '272254'\n",
    "my_data[\"usa_gross_income\"][10344]"
   ]
  },
  {
   "cell_type": "code",
   "execution_count": 586,
   "id": "23751de1-5521-423c-8353-d3a766bd6420",
   "metadata": {
    "scrolled": true
   },
   "outputs": [
    {
     "name": "stdout",
     "output_type": "stream",
     "text": [
      "GBP 32000\n",
      "GBP 438200\n",
      "GBP 485300\n",
      "[10998, 24027, 58096]\n"
     ]
    }
   ],
   "source": [
    "index = 0\n",
    "val = []\n",
    "for data in my_data['usa_gross_income']:\n",
    "    #print(data)\n",
    "    if pd.notnull(data) and 'GBP' in data:\n",
    "        print(data)\n",
    "        val.append(index)\n",
    "    index = index + 1\n",
    "print(val)"
   ]
  },
  {
   "cell_type": "code",
   "execution_count": 587,
   "id": "fb106db6-d0ad-4957-8910-f6ceebe4b510",
   "metadata": {},
   "outputs": [],
   "source": [
    "%%capture\n",
    "for index in val:\n",
    "    my_data['usa_gross_income'][index] = my_data['usa_gross_income'][index].replace(\"GBP\", \"\")\n",
    "    my_data['usa_gross_income'][index] = int(my_data['usa_gross_income'][index])*126/100\n",
    "    print(my_data['usa_gross_income'][index])"
   ]
  },
  {
   "cell_type": "code",
   "execution_count": 588,
   "id": "cc169df2-c909-4f3a-9ed3-bc5efc0f6d58",
   "metadata": {},
   "outputs": [
    {
     "name": "stdout",
     "output_type": "stream",
     "text": [
      "<class 'pandas.core.series.Series'>\n",
      "RangeIndex: 65846 entries, 0 to 65845\n",
      "Series name: usa_gross_income\n",
      "Non-Null Count  Dtype \n",
      "--------------  ----- \n",
      "11746 non-null  object\n",
      "dtypes: object(1)\n",
      "memory usage: 514.6+ KB\n"
     ]
    }
   ],
   "source": [
    "my_data['usa_gross_income'].info()"
   ]
  },
  {
   "cell_type": "code",
   "execution_count": 589,
   "id": "012bea4c-3257-4cf8-beb5-26850ba2c413",
   "metadata": {},
   "outputs": [],
   "source": [
    "my_data['usa_gross_income'] = pd.to_numeric(my_data['usa_gross_income'],errors='coerce' )"
   ]
  },
  {
   "cell_type": "code",
   "execution_count": 590,
   "id": "b55913e9-73e5-4776-bd66-38af4bd6322b",
   "metadata": {},
   "outputs": [
    {
     "name": "stderr",
     "output_type": "stream",
     "text": [
      "C:\\Users\\minha\\AppData\\Local\\Temp\\ipykernel_8184\\4088441139.py:2: FutureWarning: A value is trying to be set on a copy of a DataFrame or Series through chained assignment using an inplace method.\n",
      "The behavior will change in pandas 3.0. This inplace method will never work because the intermediate object on which we are setting values always behaves as a copy.\n",
      "\n",
      "For example, when doing 'df[col].method(value, inplace=True)', try using 'df.method({col: value}, inplace=True)' or df[col] = df[col].method(value) instead, to perform the operation inplace on the original object.\n",
      "\n",
      "\n",
      "  my_data['usa_gross_income'].fillna(mean, inplace = True)\n"
     ]
    }
   ],
   "source": [
    "mean = my_data['usa_gross_income'].mean()\n",
    "my_data['usa_gross_income'].fillna(mean, inplace = True)"
   ]
  },
  {
   "cell_type": "markdown",
   "id": "a3fe4d0c-bfc5-4342-b7a6-fdc659aedf46",
   "metadata": {},
   "source": [
    "# Fix worldwide_gross_income col\n"
   ]
  },
  {
   "cell_type": "code",
   "execution_count": 591,
   "id": "dde91c47-4bb5-4044-ad5d-a230c6a7fdfb",
   "metadata": {
    "jupyter": {
     "source_hidden": true
    }
   },
   "outputs": [
    {
     "name": "stdout",
     "output_type": "stream",
     "text": [
      "<class 'pandas.core.series.Series'>\n",
      "RangeIndex: 65846 entries, 0 to 65845\n",
      "Series name: worlwide_gross_income\n",
      "Non-Null Count  Dtype \n",
      "--------------  ----- \n",
      "23703 non-null  object\n",
      "dtypes: object(1)\n",
      "memory usage: 514.6+ KB\n"
     ]
    }
   ],
   "source": [
    "my_data['worlwide_gross_income'].info()"
   ]
  },
  {
   "cell_type": "code",
   "execution_count": 592,
   "id": "4910b966-4d26-4bc9-bcbe-72775fda4760",
   "metadata": {},
   "outputs": [],
   "source": [
    "my_data['worlwide_gross_income'] = my_data['worlwide_gross_income'].str.replace('$', \"\", regex = False)"
   ]
  },
  {
   "cell_type": "code",
   "execution_count": 593,
   "id": "b64fcc79-2bac-4374-9491-6eb4b7d7a82c",
   "metadata": {},
   "outputs": [
    {
     "name": "stdout",
     "output_type": "stream",
     "text": [
      "[35512]\n",
      "35512    NPR 20000000\n",
      "Name: worlwide_gross_income, dtype: object\n"
     ]
    }
   ],
   "source": [
    "index = 0\n",
    "val = []\n",
    "for data in my_data['worlwide_gross_income']:\n",
    "    #print(data)\n",
    "    if type(data) == str and ('NPR' in data):\n",
    "        #print(data)\n",
    "        val.append(index)\n",
    "    index = index + 1\n",
    "print(val)\n",
    "print(my_data['worlwide_gross_income'][val])"
   ]
  },
  {
   "cell_type": "code",
   "execution_count": 594,
   "id": "f1be2a98-4e3a-4f43-81e0-d5754f6ad41d",
   "metadata": {},
   "outputs": [],
   "source": [
    "%%capture\n",
    "for index in val:\n",
    "    my_data[\"worlwide_gross_income\"][index] = my_data['worlwide_gross_income'][index].replace('NPR','')\n",
    "    my_data[\"worlwide_gross_income\"][index] = int(my_data[\"worlwide_gross_income\"][index])/133.18"
   ]
  },
  {
   "cell_type": "code",
   "execution_count": 595,
   "id": "b7de0151-184d-4370-86b6-254049dc7b31",
   "metadata": {},
   "outputs": [],
   "source": [
    "%%capture\n",
    "index = 0\n",
    "val = []\n",
    "for data in my_data['worlwide_gross_income']:\n",
    "    #print(data)\n",
    "    if type(data) == str and ('INR' in data):\n",
    "        #print(data)\n",
    "        val.append(index)\n",
    "    index = index + 1\n",
    "for index in val:\n",
    "    my_data[\"worlwide_gross_income\"][index] = my_data['worlwide_gross_income'][index].replace('INR','')\n",
    "    my_data[\"worlwide_gross_income\"][index] = int(my_data[\"worlwide_gross_income\"][index])*0.012"
   ]
  },
  {
   "cell_type": "code",
   "execution_count": 596,
   "id": "d4c9ed35-bc9f-449f-8011-34d52dc79aa4",
   "metadata": {
    "jupyter": {
     "source_hidden": true
    }
   },
   "outputs": [],
   "source": [
    "%%capture\n",
    "index = 0\n",
    "val = []\n",
    "for data in my_data['worlwide_gross_income']:\n",
    "    #print(data)\n",
    "    if type(data) == str and ('GBP' in data):\n",
    "        #print(data)\n",
    "        val.append(index)\n",
    "    index = index + 1\n",
    "for index in val:\n",
    "    my_data[\"worlwide_gross_income\"][index] = my_data['worlwide_gross_income'][index].replace('GBP','')\n",
    "    my_data[\"worlwide_gross_income\"][index] = int(my_data[\"worlwide_gross_income\"][index])*1.26"
   ]
  },
  {
   "cell_type": "code",
   "execution_count": 597,
   "id": "39841aaa-4e10-4cef-a05b-dcd98d97f1df",
   "metadata": {},
   "outputs": [],
   "source": [
    "my_data['worlwide_gross_income'] = pd.to_numeric(my_data['worlwide_gross_income'])"
   ]
  },
  {
   "cell_type": "code",
   "execution_count": 598,
   "id": "c5700251-2bbe-4679-bfe1-f28a9db18514",
   "metadata": {
    "scrolled": true
   },
   "outputs": [],
   "source": [
    "%%capture\n",
    "mean = my_data['worlwide_gross_income'].mean()\n",
    "my_data['worlwide_gross_income'].fillna(mean, inplace = True)"
   ]
  },
  {
   "cell_type": "markdown",
   "id": "3d03a87b-2f7e-4053-9a79-8bb46fd52873",
   "metadata": {},
   "source": [
    "# Fix budget col"
   ]
  },
  {
   "cell_type": "code",
   "execution_count": 599,
   "id": "80f37022-5dff-45f4-98dc-6590a0d931a2",
   "metadata": {},
   "outputs": [
    {
     "data": {
      "text/plain": [
       "0              NaN\n",
       "1              NaN\n",
       "2              NaN\n",
       "3              NaN\n",
       "4              NaN\n",
       "           ...    \n",
       "65841    $ 2111250\n",
       "65842          NaN\n",
       "65843          NaN\n",
       "65844     $ 464000\n",
       "65845          NaN\n",
       "Name: budget, Length: 65846, dtype: object"
      ]
     },
     "execution_count": 599,
     "metadata": {},
     "output_type": "execute_result"
    }
   ],
   "source": [
    "my_data['budget']"
   ]
  },
  {
   "cell_type": "code",
   "execution_count": 600,
   "id": "7d5701ab-5c6a-454c-91ed-f4bd0733acf0",
   "metadata": {},
   "outputs": [],
   "source": [
    "my_data['budget'] = my_data['budget'].str.replace('$', \"\", regex = False)"
   ]
  },
  {
   "cell_type": "code",
   "execution_count": 601,
   "id": "b1d0be30-01f1-49c2-99a5-f9bed5f6c1f0",
   "metadata": {
    "scrolled": true
   },
   "outputs": [
    {
     "name": "stdout",
     "output_type": "stream",
     "text": [
      "[20, 92, 941, 1268, 1774, 2142, 2634, 3522, 4475, 4600, 4862, 5601, 5992, 6985, 8119, 10058, 10087, 10630, 11472, 12673, 12700, 12951, 14069, 14744, 15404, 15510, 16264, 20163, 21494, 21864, 21878, 22260, 22780, 22927, 24797, 24876, 25692, 25841, 27107, 27148, 27250, 28120, 28582, 29774, 30232, 30359, 30832, 31839, 33225, 34349, 34968, 34988, 35376, 36099, 38105, 40874, 41475, 42158, 43198, 44465, 45464, 45909, 46324, 46602, 46814, 47488, 48702, 48904, 49016, 49465, 50518, 50724, 51476, 52286, 53503, 54495, 54927, 55389, 55455, 55647, 56240, 56302, 56314, 56485, 57858, 58381, 59810, 61136, 61344, 61423, 61785, 62597, 63258, 64058, 64146, 64843, 65209, 65259]\n",
      "20        FRF 4700000\n",
      "92        FRF 6000000\n",
      "941      FRF 38000000\n",
      "1268     FRF 80000000\n",
      "1774     FRF 30000000\n",
      "             ...     \n",
      "64058    FRF 70000000\n",
      "64146     FRF 5500500\n",
      "64843    FRF 20000000\n",
      "65209    FRF 17000000\n",
      "65259    FRF 50000000\n",
      "Name: budget, Length: 98, dtype: object\n"
     ]
    }
   ],
   "source": [
    "index = 0\n",
    "val = []\n",
    "for data in my_data['budget']:\n",
    "    #print(data)\n",
    "    if type(data) == str and ('FRF' in data):\n",
    "        #print(data)\n",
    "        val.append(index)\n",
    "    index = index + 1\n",
    "print(val)\n",
    "print(my_data['budget'][val])"
   ]
  },
  {
   "cell_type": "code",
   "execution_count": 602,
   "id": "73f6edef-fe3f-433f-a0ef-bcecced96ed3",
   "metadata": {},
   "outputs": [],
   "source": [
    "%%capture\n",
    "for index in val:\n",
    "    my_data[\"budget\"][index] = my_data['budget'][index].replace('FRF','')\n",
    "    my_data[\"budget\"][index] = int(my_data[\"budget\"][index])/6.18"
   ]
  },
  {
   "cell_type": "code",
   "execution_count": 603,
   "id": "14d83725-0a15-455d-8790-2855d60d644e",
   "metadata": {},
   "outputs": [],
   "source": [
    "%%capture\n",
    "index = 0\n",
    "val = []\n",
    "for data in my_data['budget']:\n",
    "    #print(data)\n",
    "    if type(data) == str and ('EUR' in data):\n",
    "        #print(data)\n",
    "        val.append(index)\n",
    "    index = index + 1\n",
    "for index in val:\n",
    "    my_data[\"budget\"][index] = my_data['budget'][index].replace('EUR','')\n",
    "    my_data[\"budget\"][index] = int(my_data[\"budget\"][index])*1.08"
   ]
  },
  {
   "cell_type": "code",
   "execution_count": 604,
   "id": "f9dc9c1b-3312-4978-894e-2907a2b2dc7a",
   "metadata": {},
   "outputs": [],
   "source": [
    "%%capture\n",
    "index = 0\n",
    "val = []\n",
    "for data in my_data['budget']:\n",
    "    #print(data)\n",
    "    if type(data) == str and ('GBP' in data):\n",
    "        #print(data)\n",
    "        val.append(index)\n",
    "    index = index + 1\n",
    "for index in val:\n",
    "    my_data[\"budget\"][index] = my_data['budget'][index].replace('GBP','')\n",
    "    my_data[\"budget\"][index] = int(my_data[\"budget\"][index])*1.26"
   ]
  },
  {
   "cell_type": "code",
   "execution_count": 605,
   "id": "ebc51722-ccba-4821-b7ee-e78b8fca9457",
   "metadata": {
    "jupyter": {
     "source_hidden": true
    }
   },
   "outputs": [],
   "source": [
    "%%capture\n",
    "index = 0\n",
    "val = []\n",
    "for data in my_data['budget']:\n",
    "    #print(data)\n",
    "    if type(data) == str and ('CAD' in data):\n",
    "        #print(data)\n",
    "        val.append(index)\n",
    "    index = index + 1\n",
    "for index in val:\n",
    "    my_data[\"budget\"][index] = my_data['budget'][index].replace('CAD','')\n",
    "    my_data[\"budget\"][index] = int(my_data[\"budget\"][index])*1.35"
   ]
  },
  {
   "cell_type": "code",
   "execution_count": 606,
   "id": "3255328c-bd98-4c94-999c-8d84da0c13b6",
   "metadata": {
    "jupyter": {
     "source_hidden": true
    }
   },
   "outputs": [],
   "source": [
    "%%capture\n",
    "index = 0\n",
    "val = []\n",
    "for data in my_data['budget']:\n",
    "    #print(data)\n",
    "    if type(data) == str and ('AUD' in data):\n",
    "        #print(data)\n",
    "        val.append(index)\n",
    "    index = index + 1\n",
    "for index in val:\n",
    "    my_data[\"budget\"][index] = my_data['budget'][index].replace('AUD','')\n",
    "    my_data[\"budget\"][index] = int(my_data[\"budget\"][index])*1.53"
   ]
  },
  {
   "cell_type": "code",
   "execution_count": 607,
   "id": "c5a2e788-3faf-42a3-9384-c9693fa17650",
   "metadata": {
    "jupyter": {
     "source_hidden": true
    }
   },
   "outputs": [],
   "source": [
    "%%capture\n",
    "index = 0\n",
    "val = []\n",
    "for data in my_data['budget']:\n",
    "    #print(data)\n",
    "    if type(data) == str and ('JPY' in data):\n",
    "        #print(data)\n",
    "        val.append(index)\n",
    "    index = index + 1\n",
    "for index in val:\n",
    "    my_data[\"budget\"][index] = my_data['budget'][index].replace('JPY','')\n",
    "    my_data[\"budget\"][index] = int(my_data[\"budget\"][index])/151.44"
   ]
  },
  {
   "cell_type": "code",
   "execution_count": 608,
   "id": "005431bd-aeba-4e71-b0b4-0146d3e7a819",
   "metadata": {
    "jupyter": {
     "source_hidden": true
    }
   },
   "outputs": [],
   "source": [
    "%%capture\n",
    "index = 0\n",
    "val = []\n",
    "for data in my_data['budget']:\n",
    "    #print(data)\n",
    "    if type(data) == str and ('EGP' in data):\n",
    "        #print(data)\n",
    "        val.append(index)\n",
    "    index = index + 1\n",
    "for index in val:\n",
    "    my_data[\"budget\"][index] = my_data['budget'][index].replace('EGP','')\n",
    "    my_data[\"budget\"][index] = int(my_data[\"budget\"][index])/47.35"
   ]
  },
  {
   "cell_type": "code",
   "execution_count": 609,
   "id": "ca6678ef-ce8d-452b-a3bd-cb451b6b41a9",
   "metadata": {
    "jupyter": {
     "source_hidden": true
    }
   },
   "outputs": [],
   "source": [
    "%%capture\n",
    "index = 0\n",
    "val = []\n",
    "for data in my_data['budget']:\n",
    "    #print(data)\n",
    "    if type(data) == str and ('TRL' in data):\n",
    "        #print(data)\n",
    "        val.append(index)\n",
    "    index = index + 1\n",
    "for index in val:\n",
    "    my_data[\"budget\"][index] = my_data['budget'][index].replace('TRL','')\n",
    "    my_data[\"budget\"][index] = int(my_data[\"budget\"][index])*0.031"
   ]
  },
  {
   "cell_type": "code",
   "execution_count": 610,
   "id": "35566eb9-a087-4c33-a02e-5fbe9ac8c914",
   "metadata": {
    "jupyter": {
     "source_hidden": true
    }
   },
   "outputs": [],
   "source": [
    "%%capture\n",
    "index = 0\n",
    "val = []\n",
    "for data in my_data['budget']:\n",
    "    #print(data)\n",
    "    if type(data) == str and ('SEK' in data):\n",
    "        #print(data)\n",
    "        val.append(index)\n",
    "    index = index + 1\n",
    "for index in val:\n",
    "    my_data[\"budget\"][index] = my_data['budget'][index].replace('SEK','')\n",
    "    my_data[\"budget\"][index] = int(my_data[\"budget\"][index])*0.094"
   ]
  },
  {
   "cell_type": "code",
   "execution_count": 611,
   "id": "114e6fc4-f5b0-48a7-ab31-72788ff998db",
   "metadata": {
    "jupyter": {
     "source_hidden": true
    }
   },
   "outputs": [],
   "source": [
    "%%capture\n",
    "index = 0\n",
    "val = []\n",
    "for data in my_data['budget']:\n",
    "    #print(data)\n",
    "    if type(data) == str and ('IRR' in data):\n",
    "        #print(data)\n",
    "        val.append(index)\n",
    "    index = index + 1\n",
    "for index in val:\n",
    "    my_data[\"budget\"][index] = my_data['budget'][index].replace('IRR','')\n",
    "    my_data[\"budget\"][index] = int(my_data[\"budget\"][index])*0.000024"
   ]
  },
  {
   "cell_type": "code",
   "execution_count": 612,
   "id": "a3471c54-1e46-4263-9113-4f6111bd65db",
   "metadata": {
    "jupyter": {
     "source_hidden": true
    }
   },
   "outputs": [],
   "source": [
    "%%capture\n",
    "index = 0\n",
    "val = []\n",
    "for data in my_data['budget']:\n",
    "    #print(data)\n",
    "    if type(data) == str and ('PTE' in data):\n",
    "        #print(data)\n",
    "        val.append(index)\n",
    "    index = index + 1\n",
    "for index in val:\n",
    "    my_data[\"budget\"][index] = my_data['budget'][index].replace('PTE','')\n",
    "    my_data[\"budget\"][index] = int(my_data[\"budget\"][index])*0.00538522"
   ]
  },
  {
   "cell_type": "code",
   "execution_count": 613,
   "id": "87bcbaaf-4bb2-4dd5-9400-3f680c14fc00",
   "metadata": {
    "jupyter": {
     "source_hidden": true
    }
   },
   "outputs": [],
   "source": [
    "%%capture\n",
    "index = 0\n",
    "val = []\n",
    "for data in my_data['budget']:\n",
    "    #print(data)\n",
    "    if type(data) == str and ('NOK' in data):\n",
    "        #print(data)\n",
    "        val.append(index)\n",
    "    index = index + 1\n",
    "for index in val:\n",
    "    my_data[\"budget\"][index] = my_data['budget'][index].replace('NOK','')\n",
    "    my_data[\"budget\"][index] = int(my_data[\"budget\"][index])*0.092"
   ]
  },
  {
   "cell_type": "code",
   "execution_count": 614,
   "id": "c735925f-e302-445f-b37d-a2b0ca65a6f1",
   "metadata": {
    "jupyter": {
     "source_hidden": true
    }
   },
   "outputs": [],
   "source": [
    "%%capture\n",
    "index = 0\n",
    "val = []\n",
    "for data in my_data['budget']:\n",
    "    #print(data)\n",
    "    if type(data) == str and ('MXN' in data):\n",
    "        #print(data)\n",
    "        val.append(index)\n",
    "    index = index + 1\n",
    "for index in val:\n",
    "    my_data[\"budget\"][index] = my_data['budget'][index].replace('MXN','')\n",
    "    my_data[\"budget\"][index] = int(my_data[\"budget\"][index])*0.060"
   ]
  },
  {
   "cell_type": "code",
   "execution_count": 615,
   "id": "49add42a-c031-4b9e-89dd-b10ca495f1ec",
   "metadata": {
    "jupyter": {
     "source_hidden": true
    }
   },
   "outputs": [],
   "source": [
    "%%capture\n",
    "index = 0\n",
    "val = []\n",
    "for data in my_data['budget']:\n",
    "    #print(data)\n",
    "    if type(data) == str and ('HUF' in data):\n",
    "        #print(data)\n",
    "        val.append(index)\n",
    "    index = index + 1\n",
    "for index in val:\n",
    "    my_data[\"budget\"][index] = my_data['budget'][index].replace('HUF','')\n",
    "    my_data[\"budget\"][index] = int(my_data[\"budget\"][index])*0.0027"
   ]
  },
  {
   "cell_type": "code",
   "execution_count": 616,
   "id": "b363a8d9-a682-40f0-a758-cd6ec5bb6251",
   "metadata": {
    "jupyter": {
     "source_hidden": true
    }
   },
   "outputs": [],
   "source": [
    "%%capture\n",
    "index = 0\n",
    "val = []\n",
    "for data in my_data['budget']:\n",
    "    #print(data)\n",
    "    if type(data) == str and ('DKK' in data):\n",
    "        #print(data)\n",
    "        val.append(index)\n",
    "    index = index + 1\n",
    "for index in val:\n",
    "    my_data[\"budget\"][index] = my_data['budget'][index].replace('DKK','')\n",
    "    my_data[\"budget\"][index] = int(my_data[\"budget\"][index])*0.14"
   ]
  },
  {
   "cell_type": "code",
   "execution_count": 617,
   "id": "54b148f0-6ec2-4bb0-9185-092cd9c92683",
   "metadata": {
    "jupyter": {
     "source_hidden": true
    }
   },
   "outputs": [],
   "source": [
    "%%capture\n",
    "index = 0\n",
    "val = []\n",
    "for data in my_data['budget']:\n",
    "    #print(data)\n",
    "    if type(data) == str and ('DEM' in data):\n",
    "        #print(data)\n",
    "        val.append(index)\n",
    "    index = index + 1\n",
    "for index in val:\n",
    "    my_data[\"budget\"][index] = my_data['budget'][index].replace('DEM','')\n",
    "    my_data[\"budget\"][index] = int(my_data[\"budget\"][index])*0.0035"
   ]
  },
  {
   "cell_type": "code",
   "execution_count": 618,
   "id": "b4bdeabb-8452-40b0-b0f0-972e08700f7d",
   "metadata": {
    "jupyter": {
     "source_hidden": true
    }
   },
   "outputs": [],
   "source": [
    "%%capture\n",
    "index = 0\n",
    "val = []\n",
    "for data in my_data['budget']:\n",
    "    #print(data)\n",
    "    if type(data) == str and ('THB' in data):\n",
    "        #print(data)\n",
    "        val.append(index)\n",
    "    index = index + 1\n",
    "for index in val:\n",
    "    my_data[\"budget\"][index] = my_data['budget'][index].replace('THB','')\n",
    "    my_data[\"budget\"][index] = int(my_data[\"budget\"][index])*0.027"
   ]
  },
  {
   "cell_type": "code",
   "execution_count": 619,
   "id": "30a2a1db-0d4c-4e9c-9df8-cdd491bc5964",
   "metadata": {
    "jupyter": {
     "source_hidden": true
    }
   },
   "outputs": [],
   "source": [
    "%%capture\n",
    "index = 0\n",
    "val = []\n",
    "for data in my_data['budget']:\n",
    "    #print(data)\n",
    "    if type(data) == str and ('ITL' in data):\n",
    "        #print(data)\n",
    "        val.append(index)\n",
    "    index = index + 1\n",
    "for index in val:\n",
    "    my_data[\"budget\"][index] = my_data['budget'][index].replace('ITL','')\n",
    "    my_data[\"budget\"][index] = int(my_data[\"budget\"][index])*0.00054"
   ]
  },
  {
   "cell_type": "code",
   "execution_count": 620,
   "id": "4aa9ca9f-f04c-4233-9a2f-52284333b719",
   "metadata": {
    "jupyter": {
     "source_hidden": true
    }
   },
   "outputs": [],
   "source": [
    "%%capture\n",
    "index = 0\n",
    "val = []\n",
    "for data in my_data['budget']:\n",
    "    #print(data)\n",
    "    if type(data) == str and ('IDR' in data):\n",
    "        #print(data)\n",
    "        val.append(index)\n",
    "    index = index + 1\n",
    "for index in val:\n",
    "    my_data[\"budget\"][index] = my_data['budget'][index].replace('IDR','')\n",
    "    my_data[\"budget\"][index] = int(my_data[\"budget\"][index])*0.000063"
   ]
  },
  {
   "cell_type": "code",
   "execution_count": 621,
   "id": "380b1331-a2c4-4413-8be1-ca12b59eb963",
   "metadata": {
    "jupyter": {
     "source_hidden": true
    }
   },
   "outputs": [],
   "source": [
    "%%capture\n",
    "index = 0\n",
    "val = []\n",
    "for data in my_data['budget']:\n",
    "    #print(data)\n",
    "    if type(data) == str and ('CNY' in data):\n",
    "        #print(data)\n",
    "        val.append(index)\n",
    "    index = index + 1\n",
    "for index in val:\n",
    "    my_data[\"budget\"][index] = my_data['budget'][index].replace('CNY','')\n",
    "    my_data[\"budget\"][index] = int(my_data[\"budget\"][index])*0.14"
   ]
  },
  {
   "cell_type": "code",
   "execution_count": 622,
   "id": "7978084f-be95-4b89-be07-b709ef9cc5a4",
   "metadata": {
    "jupyter": {
     "source_hidden": true
    }
   },
   "outputs": [],
   "source": [
    "%%capture\n",
    "index = 0\n",
    "val = []\n",
    "for data in my_data['budget']:\n",
    "    #print(data)\n",
    "    if type(data) == str and ('CZK' in data):\n",
    "        #print(data)\n",
    "        val.append(index)\n",
    "    index = index + 1\n",
    "for index in val:\n",
    "    my_data[\"budget\"][index] = my_data['budget'][index].replace('CZK','')\n",
    "    my_data[\"budget\"][index] = int(my_data[\"budget\"][index])*0.043"
   ]
  },
  {
   "cell_type": "code",
   "execution_count": 623,
   "id": "27bbfb66-2ef0-4f6d-9f1d-408b6582c8d7",
   "metadata": {
    "jupyter": {
     "source_hidden": true
    }
   },
   "outputs": [],
   "source": [
    "%%capture\n",
    "index = 0\n",
    "val = []\n",
    "for data in my_data['budget']:\n",
    "    #print(data)\n",
    "    if type(data) == str and ('ARS' in data):\n",
    "        #print(data)\n",
    "        val.append(index)\n",
    "    index = index + 1\n",
    "for index in val:\n",
    "    my_data[\"budget\"][index] = my_data['budget'][index].replace('ARS','')\n",
    "    my_data[\"budget\"][index] = int(my_data[\"budget\"][index])*0.0012"
   ]
  },
  {
   "cell_type": "code",
   "execution_count": 624,
   "id": "52c02db6-ffe5-42a2-97d1-4320762e1fc7",
   "metadata": {
    "jupyter": {
     "source_hidden": true
    }
   },
   "outputs": [],
   "source": [
    "%%capture\n",
    "index = 0\n",
    "val = []\n",
    "for data in my_data['budget']:\n",
    "    #print(data)\n",
    "    if type(data) == str and ('BRL' in data):\n",
    "        #print(data)\n",
    "        val.append(index)\n",
    "    index = index + 1\n",
    "for index in val:\n",
    "    my_data[\"budget\"][index] = my_data['budget'][index].replace('BRL','')\n",
    "    my_data[\"budget\"][index] = int(my_data[\"budget\"][index])*0.20"
   ]
  },
  {
   "cell_type": "code",
   "execution_count": 625,
   "id": "12653497-1819-4231-a86f-c5a15bb7d4cb",
   "metadata": {
    "jupyter": {
     "source_hidden": true
    }
   },
   "outputs": [],
   "source": [
    "%%capture\n",
    "index = 0\n",
    "val = []\n",
    "for data in my_data['budget']:\n",
    "    #print(data)\n",
    "    if type(data) == str and ('KRW' in data):\n",
    "        #print(data)\n",
    "        val.append(index)\n",
    "    index = index + 1\n",
    "for index in val:\n",
    "    my_data[\"budget\"][index] = my_data['budget'][index].replace('KRW','')\n",
    "    my_data[\"budget\"][index] = int(my_data[\"budget\"][index])*0.00074"
   ]
  },
  {
   "cell_type": "code",
   "execution_count": 626,
   "id": "44eb2c52-f0b1-46fc-89ef-1308c5fa2ec2",
   "metadata": {
    "jupyter": {
     "source_hidden": true
    }
   },
   "outputs": [],
   "source": [
    "%%capture\n",
    "index = 0\n",
    "val = []\n",
    "for data in my_data['budget']:\n",
    "    #print(data)\n",
    "    if type(data) == str and ('RUR' in data):\n",
    "        #print(data)\n",
    "        val.append(index)\n",
    "    index = index + 1\n",
    "for index in val:\n",
    "    my_data[\"budget\"][index] = my_data['budget'][index].replace('RUR','')\n",
    "    my_data[\"budget\"][index] = int(my_data[\"budget\"][index])*0.011"
   ]
  },
  {
   "cell_type": "code",
   "execution_count": 627,
   "id": "2baedf53-fbed-4a4b-9440-6679cedf7cd9",
   "metadata": {
    "jupyter": {
     "source_hidden": true
    },
    "scrolled": true
   },
   "outputs": [],
   "source": [
    "%%capture\n",
    "index = 0\n",
    "val = []\n",
    "for data in my_data['budget']:\n",
    "    #print(data)\n",
    "    if type(data) == str and ('NLG' in data):\n",
    "        #print(data)\n",
    "        val.append(index)\n",
    "    index = index + 1\n",
    "for index in val:\n",
    "    my_data[\"budget\"][index] = my_data['budget'][index].replace('NLG','')\n",
    "    my_data[\"budget\"][index] = int(my_data[\"budget\"][index])*0.49"
   ]
  },
  {
   "cell_type": "code",
   "execution_count": 628,
   "id": "a18a1783-e90d-4f1b-94f5-71d035dada7b",
   "metadata": {
    "jupyter": {
     "source_hidden": true
    }
   },
   "outputs": [],
   "source": [
    "%%capture\n",
    "index = 0\n",
    "val = []\n",
    "for data in my_data['budget']:\n",
    "    #print(data)\n",
    "    if type(data) == str and ('DOP' in data):\n",
    "        #print(data)\n",
    "        val.append(index)\n",
    "    index = index + 1\n",
    "for index in val:\n",
    "    my_data[\"budget\"][index] = my_data['budget'][index].replace('DOP','')\n",
    "    my_data[\"budget\"][index] = int(my_data[\"budget\"][index])*0.017"
   ]
  },
  {
   "cell_type": "code",
   "execution_count": 629,
   "id": "68389a95-b3ae-4c1f-bc29-81f04ed4f2ef",
   "metadata": {
    "jupyter": {
     "source_hidden": true
    }
   },
   "outputs": [],
   "source": [
    "%%capture\n",
    "index = 0\n",
    "val = []\n",
    "for data in my_data['budget']:\n",
    "    #print(data)\n",
    "    if type(data) == str and ('HKD' in data):\n",
    "        #print(data)\n",
    "        val.append(index)\n",
    "    index = index + 1\n",
    "for index in val:\n",
    "    my_data[\"budget\"][index] = my_data['budget'][index].replace('HKD','')\n",
    "    my_data[\"budget\"][index] = int(my_data[\"budget\"][index])*0.13"
   ]
  },
  {
   "cell_type": "code",
   "execution_count": 630,
   "id": "fe14e66c-deca-437b-a84f-745a44c3b989",
   "metadata": {
    "jupyter": {
     "source_hidden": true
    }
   },
   "outputs": [],
   "source": [
    "%%capture\n",
    "index = 0\n",
    "val = []\n",
    "for data in my_data['budget']:\n",
    "    #print(data)\n",
    "    if type(data) == str and ('NZD' in data):\n",
    "        #print(data)\n",
    "        val.append(index)\n",
    "    index = index + 1\n",
    "for index in val:\n",
    "    my_data[\"budget\"][index] = my_data['budget'][index].replace('NZD','')\n",
    "    my_data[\"budget\"][index] = int(my_data[\"budget\"][index])*0.60"
   ]
  },
  {
   "cell_type": "code",
   "execution_count": 631,
   "id": "ccb399f1-8b5c-42c5-96ac-098173551a3e",
   "metadata": {
    "jupyter": {
     "source_hidden": true
    }
   },
   "outputs": [],
   "source": [
    "%%capture\n",
    "index = 0\n",
    "val = []\n",
    "for data in my_data['budget']:\n",
    "    #print(data)\n",
    "    if type(data) == str and ('AZM' in data):\n",
    "        #print(data)\n",
    "        val.append(index)\n",
    "    index = index + 1\n",
    "for index in val:\n",
    "    my_data[\"budget\"][index] = my_data['budget'][index].replace('AZM','')\n",
    "    my_data[\"budget\"][index] = int(my_data[\"budget\"][index])*0.59"
   ]
  },
  {
   "cell_type": "code",
   "execution_count": 632,
   "id": "ca791939-7782-4522-8f6a-3d02510a0978",
   "metadata": {
    "jupyter": {
     "source_hidden": true
    }
   },
   "outputs": [],
   "source": [
    "%%capture\n",
    "index = 0\n",
    "val = []\n",
    "for data in my_data['budget']:\n",
    "    #print(data)\n",
    "    if type(data) == str and ('SGD' in data):\n",
    "        #print(data)\n",
    "        val.append(index)\n",
    "    index = index + 1\n",
    "for index in val:\n",
    "    my_data[\"budget\"][index] = my_data['budget'][index].replace('SGD','')\n",
    "    my_data[\"budget\"][index] = int(my_data[\"budget\"][index])*0.74"
   ]
  },
  {
   "cell_type": "code",
   "execution_count": 633,
   "id": "f0e74006-9559-47ca-8837-e0b0e3725644",
   "metadata": {
    "jupyter": {
     "source_hidden": true
    }
   },
   "outputs": [],
   "source": [
    "%%capture\n",
    "index = 0\n",
    "val = []\n",
    "for data in my_data['budget']:\n",
    "    #print(data)\n",
    "    if type(data) == str and ('PLN' in data):\n",
    "        #print(data)\n",
    "        val.append(index)\n",
    "    index = index + 1\n",
    "for index in val:\n",
    "    my_data[\"budget\"][index] = my_data['budget'][index].replace('PLN','')\n",
    "    my_data[\"budget\"][index] = int(my_data[\"budget\"][index])*0.25"
   ]
  },
  {
   "cell_type": "code",
   "execution_count": 634,
   "id": "aa85d200-e276-4d08-9127-8bee4f31fe7a",
   "metadata": {
    "jupyter": {
     "source_hidden": true
    }
   },
   "outputs": [],
   "source": [
    "%%capture\n",
    "index = 0\n",
    "val = []\n",
    "for data in my_data['budget']:\n",
    "    #print(data)\n",
    "    if type(data) == str and ('BDT' in data):\n",
    "        #print(data)\n",
    "        val.append(index)\n",
    "    index = index + 1\n",
    "for index in val:\n",
    "    my_data[\"budget\"][index] = my_data['budget'][index].replace('BDT','')\n",
    "    my_data[\"budget\"][index] = int(my_data[\"budget\"][index])*0.0091"
   ]
  },
  {
   "cell_type": "code",
   "execution_count": 635,
   "id": "84b0574d-e3b2-4d80-a357-4596e9e96e14",
   "metadata": {
    "jupyter": {
     "source_hidden": true
    }
   },
   "outputs": [],
   "source": [
    "%%capture\n",
    "index = 0\n",
    "val = []\n",
    "for data in my_data['budget']:\n",
    "    #print(data)\n",
    "    if type(data) == str and ('ESP' in data):\n",
    "        #print(data)\n",
    "        val.append(index)\n",
    "    index = index + 1\n",
    "for index in val:\n",
    "    my_data[\"budget\"][index] = my_data['budget'][index].replace('ESP','')\n",
    "    my_data[\"budget\"][index] = int(my_data[\"budget\"][index])*1.08"
   ]
  },
  {
   "cell_type": "code",
   "execution_count": 636,
   "id": "16e4c4de-93a4-4bd3-bff4-072045020f16",
   "metadata": {
    "jupyter": {
     "source_hidden": true
    }
   },
   "outputs": [],
   "source": [
    "%%capture\n",
    "index = 0\n",
    "val = []\n",
    "for data in my_data['budget']:\n",
    "    #print(data)\n",
    "    if type(data) == str and ('MYR' in data):\n",
    "        #print(data)\n",
    "        val.append(index)\n",
    "    index = index + 1\n",
    "for index in val:\n",
    "    my_data[\"budget\"][index] = my_data['budget'][index].replace('MYR','')\n",
    "    my_data[\"budget\"][index] = int(my_data[\"budget\"][index])*0.211663"
   ]
  },
  {
   "cell_type": "code",
   "execution_count": 637,
   "id": "1ef56c54-c8c7-4b98-9b26-763da35c27a3",
   "metadata": {
    "jupyter": {
     "source_hidden": true
    }
   },
   "outputs": [],
   "source": [
    "%%capture\n",
    "index = 0\n",
    "val = []\n",
    "for data in my_data['budget']:\n",
    "    #print(data)\n",
    "    if type(data) == str and ('VND' in data):\n",
    "        #print(data)\n",
    "        val.append(index)\n",
    "    index = index + 1\n",
    "for index in val:\n",
    "    my_data[\"budget\"][index] = my_data['budget'][index].replace('VND','')\n",
    "    my_data[\"budget\"][index] = int(my_data[\"budget\"][index])*0.00004"
   ]
  },
  {
   "cell_type": "code",
   "execution_count": 638,
   "id": "9bbc30bd-07ef-4e6a-8476-19ff6ae8cfb6",
   "metadata": {
    "jupyter": {
     "source_hidden": true
    },
    "scrolled": true
   },
   "outputs": [],
   "source": [
    "%%capture\n",
    "index = 0\n",
    "val = []\n",
    "for data in my_data['budget']:\n",
    "    #print(data)\n",
    "    if type(data) == str and ('BGL' in data):\n",
    "        #print(data)\n",
    "        val.append(index)\n",
    "    index = index + 1\n",
    "for index in val:\n",
    "    my_data[\"budget\"][index] = my_data['budget'][index].replace('BGL','')\n",
    "    my_data[\"budget\"][index] = int(my_data[\"budget\"][index])*0.55"
   ]
  },
  {
   "cell_type": "code",
   "execution_count": 639,
   "id": "13350544-b4d2-422b-9d9c-67a9cb7d2387",
   "metadata": {
    "jupyter": {
     "source_hidden": true
    }
   },
   "outputs": [],
   "source": [
    "%%capture\n",
    "index = 0\n",
    "val = []\n",
    "for data in my_data['budget']:\n",
    "    #print(data)\n",
    "    if type(data) == str and ('ISK' in data):\n",
    "        #print(data)\n",
    "        val.append(index)\n",
    "    index = index + 1\n",
    "for index in val:\n",
    "    my_data[\"budget\"][index] = my_data['budget'][index].replace('ISK','')\n",
    "    my_data[\"budget\"][index] = int(my_data[\"budget\"][index])*0.0072"
   ]
  },
  {
   "cell_type": "code",
   "execution_count": 640,
   "id": "63564357-7278-4cae-9dfe-d29c5d2f4ffd",
   "metadata": {
    "jupyter": {
     "source_hidden": true
    }
   },
   "outputs": [],
   "source": [
    "%%capture\n",
    "index = 0\n",
    "val = []\n",
    "for data in my_data['budget']:\n",
    "    #print(data)\n",
    "    if type(data) == str and ('EEK' in data):\n",
    "        #print(data)\n",
    "        val.append(index)\n",
    "    index = index + 1\n",
    "for index in val:\n",
    "    my_data[\"budget\"][index] = my_data['budget'][index].replace('EEK','')\n",
    "    my_data[\"budget\"][index] = int(my_data[\"budget\"][index])*0.0690014"
   ]
  },
  {
   "cell_type": "code",
   "execution_count": 641,
   "id": "56f2e8d2-7882-493e-b559-f66516069052",
   "metadata": {
    "jupyter": {
     "source_hidden": true
    }
   },
   "outputs": [],
   "source": [
    "%%capture\n",
    "index = 0\n",
    "val = []\n",
    "for data in my_data['budget']:\n",
    "    #print(data)\n",
    "    if type(data) == str and ('BEF' in data):\n",
    "        #print(data)\n",
    "        val.append(index)\n",
    "    index = index + 1\n",
    "for index in val:\n",
    "    my_data[\"budget\"][index] = my_data['budget'][index].replace('BEF','')\n",
    "    my_data[\"budget\"][index] = int(my_data[\"budget\"][index])*0.0267636"
   ]
  },
  {
   "cell_type": "code",
   "execution_count": 642,
   "id": "1382b775-f90e-416f-846e-3ce67f363f1f",
   "metadata": {
    "jupyter": {
     "source_hidden": true
    }
   },
   "outputs": [],
   "source": [
    "%%capture\n",
    "index = 0\n",
    "val = []\n",
    "for data in my_data['budget']:\n",
    "    #print(data)\n",
    "    if type(data) == str and ('ROL' in data):\n",
    "        #print(data)\n",
    "        val.append(index)\n",
    "    index = index + 1\n",
    "for index in val:\n",
    "    my_data[\"budget\"][index] = my_data['budget'][index].replace('ROL','')\n",
    "    my_data[\"budget\"][index] = int(my_data[\"budget\"][index])*0.22"
   ]
  },
  {
   "cell_type": "code",
   "execution_count": 643,
   "id": "b9ac5a0c-9602-43c0-aa3e-133fe59c7a66",
   "metadata": {
    "jupyter": {
     "source_hidden": true
    }
   },
   "outputs": [],
   "source": [
    "%%capture\n",
    "index = 0\n",
    "val = []\n",
    "for data in my_data['budget']:\n",
    "    #print(data)\n",
    "    if type(data) == str and ('COP' in data):\n",
    "        #print(data)\n",
    "        val.append(index)\n",
    "    index = index + 1\n",
    "for index in val:\n",
    "    my_data[\"budget\"][index] = my_data['budget'][index].replace('COP','')\n",
    "    my_data[\"budget\"][index] = int(my_data[\"budget\"][index])*0.00026"
   ]
  },
  {
   "cell_type": "code",
   "execution_count": 644,
   "id": "c4df6106-d17c-45f9-a20c-d85db364c6cf",
   "metadata": {
    "jupyter": {
     "source_hidden": true
    }
   },
   "outputs": [],
   "source": [
    "%%capture\n",
    "index = 0\n",
    "val = []\n",
    "for data in my_data['budget']:\n",
    "    #print(data)\n",
    "    if type(data) == str and ('LKR' in data):\n",
    "        #print(data)\n",
    "        val.append(index)\n",
    "    index = index + 1\n",
    "for index in val:\n",
    "    my_data[\"budget\"][index] = my_data['budget'][index].replace('LKR','')\n",
    "    my_data[\"budget\"][index] = int(my_data[\"budget\"][index])*0.0033"
   ]
  },
  {
   "cell_type": "code",
   "execution_count": 645,
   "id": "0d2b1dd9-1a80-4878-a1d0-8f81ad7391c6",
   "metadata": {
    "jupyter": {
     "source_hidden": true
    }
   },
   "outputs": [],
   "source": [
    "%%capture\n",
    "index = 0\n",
    "val = []\n",
    "for data in my_data['budget']:\n",
    "    #print(data)\n",
    "    if type(data) == str and ('PHP' in data):\n",
    "        #print(data)\n",
    "        val.append(index)\n",
    "    index = index + 1\n",
    "for index in val:\n",
    "    my_data[\"budget\"][index] = my_data['budget'][index].replace('PHP','')\n",
    "    my_data[\"budget\"][index] = int(my_data[\"budget\"][index])*0.018"
   ]
  },
  {
   "cell_type": "code",
   "execution_count": 646,
   "id": "29033714-0352-4afd-8182-dfe5f1100a11",
   "metadata": {
    "jupyter": {
     "source_hidden": true
    }
   },
   "outputs": [],
   "source": [
    "%%capture\n",
    "index = 0\n",
    "val = []\n",
    "for data in my_data['budget']:\n",
    "    #print(data)\n",
    "    if type(data) == str and ('PKR' in data):\n",
    "        #print(data)\n",
    "        val.append(index)\n",
    "    index = index + 1\n",
    "for index in val:\n",
    "    my_data[\"budget\"][index] = my_data['budget'][index].replace('PKR','')\n",
    "    my_data[\"budget\"][index] = int(my_data[\"budget\"][index])*0.0036"
   ]
  },
  {
   "cell_type": "code",
   "execution_count": 647,
   "id": "defacd77-8c72-4f20-9cd7-7608c77431fb",
   "metadata": {
    "jupyter": {
     "source_hidden": true
    }
   },
   "outputs": [],
   "source": [
    "%%capture\n",
    "index = 0\n",
    "val = []\n",
    "for data in my_data['budget']:\n",
    "    #print(data)\n",
    "    if type(data) == str and ('SIT' in data):\n",
    "        #print(data)\n",
    "        val.append(index)\n",
    "    index = index + 1\n",
    "for index in val:\n",
    "    my_data[\"budget\"][index] = my_data['budget'][index].replace('SIT','')\n",
    "    my_data[\"budget\"][index] = int(my_data[\"budget\"][index])*0.0045114867"
   ]
  },
  {
   "cell_type": "code",
   "execution_count": 648,
   "id": "bb191ed7-1ea8-4584-8308-9fb0fe907c6e",
   "metadata": {
    "jupyter": {
     "source_hidden": true
    }
   },
   "outputs": [],
   "source": [
    "%%capture\n",
    "index = 0\n",
    "val = []\n",
    "for data in my_data['budget']:\n",
    "    #print(data)\n",
    "    if type(data) == str and ('ZAR' in data):\n",
    "        #print(data)\n",
    "        val.append(index)\n",
    "    index = index + 1\n",
    "for index in val:\n",
    "    my_data[\"budget\"][index] = my_data['budget'][index].replace('ZAR','')\n",
    "    my_data[\"budget\"][index] = int(my_data[\"budget\"][index])*0.054"
   ]
  },
  {
   "cell_type": "code",
   "execution_count": 649,
   "id": "bc57a3d6-1fea-43d5-8db6-c4751f87aae1",
   "metadata": {
    "jupyter": {
     "source_hidden": true
    },
    "scrolled": true
   },
   "outputs": [],
   "source": [
    "%%capture\n",
    "index = 0\n",
    "val = []\n",
    "for data in my_data['budget']:\n",
    "    #print(data)\n",
    "    if type(data) == str and ('CHF' in data):\n",
    "        #print(data)\n",
    "        val.append(index)\n",
    "    index = index + 1\n",
    "for index in val:\n",
    "    my_data[\"budget\"][index] = my_data['budget'][index].replace('CHF','')\n",
    "    my_data[\"budget\"][index] = int(my_data[\"budget\"][index])*1.11"
   ]
  },
  {
   "cell_type": "code",
   "execution_count": 650,
   "id": "bd623341-de67-4efe-84f9-01b5016b24e8",
   "metadata": {
    "jupyter": {
     "source_hidden": true
    }
   },
   "outputs": [],
   "source": [
    "%%capture\n",
    "index = 0\n",
    "val = []\n",
    "for data in my_data['budget']:\n",
    "    #print(data)\n",
    "    if type(data) == str and ('ILS' in data):\n",
    "        #print(data)\n",
    "        val.append(index)\n",
    "    index = index + 1\n",
    "for index in val:\n",
    "    my_data[\"budget\"][index] = my_data['budget'][index].replace('ILS','')\n",
    "    my_data[\"budget\"][index] = int(my_data[\"budget\"][index])*0.27"
   ]
  },
  {
   "cell_type": "code",
   "execution_count": 651,
   "id": "defe0262-fdc6-43c1-903e-a9a578f2dea0",
   "metadata": {
    "jupyter": {
     "source_hidden": true
    }
   },
   "outputs": [],
   "source": [
    "%%capture\n",
    "index = 0\n",
    "val = []\n",
    "for data in my_data['budget']:\n",
    "    #print(data)\n",
    "    if type(data) == str and ('CLP' in data):\n",
    "        #print(data)\n",
    "        val.append(index)\n",
    "    index = index + 1\n",
    "for index in val:\n",
    "    my_data[\"budget\"][index] = my_data['budget'][index].replace('CLP','')\n",
    "    my_data[\"budget\"][index] = int(my_data[\"budget\"][index])*0.0010"
   ]
  },
  {
   "cell_type": "code",
   "execution_count": 652,
   "id": "0f18b1ff-0604-42d9-95ae-acca7fd11d16",
   "metadata": {
    "jupyter": {
     "source_hidden": true
    }
   },
   "outputs": [],
   "source": [
    "%%capture\n",
    "index = 0\n",
    "val = []\n",
    "for data in my_data['budget']:\n",
    "    #print(data)\n",
    "    if type(data) == str and ('LVL' in data):\n",
    "        #print(data)\n",
    "        val.append(index)\n",
    "    index = index + 1\n",
    "for index in val:\n",
    "    my_data[\"budget\"][index] = my_data['budget'][index].replace('LVL','')\n",
    "    my_data[\"budget\"][index] = int(my_data[\"budget\"][index])*1.65"
   ]
  },
  {
   "cell_type": "code",
   "execution_count": 653,
   "id": "d7c3dc0f-2163-4ab4-8988-13ef899faa76",
   "metadata": {
    "jupyter": {
     "source_hidden": true
    }
   },
   "outputs": [],
   "source": [
    "%%capture\n",
    "index = 0\n",
    "val = []\n",
    "for data in my_data['budget']:\n",
    "    #print(data)\n",
    "    if type(data) == str and ('NPR' in data):\n",
    "        #print(data)\n",
    "        val.append(index)\n",
    "    index = index + 1\n",
    "for index in val:\n",
    "    my_data[\"budget\"][index] = my_data['budget'][index].replace('NPR','')\n",
    "    my_data[\"budget\"][index] = int(my_data[\"budget\"][index])*0.0075"
   ]
  },
  {
   "cell_type": "code",
   "execution_count": 654,
   "id": "e9c6b2d1-2ae1-4025-813f-b4baf6e5a3d1",
   "metadata": {
    "jupyter": {
     "source_hidden": true
    }
   },
   "outputs": [],
   "source": [
    "%%capture\n",
    "index = 0\n",
    "val = []\n",
    "for data in my_data['budget']:\n",
    "    #print(data)\n",
    "    if type(data) == str and ('YUM' in data):\n",
    "        #print(data)\n",
    "        val.append(index)\n",
    "    index = index + 1\n",
    "for index in val:\n",
    "    my_data[\"budget\"][index] = my_data['budget'][index].replace('YUM','')\n",
    "    my_data[\"budget\"][index] = int(my_data[\"budget\"][index])*0.552499"
   ]
  },
  {
   "cell_type": "code",
   "execution_count": 655,
   "id": "db207198-190e-4a2b-bbcb-a82017aa2dec",
   "metadata": {
    "jupyter": {
     "source_hidden": true
    }
   },
   "outputs": [],
   "source": [
    "%%capture\n",
    "index = 0\n",
    "val = []\n",
    "for data in my_data['budget']:\n",
    "    #print(data)\n",
    "    if type(data) == str and ('TWD' in data):\n",
    "        #print(data)\n",
    "        val.append(index)\n",
    "    index = index + 1\n",
    "for index in val:\n",
    "    my_data[\"budget\"][index] = my_data['budget'][index].replace('TWD','')\n",
    "    my_data[\"budget\"][index] = int(my_data[\"budget\"][index])*0.031"
   ]
  },
  {
   "cell_type": "code",
   "execution_count": 656,
   "id": "d0fb5cc2-0e49-4cfe-993c-1c67772790a6",
   "metadata": {
    "jupyter": {
     "source_hidden": true
    }
   },
   "outputs": [],
   "source": [
    "%%capture\n",
    "index = 0\n",
    "val = []\n",
    "for data in my_data['budget']:\n",
    "    #print(data)\n",
    "    if type(data) == str and ('GEL' in data):\n",
    "        #print(data)\n",
    "        val.append(index)\n",
    "    index = index + 1\n",
    "for index in val:\n",
    "    my_data[\"budget\"][index] = my_data['budget'][index].replace('GEL','')\n",
    "    my_data[\"budget\"][index] = int(my_data[\"budget\"][index])*0.37"
   ]
  },
  {
   "cell_type": "code",
   "execution_count": 657,
   "id": "c0e73c24-5794-4f7d-8cd1-175e65d98d37",
   "metadata": {
    "jupyter": {
     "source_hidden": true
    }
   },
   "outputs": [],
   "source": [
    "%%capture\n",
    "index = 0\n",
    "val = []\n",
    "for data in my_data['budget']:\n",
    "    #print(data)\n",
    "    if type(data) == str and ('AMD' in data):\n",
    "        #print(data)\n",
    "        val.append(index)\n",
    "    index = index + 1\n",
    "for index in val:\n",
    "    my_data[\"budget\"][index] = my_data['budget'][index].replace('AMD','')\n",
    "    my_data[\"budget\"][index] = int(my_data[\"budget\"][index])*0.0035"
   ]
  },
  {
   "cell_type": "code",
   "execution_count": 658,
   "id": "e1392566-8e3d-4a5f-ab66-2ce3bc9011fa",
   "metadata": {
    "jupyter": {
     "source_hidden": true
    }
   },
   "outputs": [],
   "source": [
    "%%capture\n",
    "index = 0\n",
    "val = []\n",
    "for data in my_data['budget']:\n",
    "    #print(data)\n",
    "    if type(data) == str and ('NGN' in data):\n",
    "        #print(data)\n",
    "        val.append(index)\n",
    "    index = index + 1\n",
    "for index in val:\n",
    "    my_data[\"budget\"][index] = my_data['budget'][index].replace('NGN','')\n",
    "    my_data[\"budget\"][index] = int(my_data[\"budget\"][index])*0.00076"
   ]
  },
  {
   "cell_type": "code",
   "execution_count": 659,
   "id": "33bbda9c-fa9a-4cd1-bf25-98c5c4867919",
   "metadata": {
    "jupyter": {
     "source_hidden": true
    }
   },
   "outputs": [],
   "source": [
    "%%capture\n",
    "index = 0\n",
    "val = []\n",
    "for data in my_data['budget']:\n",
    "    #print(data)\n",
    "    if type(data) == str and ('HRK' in data):\n",
    "        #print(data)\n",
    "        val.append(index)\n",
    "    index = index + 1\n",
    "for index in val:\n",
    "    my_data[\"budget\"][index] = my_data['budget'][index].replace('HRK','')\n",
    "    my_data[\"budget\"][index] = int(my_data[\"budget\"][index])*0.14244"
   ]
  },
  {
   "cell_type": "code",
   "execution_count": 660,
   "id": "bee0e41c-4ae7-405f-bd27-a9891c47cff7",
   "metadata": {
    "jupyter": {
     "source_hidden": true
    }
   },
   "outputs": [],
   "source": [
    "%%capture\n",
    "index = 0\n",
    "val = []\n",
    "for data in my_data['budget']:\n",
    "    #print(data)\n",
    "    if type(data) == str and ('MTL' in data):\n",
    "        #print(data)\n",
    "        val.append(index)\n",
    "    index = index + 1\n",
    "for index in val:\n",
    "    my_data[\"budget\"][index] = my_data['budget'][index].replace('MTL','')\n",
    "    my_data[\"budget\"][index] = int(my_data[\"budget\"][index])*2.51488"
   ]
  },
  {
   "cell_type": "code",
   "execution_count": 661,
   "id": "b1086efb-aef8-4e67-b4ec-bb661fee2422",
   "metadata": {
    "jupyter": {
     "source_hidden": true
    }
   },
   "outputs": [],
   "source": [
    "%%capture\n",
    "index = 0\n",
    "val = []\n",
    "for data in my_data['budget']:\n",
    "    #print(data)\n",
    "    if type(data) == str and ('MNT' in data):\n",
    "        #print(data)\n",
    "        val.append(index)\n",
    "    index = index + 1\n",
    "for index in val:\n",
    "    my_data[\"budget\"][index] = my_data['budget'][index].replace('MNT','')\n",
    "    my_data[\"budget\"][index] = int(my_data[\"budget\"][index])*0.00030"
   ]
  },
  {
   "cell_type": "code",
   "execution_count": 662,
   "id": "3a8c0ead-4ccb-4256-92c6-77f2e97107e1",
   "metadata": {
    "jupyter": {
     "source_hidden": true
    }
   },
   "outputs": [],
   "source": [
    "%%capture\n",
    "index = 0\n",
    "val = []\n",
    "for data in my_data['budget']:\n",
    "    #print(data)\n",
    "    if type(data) == str and ('LTL' in data):\n",
    "        #print(data)\n",
    "        val.append(index)\n",
    "    index = index + 1\n",
    "for index in val:\n",
    "    my_data[\"budget\"][index] = my_data['budget'][index].replace('LTL','')\n",
    "    my_data[\"budget\"][index] = int(my_data[\"budget\"][index])*0.312685"
   ]
  },
  {
   "cell_type": "code",
   "execution_count": 663,
   "id": "abe34929-939f-4f25-ba82-495e70192406",
   "metadata": {
    "jupyter": {
     "source_hidden": true
    }
   },
   "outputs": [],
   "source": [
    "%%capture\n",
    "index = 0\n",
    "val = []\n",
    "for data in my_data['budget']:\n",
    "    #print(data)\n",
    "    if type(data) == str and ('AED' in data):\n",
    "        #print(data)\n",
    "        val.append(index)\n",
    "    index = index + 1\n",
    "for index in val:\n",
    "    my_data[\"budget\"][index] = my_data['budget'][index].replace('AED','')\n",
    "    my_data[\"budget\"][index] = int(my_data[\"budget\"][index])*0.27"
   ]
  },
  {
   "cell_type": "code",
   "execution_count": 664,
   "id": "091929ef-5503-4208-a341-08863eb866d7",
   "metadata": {
    "jupyter": {
     "source_hidden": true
    }
   },
   "outputs": [],
   "source": [
    "%%capture\n",
    "index = 0\n",
    "val = []\n",
    "for data in my_data['budget']:\n",
    "    #print(data)\n",
    "    if type(data) == str and ('TTD' in data):\n",
    "        #print(data)\n",
    "        val.append(index)\n",
    "    index = index + 1\n",
    "for index in val:\n",
    "    my_data[\"budget\"][index] = my_data['budget'][index].replace('TTD','')\n",
    "    my_data[\"budget\"][index] = int(my_data[\"budget\"][index])*0.15"
   ]
  },
  {
   "cell_type": "code",
   "execution_count": 665,
   "id": "d539907c-4a96-4bc9-b70e-8fe5146d5f28",
   "metadata": {
    "jupyter": {
     "source_hidden": true
    }
   },
   "outputs": [],
   "source": [
    "%%capture\n",
    "index = 0\n",
    "val = []\n",
    "for data in my_data['budget']:\n",
    "    #print(data)\n",
    "    if type(data) == str and ('BND' in data):\n",
    "        #print(data)\n",
    "        val.append(index)\n",
    "    index = index + 1\n",
    "for index in val:\n",
    "    my_data[\"budget\"][index] = my_data['budget'][index].replace('BND','')\n",
    "    my_data[\"budget\"][index] = int(my_data[\"budget\"][index])*0.74"
   ]
  },
  {
   "cell_type": "code",
   "execution_count": 666,
   "id": "115b2b25-527a-40f6-ae99-f7d15ade0e6e",
   "metadata": {
    "jupyter": {
     "source_hidden": true
    }
   },
   "outputs": [],
   "source": [
    "%%capture\n",
    "index = 0\n",
    "val = []\n",
    "for data in my_data['budget']:\n",
    "    #print(data)\n",
    "    if type(data) == str and ('IEP' in data):\n",
    "        #print(data)\n",
    "        val.append(index)\n",
    "    index = index + 1\n",
    "for index in val:\n",
    "    my_data[\"budget\"][index] = my_data['budget'][index].replace('IEP','')\n",
    "    my_data[\"budget\"][index] = int(my_data[\"budget\"][index])*1.37086"
   ]
  },
  {
   "cell_type": "code",
   "execution_count": 667,
   "id": "af00a19e-4bdd-4227-9cc0-ac045a843dac",
   "metadata": {
    "jupyter": {
     "source_hidden": true
    }
   },
   "outputs": [],
   "source": [
    "%%capture\n",
    "index = 0\n",
    "val = []\n",
    "for data in my_data['budget']:\n",
    "    #print(data)\n",
    "    if type(data) == str and ('RON' in data):\n",
    "        #print(data)\n",
    "        val.append(index)\n",
    "    index = index + 1\n",
    "for index in val:\n",
    "    my_data[\"budget\"][index] = my_data['budget'][index].replace('RON','')\n",
    "    my_data[\"budget\"][index] = int(my_data[\"budget\"][index])*0.22"
   ]
  },
  {
   "cell_type": "code",
   "execution_count": 668,
   "id": "4bb79a1d-7d69-470a-ae80-8bc67bdaa77f",
   "metadata": {
    "jupyter": {
     "source_hidden": true
    }
   },
   "outputs": [],
   "source": [
    "%%capture\n",
    "index = 0\n",
    "val = []\n",
    "for data in my_data['budget']:\n",
    "    #print(data)\n",
    "    if type(data) == str and ('ALL' in data):\n",
    "        #print(data)\n",
    "        val.append(index)\n",
    "    index = index + 1\n",
    "for index in val:\n",
    "    my_data[\"budget\"][index] = my_data['budget'][index].replace('ALL','')\n",
    "    my_data[\"budget\"][index] = int(my_data[\"budget\"][index])*1.35"
   ]
  },
  {
   "cell_type": "code",
   "execution_count": 669,
   "id": "31284ccb-f1f5-4a31-925a-da83333cd444",
   "metadata": {
    "jupyter": {
     "source_hidden": true
    }
   },
   "outputs": [],
   "source": [
    "%%capture\n",
    "index = 0\n",
    "val = []\n",
    "for data in my_data['budget']:\n",
    "    #print(data)\n",
    "    if type(data) == str and ('INR' in data):\n",
    "        #print(data)\n",
    "        val.append(index)\n",
    "    index = index + 1\n",
    "for index in val:\n",
    "    my_data[\"budget\"][index] = my_data['budget'][index].replace('INR','')\n",
    "    my_data[\"budget\"][index] = int(my_data[\"budget\"][index])*0.012"
   ]
  },
  {
   "cell_type": "code",
   "execution_count": 670,
   "id": "540d4d0f-5f11-40eb-a2c3-5289b696158f",
   "metadata": {
    "jupyter": {
     "source_hidden": true
    }
   },
   "outputs": [],
   "source": [
    "%%capture\n",
    "index = 0\n",
    "val = []\n",
    "for data in my_data['budget']:\n",
    "    #print(data)\n",
    "    if type(data) == str and ('JOD' in data):\n",
    "        #print(data)\n",
    "        val.append(index)\n",
    "    index = index + 1\n",
    "for index in val:\n",
    "    my_data[\"budget\"][index] = my_data['budget'][index].replace('JOD','')\n",
    "    my_data[\"budget\"][index] = int(my_data[\"budget\"][index])*1.41"
   ]
  },
  {
   "cell_type": "code",
   "execution_count": 671,
   "id": "d7501075-e919-4928-90e8-3cd150770b0d",
   "metadata": {
    "jupyter": {
     "source_hidden": true
    }
   },
   "outputs": [],
   "source": [
    "%%capture\n",
    "index = 0\n",
    "val = []\n",
    "for data in my_data['budget']:\n",
    "    #print(data)\n",
    "    if type(data) == str and ('FIM' in data):\n",
    "        #print(data)\n",
    "        val.append(index)\n",
    "    index = index + 1\n",
    "for index in val:\n",
    "    my_data[\"budget\"][index] = my_data['budget'][index].replace('FIM','')\n",
    "    my_data[\"budget\"][index] = int(my_data[\"budget\"][index])*0.18"
   ]
  },
  {
   "cell_type": "code",
   "execution_count": 672,
   "id": "cecc81fa-63f8-4524-9a8f-4316eb16d7d1",
   "metadata": {
    "jupyter": {
     "source_hidden": true
    }
   },
   "outputs": [],
   "source": [
    "%%capture\n",
    "index = 0\n",
    "val = []\n",
    "for data in my_data['budget']:\n",
    "    #print(data)\n",
    "    if type(data) == str and ('UAH' in data):\n",
    "        #print(data)\n",
    "        val.append(index)\n",
    "    index = index + 1\n",
    "for index in val:\n",
    "    my_data[\"budget\"][index] = my_data['budget'][index].replace('UAH','')\n",
    "    my_data[\"budget\"][index] = int(my_data[\"budget\"][index])*0.026"
   ]
  },
  {
   "cell_type": "code",
   "execution_count": 673,
   "id": "7975b545-feca-4b1b-9716-c8af2576857d",
   "metadata": {
    "jupyter": {
     "source_hidden": true
    }
   },
   "outputs": [],
   "source": [
    "%%capture\n",
    "index = 0\n",
    "val = []\n",
    "for data in my_data['budget']:\n",
    "    #print(data)\n",
    "    if type(data) == str and ('VEB' in data):\n",
    "        #print(data)\n",
    "        val.append(index)\n",
    "    index = index + 1\n",
    "for index in val:\n",
    "    my_data[\"budget\"][index] = my_data['budget'][index].replace('VEB','')\n",
    "    my_data[\"budget\"][index] = int(my_data[\"budget\"][index])*0.0276"
   ]
  },
  {
   "cell_type": "code",
   "execution_count": 674,
   "id": "c7d78d17-6186-4fe7-9863-a711582e8eb1",
   "metadata": {},
   "outputs": [],
   "source": [
    "my_data[\"budget\"] = pd.to_numeric(my_data['budget'])"
   ]
  },
  {
   "cell_type": "code",
   "execution_count": 675,
   "id": "5e4e5654-f845-4029-91e7-d49238652151",
   "metadata": {},
   "outputs": [
    {
     "name": "stderr",
     "output_type": "stream",
     "text": [
      "C:\\Users\\minha\\AppData\\Local\\Temp\\ipykernel_8184\\3933946565.py:2: FutureWarning: A value is trying to be set on a copy of a DataFrame or Series through chained assignment using an inplace method.\n",
      "The behavior will change in pandas 3.0. This inplace method will never work because the intermediate object on which we are setting values always behaves as a copy.\n",
      "\n",
      "For example, when doing 'df[col].method(value, inplace=True)', try using 'df.method({col: value}, inplace=True)' or df[col] = df[col].method(value) instead, to perform the operation inplace on the original object.\n",
      "\n",
      "\n",
      "  my_data['budget'].fillna(mean, inplace = True)\n"
     ]
    }
   ],
   "source": [
    "mean = my_data['budget'].mean()\n",
    "my_data['budget'].fillna(mean, inplace = True)"
   ]
  },
  {
   "cell_type": "code",
   "execution_count": 676,
   "id": "9278effe-ba34-416f-91cd-7389b2369e9a",
   "metadata": {
    "jupyter": {
     "source_hidden": true
    },
    "scrolled": true
   },
   "outputs": [
    {
     "name": "stdout",
     "output_type": "stream",
     "text": [
      "<class 'pandas.core.frame.DataFrame'>\n",
      "RangeIndex: 65846 entries, 0 to 65845\n",
      "Data columns (total 17 columns):\n",
      " #   Column                 Non-Null Count  Dtype  \n",
      "---  ------                 --------------  -----  \n",
      " 0   title                  65846 non-null  object \n",
      " 1   original_title         65846 non-null  object \n",
      " 2   year                   65846 non-null  int64  \n",
      " 3   date_published         65846 non-null  object \n",
      " 4   genre                  65846 non-null  object \n",
      " 5   duration               65846 non-null  int64  \n",
      " 6   country                65846 non-null  object \n",
      " 7   language               65846 non-null  object \n",
      " 8   director               65846 non-null  object \n",
      " 9   writer                 65846 non-null  object \n",
      " 10  production_company     65846 non-null  object \n",
      " 11  actors                 65846 non-null  object \n",
      " 12  description            65846 non-null  object \n",
      " 13  budget                 65846 non-null  float64\n",
      " 14  usa_gross_income       65846 non-null  float64\n",
      " 15  worlwide_gross_income  65846 non-null  float64\n",
      " 16  popularity             65846 non-null  object \n",
      "dtypes: float64(3), int64(2), object(12)\n",
      "memory usage: 8.5+ MB\n"
     ]
    }
   ],
   "source": [
    "my_data.info()"
   ]
  },
  {
   "cell_type": "markdown",
   "id": "775c2b1d-c36e-4deb-8aaa-75fab66862b5",
   "metadata": {},
   "source": [
    "# Checkpoint"
   ]
  },
  {
   "cell_type": "code",
   "execution_count": 677,
   "id": "9ec01921-d5a5-41df-9f69-38be9d13223a",
   "metadata": {},
   "outputs": [],
   "source": [
    "# my_data['popularity'] = pd.Categorical(my_data['popularity'], categories=[\"unpopular\", \"popular\"], ordered=True)\n",
    "# pd.crosstab(my_data.genre, my_data.popularity).plot(kind = 'bar', figsize = (25,6), color = [\"salmon\", 'lightblue'])\n",
    "\n",
    "# plt.title(\"Popularity frequency per genre\")\n",
    "# plt.xlabel(\"genre\")\n",
    "# plt.ylabel(\"Amount\")\n",
    "# plt.legend([\"unpopular\", \"popular\"])\n",
    "# plt.xticks(rotation = 0);"
   ]
  },
  {
   "cell_type": "code",
   "execution_count": 678,
   "id": "41c66b93-232c-47e9-a678-9626e20fbe1f",
   "metadata": {},
   "outputs": [],
   "source": [
    "my_data[\"change_title\"] = (my_data[\"title\"] == my_data[\"original_title\"]).astype(int)"
   ]
  },
  {
   "cell_type": "code",
   "execution_count": 679,
   "id": "c4fded08-a5ba-4d5a-8b31-c7e4d18a592a",
   "metadata": {},
   "outputs": [],
   "source": [
    "my_data[\"age\"] = 2024 - my_data[\"year\"]"
   ]
  },
  {
   "cell_type": "code",
   "execution_count": 680,
   "id": "0bbc3126-450a-4913-801b-f9174ab037c5",
   "metadata": {},
   "outputs": [],
   "source": [
    "copy_data = my_data.copy()"
   ]
  },
  {
   "cell_type": "code",
   "execution_count": 681,
   "id": "88fd17e9-8e46-416f-a7fa-ec0879ed20b3",
   "metadata": {},
   "outputs": [],
   "source": [
    "# from sklearn.compose import ColumnTransformer\n",
    "# column_transformer = ColumnTransformer(\n",
    "#     transformers = [\n",
    "#         ('description_tranform', CountVectorizer(stop_words = 'english'), 'description')\n",
    "#     ],\n",
    "#     remainder = 'drop'\n",
    "# )\n",
    "# transformed_data = column_transformer.fit_transform(my_data)"
   ]
  },
  {
   "cell_type": "code",
   "execution_count": 682,
   "id": "70596ccf-bfa5-4e90-94b5-d3571c3e1c76",
   "metadata": {},
   "outputs": [],
   "source": [
    "# count_vec = column_transformer.named_transformers_[\"description_tranform\"]\n",
    "# feature_names = count_vec.get_feature_names_out()\n",
    "# prefixed_feature_names = [\"mat_\" + feature for feature in feature_names]\n",
    "\n",
    "# sparse_mat = pd.DataFrame.sparse.from_spmatrix(transformed_data, columns = prefixed_feature_names)\n",
    "# cols = []\n",
    "# for col in my_data.columns:\n",
    "#     cols.append(col)"
   ]
  },
  {
   "cell_type": "code",
   "execution_count": 683,
   "id": "36225552-e566-40d2-8981-f4fe11093588",
   "metadata": {},
   "outputs": [],
   "source": [
    "# sparse_mat.index = my_data.index"
   ]
  },
  {
   "cell_type": "code",
   "execution_count": 684,
   "id": "1bed5f00-f77a-4b1d-a29c-3864b655f4fd",
   "metadata": {},
   "outputs": [],
   "source": [
    "# my_data = pd.concat([my_data[cols], sparse_mat], axis = 1)"
   ]
  },
  {
   "cell_type": "code",
   "execution_count": 685,
   "id": "108f16d6-4186-49f0-a569-3085c0042188",
   "metadata": {},
   "outputs": [],
   "source": [
    "copy_data = pd.read_csv(\"data/train.csv\")\n",
    "huhu = pd.to_datetime(copy_data[\"date_published\"], errors = 'coerce')\n",
    "huhu = huhu.dt.strftime(\"%m-%d\")\n",
    "\n",
    "my_data[\"date_published\"] = huhu"
   ]
  },
  {
   "cell_type": "code",
   "execution_count": 686,
   "id": "a457b8b3-bf2a-4568-a063-185963af92a7",
   "metadata": {},
   "outputs": [],
   "source": [
    "refined_data = my_data.drop([\"title\", \"original_title\", \"year\", \"description\"], axis = 1)\n",
    "refined_data = refined_data.iloc[:, :15]"
   ]
  },
  {
   "cell_type": "code",
   "execution_count": 687,
   "id": "e5b0507c-b6dd-4b63-9150-5ea326a64d43",
   "metadata": {},
   "outputs": [],
   "source": [
    "refined_data[\"popularity\"] = (refined_data[\"popularity\"] == \"popular\").astype(int)"
   ]
  },
  {
   "cell_type": "code",
   "execution_count": 688,
   "id": "ff4d11b5-81b5-4d0d-b20e-8a55469469d7",
   "metadata": {},
   "outputs": [],
   "source": [
    "# still need to fix country, language, director, writer, production_comp, actors, budget, usa_gross_income, worldwide_gross_income\n",
    "\n",
    "refined_data.shape\n",
    "refined_data[\"genre\"] = refined_data[\"genre\"].str.split(', ')"
   ]
  },
  {
   "cell_type": "code",
   "execution_count": 689,
   "id": "6eaf8f17-2c56-45dc-b7d1-df8b5c64ea54",
   "metadata": {},
   "outputs": [],
   "source": [
    "refined_data[\"country\"] = refined_data[\"country\"].str.split(', ')\n",
    "refined_data[\"language\"] = refined_data[\"language\"].str.split(', ')\n",
    "refined_data[\"director\"] = refined_data[\"director\"].str.split(', ')\n",
    "refined_data[\"writer\"] = refined_data[\"writer\"].str.split(', ')\n",
    "refined_data[\"production_company\"] = refined_data[\"production_company\"].str.split(', ')\n",
    "refined_data[\"actors\"] = refined_data[\"actors\"].str.split(', ')"
   ]
  },
  {
   "cell_type": "code",
   "execution_count": 690,
   "id": "1bdbca74-b74a-4157-b30a-b5cc823aac4d",
   "metadata": {},
   "outputs": [],
   "source": [
    "def apply_mean(row, mean, name, global_mean):\n",
    "    m_list = row[name]\n",
    "    means = [mean.get(item, global_mean) for item in m_list]\n",
    "    return np.mean(means)"
   ]
  },
  {
   "cell_type": "code",
   "execution_count": 691,
   "id": "e81158b3-345a-4287-98f2-1246587b4a8a",
   "metadata": {},
   "outputs": [],
   "source": [
    "cut_data = refined_data"
   ]
  },
  {
   "cell_type": "code",
   "execution_count": 692,
   "id": "33402c4d-1e80-458e-9558-29c6364d5611",
   "metadata": {},
   "outputs": [],
   "source": [
    "exploded_data = refined_data.explode(\"genre\")\n",
    "genre_target_mean = exploded_data.groupby(\"genre\")['popularity'].mean()\n",
    "\n",
    "global_mean = exploded_data[\"popularity\"].mean()\n",
    "\n",
    "refined_data[\"genre\"] = cut_data.apply(lambda row: apply_mean(row, genre_target_mean, \"genre\", global_mean), axis = 1)"
   ]
  },
  {
   "cell_type": "code",
   "execution_count": 693,
   "id": "817d1b6b-9242-4db8-934b-d7eb0b2eb5d3",
   "metadata": {},
   "outputs": [],
   "source": [
    "import json\n",
    "\n",
    "mapping = {\n",
    "    \"genre\":{\n",
    "        \"target_mean\": genre_target_mean.to_dict(),\n",
    "        \"global_mean\": global_mean\n",
    "    }\n",
    "}"
   ]
  },
  {
   "cell_type": "code",
   "execution_count": 694,
   "id": "fefd4436-326f-4e14-a272-9667db7af1f7",
   "metadata": {},
   "outputs": [
    {
     "data": {
      "text/html": [
       "<div>\n",
       "<style scoped>\n",
       "    .dataframe tbody tr th:only-of-type {\n",
       "        vertical-align: middle;\n",
       "    }\n",
       "\n",
       "    .dataframe tbody tr th {\n",
       "        vertical-align: top;\n",
       "    }\n",
       "\n",
       "    .dataframe thead th {\n",
       "        text-align: right;\n",
       "    }\n",
       "</style>\n",
       "<table border=\"1\" class=\"dataframe\">\n",
       "  <thead>\n",
       "    <tr style=\"text-align: right;\">\n",
       "      <th></th>\n",
       "      <th>date_published</th>\n",
       "      <th>genre</th>\n",
       "      <th>duration</th>\n",
       "      <th>country</th>\n",
       "      <th>language</th>\n",
       "      <th>director</th>\n",
       "      <th>writer</th>\n",
       "      <th>production_company</th>\n",
       "      <th>actors</th>\n",
       "      <th>budget</th>\n",
       "      <th>usa_gross_income</th>\n",
       "      <th>worlwide_gross_income</th>\n",
       "      <th>popularity</th>\n",
       "      <th>change_title</th>\n",
       "      <th>age</th>\n",
       "    </tr>\n",
       "  </thead>\n",
       "  <tbody>\n",
       "    <tr>\n",
       "      <th>0</th>\n",
       "      <td>05-27</td>\n",
       "      <td>0.672597</td>\n",
       "      <td>95</td>\n",
       "      <td>0.623577</td>\n",
       "      <td>[Italian, German]</td>\n",
       "      <td>[Gianfranco De Bosio]</td>\n",
       "      <td>[Gianfranco De Bosio, Luigi Squarzina]</td>\n",
       "      <td>[22 Dicembre]</td>\n",
       "      <td>[Gian Maria Volontè, Philippe Leroy, Giulio Bo...</td>\n",
       "      <td>1.154386e+07</td>\n",
       "      <td>1.912712e+07</td>\n",
       "      <td>2.200028e+07</td>\n",
       "      <td>1</td>\n",
       "      <td>1</td>\n",
       "      <td>61</td>\n",
       "    </tr>\n",
       "    <tr>\n",
       "      <th>1</th>\n",
       "      <td>04-14</td>\n",
       "      <td>0.672597</td>\n",
       "      <td>92</td>\n",
       "      <td>0.588511</td>\n",
       "      <td>[German]</td>\n",
       "      <td>[Margarethe von Trotta]</td>\n",
       "      <td>[Margarethe von Trotta, Luisa Francia]</td>\n",
       "      <td>[Bioskop Film]</td>\n",
       "      <td>[Tina Engel, Silvia Reize, Katharina Thalbach,...</td>\n",
       "      <td>1.154386e+07</td>\n",
       "      <td>1.912712e+07</td>\n",
       "      <td>2.200028e+07</td>\n",
       "      <td>1</td>\n",
       "      <td>0</td>\n",
       "      <td>46</td>\n",
       "    </tr>\n",
       "    <tr>\n",
       "      <th>2</th>\n",
       "      <td>11-15</td>\n",
       "      <td>0.605319</td>\n",
       "      <td>81</td>\n",
       "      <td>0.455850</td>\n",
       "      <td>[English]</td>\n",
       "      <td>[Richard Whorf]</td>\n",
       "      <td>[Philip MacDonald, Frank Vosper]</td>\n",
       "      <td>[Bryan Foy Productions]</td>\n",
       "      <td>[John Hodiak, Sylvia Sidney, Ann Richards, Joh...</td>\n",
       "      <td>1.154386e+07</td>\n",
       "      <td>1.912712e+07</td>\n",
       "      <td>2.200028e+07</td>\n",
       "      <td>0</td>\n",
       "      <td>0</td>\n",
       "      <td>77</td>\n",
       "    </tr>\n",
       "    <tr>\n",
       "      <th>3</th>\n",
       "      <td>06-28</td>\n",
       "      <td>0.634396</td>\n",
       "      <td>95</td>\n",
       "      <td>0.787385</td>\n",
       "      <td>[Japanese, Mandarin, Min Nan]</td>\n",
       "      <td>[Takashi Miike]</td>\n",
       "      <td>[Seigo Inoue]</td>\n",
       "      <td>[Daiei]</td>\n",
       "      <td>[Shô Aikawa, Li Wei Chang, Shih Chang, Xianmei...</td>\n",
       "      <td>1.154386e+07</td>\n",
       "      <td>1.912712e+07</td>\n",
       "      <td>2.200028e+07</td>\n",
       "      <td>1</td>\n",
       "      <td>0</td>\n",
       "      <td>27</td>\n",
       "    </tr>\n",
       "    <tr>\n",
       "      <th>4</th>\n",
       "      <td>03-03</td>\n",
       "      <td>0.551396</td>\n",
       "      <td>93</td>\n",
       "      <td>0.623577</td>\n",
       "      <td>[Italian]</td>\n",
       "      <td>[Michele Placido]</td>\n",
       "      <td>[Graziano Diana, Angelo Pasquini]</td>\n",
       "      <td>[Corsan]</td>\n",
       "      <td>[Fabrizio Bentivoglio, Michele Placido, Omero ...</td>\n",
       "      <td>1.154386e+07</td>\n",
       "      <td>1.912712e+07</td>\n",
       "      <td>2.200028e+07</td>\n",
       "      <td>1</td>\n",
       "      <td>1</td>\n",
       "      <td>29</td>\n",
       "    </tr>\n",
       "  </tbody>\n",
       "</table>\n",
       "</div>"
      ],
      "text/plain": [
       "  date_published     genre  duration   country                       language  \\\n",
       "0          05-27  0.672597        95  0.623577              [Italian, German]   \n",
       "1          04-14  0.672597        92  0.588511                       [German]   \n",
       "2          11-15  0.605319        81  0.455850                      [English]   \n",
       "3          06-28  0.634396        95  0.787385  [Japanese, Mandarin, Min Nan]   \n",
       "4          03-03  0.551396        93  0.623577                      [Italian]   \n",
       "\n",
       "                  director                                  writer  \\\n",
       "0    [Gianfranco De Bosio]  [Gianfranco De Bosio, Luigi Squarzina]   \n",
       "1  [Margarethe von Trotta]  [Margarethe von Trotta, Luisa Francia]   \n",
       "2          [Richard Whorf]        [Philip MacDonald, Frank Vosper]   \n",
       "3          [Takashi Miike]                           [Seigo Inoue]   \n",
       "4        [Michele Placido]       [Graziano Diana, Angelo Pasquini]   \n",
       "\n",
       "        production_company                                             actors  \\\n",
       "0            [22 Dicembre]  [Gian Maria Volontè, Philippe Leroy, Giulio Bo...   \n",
       "1           [Bioskop Film]  [Tina Engel, Silvia Reize, Katharina Thalbach,...   \n",
       "2  [Bryan Foy Productions]  [John Hodiak, Sylvia Sidney, Ann Richards, Joh...   \n",
       "3                  [Daiei]  [Shô Aikawa, Li Wei Chang, Shih Chang, Xianmei...   \n",
       "4                 [Corsan]  [Fabrizio Bentivoglio, Michele Placido, Omero ...   \n",
       "\n",
       "         budget  usa_gross_income  worlwide_gross_income  popularity  \\\n",
       "0  1.154386e+07      1.912712e+07           2.200028e+07           1   \n",
       "1  1.154386e+07      1.912712e+07           2.200028e+07           1   \n",
       "2  1.154386e+07      1.912712e+07           2.200028e+07           0   \n",
       "3  1.154386e+07      1.912712e+07           2.200028e+07           1   \n",
       "4  1.154386e+07      1.912712e+07           2.200028e+07           1   \n",
       "\n",
       "   change_title  age  \n",
       "0             1   61  \n",
       "1             0   46  \n",
       "2             0   77  \n",
       "3             0   27  \n",
       "4             1   29  "
      ]
     },
     "execution_count": 694,
     "metadata": {},
     "output_type": "execute_result"
    }
   ],
   "source": [
    "exploded_data = refined_data.explode(\"country\")\n",
    "target_mean = exploded_data.groupby(\"country\")[\"popularity\"].mean()\n",
    "\n",
    "global_mean = exploded_data[\"popularity\"].mean()\n",
    "\n",
    "refined_data[\"country\"] = cut_data.apply(lambda row: apply_mean(row, target_mean, \"country\", global_mean), axis = 1)\n",
    "refined_data.iloc[:5,:20] "
   ]
  },
  {
   "cell_type": "code",
   "execution_count": 695,
   "id": "4516fec0-9dcf-4400-9f9b-d7fa56df47ee",
   "metadata": {},
   "outputs": [],
   "source": [
    "mapping[\"country\"] = {\n",
    "    \"target_mean\":target_mean.to_dict(),\n",
    "    \"global_mean\": global_mean\n",
    "}"
   ]
  },
  {
   "cell_type": "code",
   "execution_count": 696,
   "id": "18063875-127b-4ffe-9232-9da1fcf359ac",
   "metadata": {},
   "outputs": [
    {
     "data": {
      "text/html": [
       "<div>\n",
       "<style scoped>\n",
       "    .dataframe tbody tr th:only-of-type {\n",
       "        vertical-align: middle;\n",
       "    }\n",
       "\n",
       "    .dataframe tbody tr th {\n",
       "        vertical-align: top;\n",
       "    }\n",
       "\n",
       "    .dataframe thead th {\n",
       "        text-align: right;\n",
       "    }\n",
       "</style>\n",
       "<table border=\"1\" class=\"dataframe\">\n",
       "  <thead>\n",
       "    <tr style=\"text-align: right;\">\n",
       "      <th></th>\n",
       "      <th>date_published</th>\n",
       "      <th>genre</th>\n",
       "      <th>duration</th>\n",
       "      <th>country</th>\n",
       "      <th>language</th>\n",
       "      <th>director</th>\n",
       "      <th>writer</th>\n",
       "      <th>production_company</th>\n",
       "      <th>actors</th>\n",
       "      <th>budget</th>\n",
       "      <th>usa_gross_income</th>\n",
       "      <th>worlwide_gross_income</th>\n",
       "      <th>popularity</th>\n",
       "      <th>change_title</th>\n",
       "      <th>age</th>\n",
       "    </tr>\n",
       "  </thead>\n",
       "  <tbody>\n",
       "    <tr>\n",
       "      <th>0</th>\n",
       "      <td>05-27</td>\n",
       "      <td>0.672597</td>\n",
       "      <td>95</td>\n",
       "      <td>0.623577</td>\n",
       "      <td>0.637768</td>\n",
       "      <td>[Gianfranco De Bosio]</td>\n",
       "      <td>[Gianfranco De Bosio, Luigi Squarzina]</td>\n",
       "      <td>[22 Dicembre]</td>\n",
       "      <td>[Gian Maria Volontè, Philippe Leroy, Giulio Bo...</td>\n",
       "      <td>1.154386e+07</td>\n",
       "      <td>1.912712e+07</td>\n",
       "      <td>2.200028e+07</td>\n",
       "      <td>1</td>\n",
       "      <td>1</td>\n",
       "      <td>61</td>\n",
       "    </tr>\n",
       "    <tr>\n",
       "      <th>1</th>\n",
       "      <td>04-14</td>\n",
       "      <td>0.672597</td>\n",
       "      <td>92</td>\n",
       "      <td>0.588511</td>\n",
       "      <td>0.674861</td>\n",
       "      <td>[Margarethe von Trotta]</td>\n",
       "      <td>[Margarethe von Trotta, Luisa Francia]</td>\n",
       "      <td>[Bioskop Film]</td>\n",
       "      <td>[Tina Engel, Silvia Reize, Katharina Thalbach,...</td>\n",
       "      <td>1.154386e+07</td>\n",
       "      <td>1.912712e+07</td>\n",
       "      <td>2.200028e+07</td>\n",
       "      <td>1</td>\n",
       "      <td>0</td>\n",
       "      <td>46</td>\n",
       "    </tr>\n",
       "    <tr>\n",
       "      <th>2</th>\n",
       "      <td>11-15</td>\n",
       "      <td>0.605319</td>\n",
       "      <td>81</td>\n",
       "      <td>0.455850</td>\n",
       "      <td>0.475802</td>\n",
       "      <td>[Richard Whorf]</td>\n",
       "      <td>[Philip MacDonald, Frank Vosper]</td>\n",
       "      <td>[Bryan Foy Productions]</td>\n",
       "      <td>[John Hodiak, Sylvia Sidney, Ann Richards, Joh...</td>\n",
       "      <td>1.154386e+07</td>\n",
       "      <td>1.912712e+07</td>\n",
       "      <td>2.200028e+07</td>\n",
       "      <td>0</td>\n",
       "      <td>0</td>\n",
       "      <td>77</td>\n",
       "    </tr>\n",
       "    <tr>\n",
       "      <th>3</th>\n",
       "      <td>06-28</td>\n",
       "      <td>0.634396</td>\n",
       "      <td>95</td>\n",
       "      <td>0.787385</td>\n",
       "      <td>0.747666</td>\n",
       "      <td>[Takashi Miike]</td>\n",
       "      <td>[Seigo Inoue]</td>\n",
       "      <td>[Daiei]</td>\n",
       "      <td>[Shô Aikawa, Li Wei Chang, Shih Chang, Xianmei...</td>\n",
       "      <td>1.154386e+07</td>\n",
       "      <td>1.912712e+07</td>\n",
       "      <td>2.200028e+07</td>\n",
       "      <td>1</td>\n",
       "      <td>0</td>\n",
       "      <td>27</td>\n",
       "    </tr>\n",
       "    <tr>\n",
       "      <th>4</th>\n",
       "      <td>03-03</td>\n",
       "      <td>0.551396</td>\n",
       "      <td>93</td>\n",
       "      <td>0.623577</td>\n",
       "      <td>0.600676</td>\n",
       "      <td>[Michele Placido]</td>\n",
       "      <td>[Graziano Diana, Angelo Pasquini]</td>\n",
       "      <td>[Corsan]</td>\n",
       "      <td>[Fabrizio Bentivoglio, Michele Placido, Omero ...</td>\n",
       "      <td>1.154386e+07</td>\n",
       "      <td>1.912712e+07</td>\n",
       "      <td>2.200028e+07</td>\n",
       "      <td>1</td>\n",
       "      <td>1</td>\n",
       "      <td>29</td>\n",
       "    </tr>\n",
       "  </tbody>\n",
       "</table>\n",
       "</div>"
      ],
      "text/plain": [
       "  date_published     genre  duration   country  language  \\\n",
       "0          05-27  0.672597        95  0.623577  0.637768   \n",
       "1          04-14  0.672597        92  0.588511  0.674861   \n",
       "2          11-15  0.605319        81  0.455850  0.475802   \n",
       "3          06-28  0.634396        95  0.787385  0.747666   \n",
       "4          03-03  0.551396        93  0.623577  0.600676   \n",
       "\n",
       "                  director                                  writer  \\\n",
       "0    [Gianfranco De Bosio]  [Gianfranco De Bosio, Luigi Squarzina]   \n",
       "1  [Margarethe von Trotta]  [Margarethe von Trotta, Luisa Francia]   \n",
       "2          [Richard Whorf]        [Philip MacDonald, Frank Vosper]   \n",
       "3          [Takashi Miike]                           [Seigo Inoue]   \n",
       "4        [Michele Placido]       [Graziano Diana, Angelo Pasquini]   \n",
       "\n",
       "        production_company                                             actors  \\\n",
       "0            [22 Dicembre]  [Gian Maria Volontè, Philippe Leroy, Giulio Bo...   \n",
       "1           [Bioskop Film]  [Tina Engel, Silvia Reize, Katharina Thalbach,...   \n",
       "2  [Bryan Foy Productions]  [John Hodiak, Sylvia Sidney, Ann Richards, Joh...   \n",
       "3                  [Daiei]  [Shô Aikawa, Li Wei Chang, Shih Chang, Xianmei...   \n",
       "4                 [Corsan]  [Fabrizio Bentivoglio, Michele Placido, Omero ...   \n",
       "\n",
       "         budget  usa_gross_income  worlwide_gross_income  popularity  \\\n",
       "0  1.154386e+07      1.912712e+07           2.200028e+07           1   \n",
       "1  1.154386e+07      1.912712e+07           2.200028e+07           1   \n",
       "2  1.154386e+07      1.912712e+07           2.200028e+07           0   \n",
       "3  1.154386e+07      1.912712e+07           2.200028e+07           1   \n",
       "4  1.154386e+07      1.912712e+07           2.200028e+07           1   \n",
       "\n",
       "   change_title  age  \n",
       "0             1   61  \n",
       "1             0   46  \n",
       "2             0   77  \n",
       "3             0   27  \n",
       "4             1   29  "
      ]
     },
     "execution_count": 696,
     "metadata": {},
     "output_type": "execute_result"
    }
   ],
   "source": [
    "exploded_data = refined_data.explode(\"language\")\n",
    "target_mean = exploded_data.groupby(\"language\")[\"popularity\"].mean()\n",
    "\n",
    "global_mean = exploded_data[\"popularity\"].mean()\n",
    "\n",
    "refined_data[\"language\"] = cut_data.apply(lambda row: apply_mean(row, target_mean, \"language\", global_mean), axis = 1)\n",
    "refined_data.iloc[:5,:20] "
   ]
  },
  {
   "cell_type": "code",
   "execution_count": 697,
   "id": "efeabb91-329d-4d91-9048-e0965e0d1c75",
   "metadata": {},
   "outputs": [],
   "source": [
    "mapping[\"language\"] = {\n",
    "    \"target_mean\":target_mean.to_dict(),\n",
    "    \"global_mean\":global_mean\n",
    "}"
   ]
  },
  {
   "cell_type": "code",
   "execution_count": 698,
   "id": "ea56f6b2-951f-4b91-be46-f24d1fab98a4",
   "metadata": {},
   "outputs": [
    {
     "data": {
      "text/html": [
       "<div>\n",
       "<style scoped>\n",
       "    .dataframe tbody tr th:only-of-type {\n",
       "        vertical-align: middle;\n",
       "    }\n",
       "\n",
       "    .dataframe tbody tr th {\n",
       "        vertical-align: top;\n",
       "    }\n",
       "\n",
       "    .dataframe thead th {\n",
       "        text-align: right;\n",
       "    }\n",
       "</style>\n",
       "<table border=\"1\" class=\"dataframe\">\n",
       "  <thead>\n",
       "    <tr style=\"text-align: right;\">\n",
       "      <th></th>\n",
       "      <th>date_published</th>\n",
       "      <th>genre</th>\n",
       "      <th>duration</th>\n",
       "      <th>country</th>\n",
       "      <th>language</th>\n",
       "      <th>director</th>\n",
       "      <th>writer</th>\n",
       "      <th>production_company</th>\n",
       "      <th>actors</th>\n",
       "      <th>budget</th>\n",
       "      <th>usa_gross_income</th>\n",
       "      <th>worlwide_gross_income</th>\n",
       "      <th>popularity</th>\n",
       "      <th>change_title</th>\n",
       "      <th>age</th>\n",
       "    </tr>\n",
       "  </thead>\n",
       "  <tbody>\n",
       "    <tr>\n",
       "      <th>0</th>\n",
       "      <td>05-27</td>\n",
       "      <td>0.672597</td>\n",
       "      <td>95</td>\n",
       "      <td>0.623577</td>\n",
       "      <td>0.637768</td>\n",
       "      <td>1.000000</td>\n",
       "      <td>[Gianfranco De Bosio, Luigi Squarzina]</td>\n",
       "      <td>[22 Dicembre]</td>\n",
       "      <td>[Gian Maria Volontè, Philippe Leroy, Giulio Bo...</td>\n",
       "      <td>1.154386e+07</td>\n",
       "      <td>1.912712e+07</td>\n",
       "      <td>2.200028e+07</td>\n",
       "      <td>1</td>\n",
       "      <td>1</td>\n",
       "      <td>61</td>\n",
       "    </tr>\n",
       "    <tr>\n",
       "      <th>1</th>\n",
       "      <td>04-14</td>\n",
       "      <td>0.672597</td>\n",
       "      <td>92</td>\n",
       "      <td>0.588511</td>\n",
       "      <td>0.674861</td>\n",
       "      <td>0.750000</td>\n",
       "      <td>[Margarethe von Trotta, Luisa Francia]</td>\n",
       "      <td>[Bioskop Film]</td>\n",
       "      <td>[Tina Engel, Silvia Reize, Katharina Thalbach,...</td>\n",
       "      <td>1.154386e+07</td>\n",
       "      <td>1.912712e+07</td>\n",
       "      <td>2.200028e+07</td>\n",
       "      <td>1</td>\n",
       "      <td>0</td>\n",
       "      <td>46</td>\n",
       "    </tr>\n",
       "    <tr>\n",
       "      <th>2</th>\n",
       "      <td>11-15</td>\n",
       "      <td>0.605319</td>\n",
       "      <td>81</td>\n",
       "      <td>0.455850</td>\n",
       "      <td>0.475802</td>\n",
       "      <td>0.666667</td>\n",
       "      <td>[Philip MacDonald, Frank Vosper]</td>\n",
       "      <td>[Bryan Foy Productions]</td>\n",
       "      <td>[John Hodiak, Sylvia Sidney, Ann Richards, Joh...</td>\n",
       "      <td>1.154386e+07</td>\n",
       "      <td>1.912712e+07</td>\n",
       "      <td>2.200028e+07</td>\n",
       "      <td>0</td>\n",
       "      <td>0</td>\n",
       "      <td>77</td>\n",
       "    </tr>\n",
       "    <tr>\n",
       "      <th>3</th>\n",
       "      <td>06-28</td>\n",
       "      <td>0.634396</td>\n",
       "      <td>95</td>\n",
       "      <td>0.787385</td>\n",
       "      <td>0.747666</td>\n",
       "      <td>0.780488</td>\n",
       "      <td>[Seigo Inoue]</td>\n",
       "      <td>[Daiei]</td>\n",
       "      <td>[Shô Aikawa, Li Wei Chang, Shih Chang, Xianmei...</td>\n",
       "      <td>1.154386e+07</td>\n",
       "      <td>1.912712e+07</td>\n",
       "      <td>2.200028e+07</td>\n",
       "      <td>1</td>\n",
       "      <td>0</td>\n",
       "      <td>27</td>\n",
       "    </tr>\n",
       "    <tr>\n",
       "      <th>4</th>\n",
       "      <td>03-03</td>\n",
       "      <td>0.551396</td>\n",
       "      <td>93</td>\n",
       "      <td>0.623577</td>\n",
       "      <td>0.600676</td>\n",
       "      <td>0.555556</td>\n",
       "      <td>[Graziano Diana, Angelo Pasquini]</td>\n",
       "      <td>[Corsan]</td>\n",
       "      <td>[Fabrizio Bentivoglio, Michele Placido, Omero ...</td>\n",
       "      <td>1.154386e+07</td>\n",
       "      <td>1.912712e+07</td>\n",
       "      <td>2.200028e+07</td>\n",
       "      <td>1</td>\n",
       "      <td>1</td>\n",
       "      <td>29</td>\n",
       "    </tr>\n",
       "  </tbody>\n",
       "</table>\n",
       "</div>"
      ],
      "text/plain": [
       "  date_published     genre  duration   country  language  director  \\\n",
       "0          05-27  0.672597        95  0.623577  0.637768  1.000000   \n",
       "1          04-14  0.672597        92  0.588511  0.674861  0.750000   \n",
       "2          11-15  0.605319        81  0.455850  0.475802  0.666667   \n",
       "3          06-28  0.634396        95  0.787385  0.747666  0.780488   \n",
       "4          03-03  0.551396        93  0.623577  0.600676  0.555556   \n",
       "\n",
       "                                   writer       production_company  \\\n",
       "0  [Gianfranco De Bosio, Luigi Squarzina]            [22 Dicembre]   \n",
       "1  [Margarethe von Trotta, Luisa Francia]           [Bioskop Film]   \n",
       "2        [Philip MacDonald, Frank Vosper]  [Bryan Foy Productions]   \n",
       "3                           [Seigo Inoue]                  [Daiei]   \n",
       "4       [Graziano Diana, Angelo Pasquini]                 [Corsan]   \n",
       "\n",
       "                                              actors        budget  \\\n",
       "0  [Gian Maria Volontè, Philippe Leroy, Giulio Bo...  1.154386e+07   \n",
       "1  [Tina Engel, Silvia Reize, Katharina Thalbach,...  1.154386e+07   \n",
       "2  [John Hodiak, Sylvia Sidney, Ann Richards, Joh...  1.154386e+07   \n",
       "3  [Shô Aikawa, Li Wei Chang, Shih Chang, Xianmei...  1.154386e+07   \n",
       "4  [Fabrizio Bentivoglio, Michele Placido, Omero ...  1.154386e+07   \n",
       "\n",
       "   usa_gross_income  worlwide_gross_income  popularity  change_title  age  \n",
       "0      1.912712e+07           2.200028e+07           1             1   61  \n",
       "1      1.912712e+07           2.200028e+07           1             0   46  \n",
       "2      1.912712e+07           2.200028e+07           0             0   77  \n",
       "3      1.912712e+07           2.200028e+07           1             0   27  \n",
       "4      1.912712e+07           2.200028e+07           1             1   29  "
      ]
     },
     "execution_count": 698,
     "metadata": {},
     "output_type": "execute_result"
    }
   ],
   "source": [
    "exploded_data = refined_data.explode(\"director\")\n",
    "target_mean = exploded_data.groupby(\"director\")[\"popularity\"].mean()\n",
    "\n",
    "global_mean = exploded_data[\"popularity\"].mean()\n",
    "\n",
    "refined_data[\"director\"] = cut_data.apply(lambda row: apply_mean(row, target_mean, \"director\", global_mean), axis = 1)\n",
    "refined_data.iloc[:5,:20] "
   ]
  },
  {
   "cell_type": "code",
   "execution_count": 699,
   "id": "83404c49-a4aa-47fc-bed8-e8332f570195",
   "metadata": {},
   "outputs": [],
   "source": [
    "mapping[\"director\"] = {\n",
    "    \"target_mean\":target_mean.to_dict(),\n",
    "    \"global_mean\":global_mean\n",
    "}"
   ]
  },
  {
   "cell_type": "code",
   "execution_count": 700,
   "id": "0e32b60e-a2e0-412c-970b-aebd407c8f3f",
   "metadata": {},
   "outputs": [
    {
     "data": {
      "text/html": [
       "<div>\n",
       "<style scoped>\n",
       "    .dataframe tbody tr th:only-of-type {\n",
       "        vertical-align: middle;\n",
       "    }\n",
       "\n",
       "    .dataframe tbody tr th {\n",
       "        vertical-align: top;\n",
       "    }\n",
       "\n",
       "    .dataframe thead th {\n",
       "        text-align: right;\n",
       "    }\n",
       "</style>\n",
       "<table border=\"1\" class=\"dataframe\">\n",
       "  <thead>\n",
       "    <tr style=\"text-align: right;\">\n",
       "      <th></th>\n",
       "      <th>date_published</th>\n",
       "      <th>genre</th>\n",
       "      <th>duration</th>\n",
       "      <th>country</th>\n",
       "      <th>language</th>\n",
       "      <th>director</th>\n",
       "      <th>writer</th>\n",
       "      <th>production_company</th>\n",
       "      <th>actors</th>\n",
       "      <th>budget</th>\n",
       "      <th>usa_gross_income</th>\n",
       "      <th>worlwide_gross_income</th>\n",
       "      <th>popularity</th>\n",
       "      <th>change_title</th>\n",
       "      <th>age</th>\n",
       "    </tr>\n",
       "  </thead>\n",
       "  <tbody>\n",
       "    <tr>\n",
       "      <th>0</th>\n",
       "      <td>05-27</td>\n",
       "      <td>0.672597</td>\n",
       "      <td>95</td>\n",
       "      <td>0.623577</td>\n",
       "      <td>0.637768</td>\n",
       "      <td>1.000000</td>\n",
       "      <td>1.000000</td>\n",
       "      <td>[22 Dicembre]</td>\n",
       "      <td>[Gian Maria Volontè, Philippe Leroy, Giulio Bo...</td>\n",
       "      <td>1.154386e+07</td>\n",
       "      <td>1.912712e+07</td>\n",
       "      <td>2.200028e+07</td>\n",
       "      <td>1</td>\n",
       "      <td>1</td>\n",
       "      <td>61</td>\n",
       "    </tr>\n",
       "    <tr>\n",
       "      <th>1</th>\n",
       "      <td>04-14</td>\n",
       "      <td>0.672597</td>\n",
       "      <td>92</td>\n",
       "      <td>0.588511</td>\n",
       "      <td>0.674861</td>\n",
       "      <td>0.750000</td>\n",
       "      <td>0.937500</td>\n",
       "      <td>[Bioskop Film]</td>\n",
       "      <td>[Tina Engel, Silvia Reize, Katharina Thalbach,...</td>\n",
       "      <td>1.154386e+07</td>\n",
       "      <td>1.912712e+07</td>\n",
       "      <td>2.200028e+07</td>\n",
       "      <td>1</td>\n",
       "      <td>0</td>\n",
       "      <td>46</td>\n",
       "    </tr>\n",
       "    <tr>\n",
       "      <th>2</th>\n",
       "      <td>11-15</td>\n",
       "      <td>0.605319</td>\n",
       "      <td>81</td>\n",
       "      <td>0.455850</td>\n",
       "      <td>0.475802</td>\n",
       "      <td>0.666667</td>\n",
       "      <td>0.428571</td>\n",
       "      <td>[Bryan Foy Productions]</td>\n",
       "      <td>[John Hodiak, Sylvia Sidney, Ann Richards, Joh...</td>\n",
       "      <td>1.154386e+07</td>\n",
       "      <td>1.912712e+07</td>\n",
       "      <td>2.200028e+07</td>\n",
       "      <td>0</td>\n",
       "      <td>0</td>\n",
       "      <td>77</td>\n",
       "    </tr>\n",
       "    <tr>\n",
       "      <th>3</th>\n",
       "      <td>06-28</td>\n",
       "      <td>0.634396</td>\n",
       "      <td>95</td>\n",
       "      <td>0.787385</td>\n",
       "      <td>0.747666</td>\n",
       "      <td>0.780488</td>\n",
       "      <td>1.000000</td>\n",
       "      <td>[Daiei]</td>\n",
       "      <td>[Shô Aikawa, Li Wei Chang, Shih Chang, Xianmei...</td>\n",
       "      <td>1.154386e+07</td>\n",
       "      <td>1.912712e+07</td>\n",
       "      <td>2.200028e+07</td>\n",
       "      <td>1</td>\n",
       "      <td>0</td>\n",
       "      <td>27</td>\n",
       "    </tr>\n",
       "    <tr>\n",
       "      <th>4</th>\n",
       "      <td>03-03</td>\n",
       "      <td>0.551396</td>\n",
       "      <td>93</td>\n",
       "      <td>0.623577</td>\n",
       "      <td>0.600676</td>\n",
       "      <td>0.555556</td>\n",
       "      <td>0.625000</td>\n",
       "      <td>[Corsan]</td>\n",
       "      <td>[Fabrizio Bentivoglio, Michele Placido, Omero ...</td>\n",
       "      <td>1.154386e+07</td>\n",
       "      <td>1.912712e+07</td>\n",
       "      <td>2.200028e+07</td>\n",
       "      <td>1</td>\n",
       "      <td>1</td>\n",
       "      <td>29</td>\n",
       "    </tr>\n",
       "  </tbody>\n",
       "</table>\n",
       "</div>"
      ],
      "text/plain": [
       "  date_published     genre  duration   country  language  director    writer  \\\n",
       "0          05-27  0.672597        95  0.623577  0.637768  1.000000  1.000000   \n",
       "1          04-14  0.672597        92  0.588511  0.674861  0.750000  0.937500   \n",
       "2          11-15  0.605319        81  0.455850  0.475802  0.666667  0.428571   \n",
       "3          06-28  0.634396        95  0.787385  0.747666  0.780488  1.000000   \n",
       "4          03-03  0.551396        93  0.623577  0.600676  0.555556  0.625000   \n",
       "\n",
       "        production_company                                             actors  \\\n",
       "0            [22 Dicembre]  [Gian Maria Volontè, Philippe Leroy, Giulio Bo...   \n",
       "1           [Bioskop Film]  [Tina Engel, Silvia Reize, Katharina Thalbach,...   \n",
       "2  [Bryan Foy Productions]  [John Hodiak, Sylvia Sidney, Ann Richards, Joh...   \n",
       "3                  [Daiei]  [Shô Aikawa, Li Wei Chang, Shih Chang, Xianmei...   \n",
       "4                 [Corsan]  [Fabrizio Bentivoglio, Michele Placido, Omero ...   \n",
       "\n",
       "         budget  usa_gross_income  worlwide_gross_income  popularity  \\\n",
       "0  1.154386e+07      1.912712e+07           2.200028e+07           1   \n",
       "1  1.154386e+07      1.912712e+07           2.200028e+07           1   \n",
       "2  1.154386e+07      1.912712e+07           2.200028e+07           0   \n",
       "3  1.154386e+07      1.912712e+07           2.200028e+07           1   \n",
       "4  1.154386e+07      1.912712e+07           2.200028e+07           1   \n",
       "\n",
       "   change_title  age  \n",
       "0             1   61  \n",
       "1             0   46  \n",
       "2             0   77  \n",
       "3             0   27  \n",
       "4             1   29  "
      ]
     },
     "execution_count": 700,
     "metadata": {},
     "output_type": "execute_result"
    }
   ],
   "source": [
    "exploded_data = refined_data.explode(\"writer\")\n",
    "target_mean = exploded_data.groupby(\"writer\")[\"popularity\"].mean()\n",
    "\n",
    "global_mean = exploded_data[\"popularity\"].mean()\n",
    "\n",
    "refined_data[\"writer\"] = cut_data.apply(lambda row: apply_mean(row, target_mean, \"writer\", global_mean), axis = 1)\n",
    "refined_data.iloc[:5,:20] "
   ]
  },
  {
   "cell_type": "code",
   "execution_count": 701,
   "id": "f0d287a3-923a-4782-8733-909c102cc68b",
   "metadata": {},
   "outputs": [],
   "source": [
    "mapping[\"writer\"]  = {\n",
    "    \"target_mean\":target_mean.to_dict(),\n",
    "    \"global_mean\":global_mean\n",
    "}"
   ]
  },
  {
   "cell_type": "code",
   "execution_count": 702,
   "id": "ff1c732b-d2f7-4f83-b7a5-229fcb4fb31d",
   "metadata": {
    "scrolled": true
   },
   "outputs": [
    {
     "data": {
      "text/html": [
       "<div>\n",
       "<style scoped>\n",
       "    .dataframe tbody tr th:only-of-type {\n",
       "        vertical-align: middle;\n",
       "    }\n",
       "\n",
       "    .dataframe tbody tr th {\n",
       "        vertical-align: top;\n",
       "    }\n",
       "\n",
       "    .dataframe thead th {\n",
       "        text-align: right;\n",
       "    }\n",
       "</style>\n",
       "<table border=\"1\" class=\"dataframe\">\n",
       "  <thead>\n",
       "    <tr style=\"text-align: right;\">\n",
       "      <th></th>\n",
       "      <th>date_published</th>\n",
       "      <th>genre</th>\n",
       "      <th>duration</th>\n",
       "      <th>country</th>\n",
       "      <th>language</th>\n",
       "      <th>director</th>\n",
       "      <th>writer</th>\n",
       "      <th>production_company</th>\n",
       "      <th>actors</th>\n",
       "      <th>budget</th>\n",
       "      <th>usa_gross_income</th>\n",
       "      <th>worlwide_gross_income</th>\n",
       "      <th>popularity</th>\n",
       "      <th>change_title</th>\n",
       "      <th>age</th>\n",
       "    </tr>\n",
       "  </thead>\n",
       "  <tbody>\n",
       "    <tr>\n",
       "      <th>0</th>\n",
       "      <td>05-27</td>\n",
       "      <td>0.672597</td>\n",
       "      <td>95</td>\n",
       "      <td>0.623577</td>\n",
       "      <td>0.637768</td>\n",
       "      <td>1.000000</td>\n",
       "      <td>1.000000</td>\n",
       "      <td>1.000000</td>\n",
       "      <td>[Gian Maria Volontè, Philippe Leroy, Giulio Bo...</td>\n",
       "      <td>1.154386e+07</td>\n",
       "      <td>1.912712e+07</td>\n",
       "      <td>2.200028e+07</td>\n",
       "      <td>1</td>\n",
       "      <td>1</td>\n",
       "      <td>61</td>\n",
       "    </tr>\n",
       "    <tr>\n",
       "      <th>1</th>\n",
       "      <td>04-14</td>\n",
       "      <td>0.672597</td>\n",
       "      <td>92</td>\n",
       "      <td>0.588511</td>\n",
       "      <td>0.674861</td>\n",
       "      <td>0.750000</td>\n",
       "      <td>0.937500</td>\n",
       "      <td>1.000000</td>\n",
       "      <td>[Tina Engel, Silvia Reize, Katharina Thalbach,...</td>\n",
       "      <td>1.154386e+07</td>\n",
       "      <td>1.912712e+07</td>\n",
       "      <td>2.200028e+07</td>\n",
       "      <td>1</td>\n",
       "      <td>0</td>\n",
       "      <td>46</td>\n",
       "    </tr>\n",
       "    <tr>\n",
       "      <th>2</th>\n",
       "      <td>11-15</td>\n",
       "      <td>0.605319</td>\n",
       "      <td>81</td>\n",
       "      <td>0.455850</td>\n",
       "      <td>0.475802</td>\n",
       "      <td>0.666667</td>\n",
       "      <td>0.428571</td>\n",
       "      <td>0.888889</td>\n",
       "      <td>[John Hodiak, Sylvia Sidney, Ann Richards, Joh...</td>\n",
       "      <td>1.154386e+07</td>\n",
       "      <td>1.912712e+07</td>\n",
       "      <td>2.200028e+07</td>\n",
       "      <td>0</td>\n",
       "      <td>0</td>\n",
       "      <td>77</td>\n",
       "    </tr>\n",
       "    <tr>\n",
       "      <th>3</th>\n",
       "      <td>06-28</td>\n",
       "      <td>0.634396</td>\n",
       "      <td>95</td>\n",
       "      <td>0.787385</td>\n",
       "      <td>0.747666</td>\n",
       "      <td>0.780488</td>\n",
       "      <td>1.000000</td>\n",
       "      <td>0.809524</td>\n",
       "      <td>[Shô Aikawa, Li Wei Chang, Shih Chang, Xianmei...</td>\n",
       "      <td>1.154386e+07</td>\n",
       "      <td>1.912712e+07</td>\n",
       "      <td>2.200028e+07</td>\n",
       "      <td>1</td>\n",
       "      <td>0</td>\n",
       "      <td>27</td>\n",
       "    </tr>\n",
       "    <tr>\n",
       "      <th>4</th>\n",
       "      <td>03-03</td>\n",
       "      <td>0.551396</td>\n",
       "      <td>93</td>\n",
       "      <td>0.623577</td>\n",
       "      <td>0.600676</td>\n",
       "      <td>0.555556</td>\n",
       "      <td>0.625000</td>\n",
       "      <td>0.571429</td>\n",
       "      <td>[Fabrizio Bentivoglio, Michele Placido, Omero ...</td>\n",
       "      <td>1.154386e+07</td>\n",
       "      <td>1.912712e+07</td>\n",
       "      <td>2.200028e+07</td>\n",
       "      <td>1</td>\n",
       "      <td>1</td>\n",
       "      <td>29</td>\n",
       "    </tr>\n",
       "  </tbody>\n",
       "</table>\n",
       "</div>"
      ],
      "text/plain": [
       "  date_published     genre  duration   country  language  director    writer  \\\n",
       "0          05-27  0.672597        95  0.623577  0.637768  1.000000  1.000000   \n",
       "1          04-14  0.672597        92  0.588511  0.674861  0.750000  0.937500   \n",
       "2          11-15  0.605319        81  0.455850  0.475802  0.666667  0.428571   \n",
       "3          06-28  0.634396        95  0.787385  0.747666  0.780488  1.000000   \n",
       "4          03-03  0.551396        93  0.623577  0.600676  0.555556  0.625000   \n",
       "\n",
       "   production_company                                             actors  \\\n",
       "0            1.000000  [Gian Maria Volontè, Philippe Leroy, Giulio Bo...   \n",
       "1            1.000000  [Tina Engel, Silvia Reize, Katharina Thalbach,...   \n",
       "2            0.888889  [John Hodiak, Sylvia Sidney, Ann Richards, Joh...   \n",
       "3            0.809524  [Shô Aikawa, Li Wei Chang, Shih Chang, Xianmei...   \n",
       "4            0.571429  [Fabrizio Bentivoglio, Michele Placido, Omero ...   \n",
       "\n",
       "         budget  usa_gross_income  worlwide_gross_income  popularity  \\\n",
       "0  1.154386e+07      1.912712e+07           2.200028e+07           1   \n",
       "1  1.154386e+07      1.912712e+07           2.200028e+07           1   \n",
       "2  1.154386e+07      1.912712e+07           2.200028e+07           0   \n",
       "3  1.154386e+07      1.912712e+07           2.200028e+07           1   \n",
       "4  1.154386e+07      1.912712e+07           2.200028e+07           1   \n",
       "\n",
       "   change_title  age  \n",
       "0             1   61  \n",
       "1             0   46  \n",
       "2             0   77  \n",
       "3             0   27  \n",
       "4             1   29  "
      ]
     },
     "execution_count": 702,
     "metadata": {},
     "output_type": "execute_result"
    }
   ],
   "source": [
    "exploded_data = refined_data.explode(\"production_company\")\n",
    "target_mean = exploded_data.groupby(\"production_company\")[\"popularity\"].mean()\n",
    "\n",
    "global_mean = exploded_data[\"popularity\"].mean()\n",
    "\n",
    "refined_data[\"production_company\"] = cut_data.apply(lambda row: apply_mean(row, target_mean, \"production_company\", global_mean), axis = 1)\n",
    "refined_data.iloc[:5,:20] "
   ]
  },
  {
   "cell_type": "code",
   "execution_count": 703,
   "id": "2886d0c6-c826-4b63-93e2-99e6b0519964",
   "metadata": {},
   "outputs": [],
   "source": [
    "mapping[\"production_company\"] = {\n",
    "    \"target_mean\":target_mean.to_dict(),\n",
    "    \"global_mean\":global_mean\n",
    "}"
   ]
  },
  {
   "cell_type": "code",
   "execution_count": 704,
   "id": "cee614b1-1f90-4fb7-88a3-5b0f2d179837",
   "metadata": {},
   "outputs": [],
   "source": [
    "exploded_data = refined_data.explode(\"actors\")\n",
    "target_mean = exploded_data.groupby(\"actors\")[\"popularity\"].mean()\n",
    "\n",
    "global_mean = exploded_data[\"popularity\"].mean()\n",
    "\n",
    "refined_data[\"actors\"] = cut_data.apply(lambda row: apply_mean(row, target_mean, \"actors\", global_mean), axis = 1)"
   ]
  },
  {
   "cell_type": "code",
   "execution_count": 705,
   "id": "e7630242-22ff-4dba-9808-2ddb246bb508",
   "metadata": {},
   "outputs": [],
   "source": [
    "mapping[\"actors\"] = {\n",
    "    \"target_mean\":target_mean.to_dict(),\n",
    "    \"global_mean\":global_mean\n",
    "}"
   ]
  },
  {
   "cell_type": "code",
   "execution_count": 576,
   "id": "db58e981-27f8-434e-a8b0-b811e05af9a1",
   "metadata": {},
   "outputs": [
    {
     "data": {
      "text/html": [
       "<div>\n",
       "<style scoped>\n",
       "    .dataframe tbody tr th:only-of-type {\n",
       "        vertical-align: middle;\n",
       "    }\n",
       "\n",
       "    .dataframe tbody tr th {\n",
       "        vertical-align: top;\n",
       "    }\n",
       "\n",
       "    .dataframe thead th {\n",
       "        text-align: right;\n",
       "    }\n",
       "</style>\n",
       "<table border=\"1\" class=\"dataframe\">\n",
       "  <thead>\n",
       "    <tr style=\"text-align: right;\">\n",
       "      <th></th>\n",
       "      <th>date_published</th>\n",
       "      <th>genre</th>\n",
       "      <th>duration</th>\n",
       "      <th>country</th>\n",
       "      <th>language</th>\n",
       "      <th>director</th>\n",
       "      <th>writer</th>\n",
       "      <th>production_company</th>\n",
       "      <th>actors</th>\n",
       "      <th>budget</th>\n",
       "      <th>usa_gross_income</th>\n",
       "      <th>worlwide_gross_income</th>\n",
       "      <th>popularity</th>\n",
       "      <th>change_title</th>\n",
       "      <th>age</th>\n",
       "    </tr>\n",
       "  </thead>\n",
       "  <tbody>\n",
       "    <tr>\n",
       "      <th>0</th>\n",
       "      <td>05-27</td>\n",
       "      <td>0.672597</td>\n",
       "      <td>95</td>\n",
       "      <td>0.623577</td>\n",
       "      <td>0.637768</td>\n",
       "      <td>1.000000</td>\n",
       "      <td>1.000000</td>\n",
       "      <td>1.000000</td>\n",
       "      <td>0.803954</td>\n",
       "      <td>1.154386e+07</td>\n",
       "      <td>1.912712e+07</td>\n",
       "      <td>2.200028e+07</td>\n",
       "      <td>1</td>\n",
       "      <td>1</td>\n",
       "      <td>61</td>\n",
       "    </tr>\n",
       "    <tr>\n",
       "      <th>1</th>\n",
       "      <td>04-14</td>\n",
       "      <td>0.672597</td>\n",
       "      <td>92</td>\n",
       "      <td>0.588511</td>\n",
       "      <td>0.674861</td>\n",
       "      <td>0.750000</td>\n",
       "      <td>0.937500</td>\n",
       "      <td>1.000000</td>\n",
       "      <td>0.956410</td>\n",
       "      <td>1.154386e+07</td>\n",
       "      <td>1.912712e+07</td>\n",
       "      <td>2.200028e+07</td>\n",
       "      <td>1</td>\n",
       "      <td>0</td>\n",
       "      <td>46</td>\n",
       "    </tr>\n",
       "    <tr>\n",
       "      <th>2</th>\n",
       "      <td>11-15</td>\n",
       "      <td>0.605319</td>\n",
       "      <td>81</td>\n",
       "      <td>0.455850</td>\n",
       "      <td>0.475802</td>\n",
       "      <td>0.666667</td>\n",
       "      <td>0.428571</td>\n",
       "      <td>0.888889</td>\n",
       "      <td>0.816577</td>\n",
       "      <td>1.154386e+07</td>\n",
       "      <td>1.912712e+07</td>\n",
       "      <td>2.200028e+07</td>\n",
       "      <td>0</td>\n",
       "      <td>0</td>\n",
       "      <td>77</td>\n",
       "    </tr>\n",
       "    <tr>\n",
       "      <th>3</th>\n",
       "      <td>06-28</td>\n",
       "      <td>0.634396</td>\n",
       "      <td>95</td>\n",
       "      <td>0.787385</td>\n",
       "      <td>0.747666</td>\n",
       "      <td>0.780488</td>\n",
       "      <td>1.000000</td>\n",
       "      <td>0.809524</td>\n",
       "      <td>0.854996</td>\n",
       "      <td>1.154386e+07</td>\n",
       "      <td>1.912712e+07</td>\n",
       "      <td>2.200028e+07</td>\n",
       "      <td>1</td>\n",
       "      <td>0</td>\n",
       "      <td>27</td>\n",
       "    </tr>\n",
       "    <tr>\n",
       "      <th>4</th>\n",
       "      <td>03-03</td>\n",
       "      <td>0.551396</td>\n",
       "      <td>93</td>\n",
       "      <td>0.623577</td>\n",
       "      <td>0.600676</td>\n",
       "      <td>0.555556</td>\n",
       "      <td>0.625000</td>\n",
       "      <td>0.571429</td>\n",
       "      <td>0.718643</td>\n",
       "      <td>1.154386e+07</td>\n",
       "      <td>1.912712e+07</td>\n",
       "      <td>2.200028e+07</td>\n",
       "      <td>1</td>\n",
       "      <td>1</td>\n",
       "      <td>29</td>\n",
       "    </tr>\n",
       "  </tbody>\n",
       "</table>\n",
       "</div>"
      ],
      "text/plain": [
       "  date_published     genre  duration   country  language  director    writer  \\\n",
       "0          05-27  0.672597        95  0.623577  0.637768  1.000000  1.000000   \n",
       "1          04-14  0.672597        92  0.588511  0.674861  0.750000  0.937500   \n",
       "2          11-15  0.605319        81  0.455850  0.475802  0.666667  0.428571   \n",
       "3          06-28  0.634396        95  0.787385  0.747666  0.780488  1.000000   \n",
       "4          03-03  0.551396        93  0.623577  0.600676  0.555556  0.625000   \n",
       "\n",
       "   production_company    actors        budget  usa_gross_income  \\\n",
       "0            1.000000  0.803954  1.154386e+07      1.912712e+07   \n",
       "1            1.000000  0.956410  1.154386e+07      1.912712e+07   \n",
       "2            0.888889  0.816577  1.154386e+07      1.912712e+07   \n",
       "3            0.809524  0.854996  1.154386e+07      1.912712e+07   \n",
       "4            0.571429  0.718643  1.154386e+07      1.912712e+07   \n",
       "\n",
       "   worlwide_gross_income  popularity  change_title  age  \n",
       "0           2.200028e+07           1             1   61  \n",
       "1           2.200028e+07           1             0   46  \n",
       "2           2.200028e+07           0             0   77  \n",
       "3           2.200028e+07           1             0   27  \n",
       "4           2.200028e+07           1             1   29  "
      ]
     },
     "execution_count": 576,
     "metadata": {},
     "output_type": "execute_result"
    }
   ],
   "source": [
    "refined_data.iloc[:5,:] "
   ]
  },
  {
   "cell_type": "code",
   "execution_count": 733,
   "id": "53d571b8-119f-4811-8adb-dc2ae53c5c48",
   "metadata": {},
   "outputs": [],
   "source": [
    "refined_data[['month', 'day']] = refined_data['date_published'].str.split('-', expand=True)\n",
    "\n",
    "refined_data['month'] = pd.to_numeric(refined_data['month'], errors='coerce')\n",
    "refined_data['day'] = pd.to_numeric(refined_data['day'], errors='coerce')"
   ]
  },
  {
   "cell_type": "code",
   "execution_count": 734,
   "id": "9a440d68-2bdf-45b4-b279-4ac90c130ae6",
   "metadata": {},
   "outputs": [
    {
     "data": {
      "text/html": [
       "<div>\n",
       "<style scoped>\n",
       "    .dataframe tbody tr th:only-of-type {\n",
       "        vertical-align: middle;\n",
       "    }\n",
       "\n",
       "    .dataframe tbody tr th {\n",
       "        vertical-align: top;\n",
       "    }\n",
       "\n",
       "    .dataframe thead th {\n",
       "        text-align: right;\n",
       "    }\n",
       "</style>\n",
       "<table border=\"1\" class=\"dataframe\">\n",
       "  <thead>\n",
       "    <tr style=\"text-align: right;\">\n",
       "      <th></th>\n",
       "      <th>date_published</th>\n",
       "      <th>genre</th>\n",
       "      <th>duration</th>\n",
       "      <th>country</th>\n",
       "      <th>language</th>\n",
       "      <th>director</th>\n",
       "      <th>writer</th>\n",
       "      <th>production_company</th>\n",
       "      <th>actors</th>\n",
       "      <th>budget</th>\n",
       "      <th>usa_gross_income</th>\n",
       "      <th>worlwide_gross_income</th>\n",
       "      <th>popularity</th>\n",
       "      <th>change_title</th>\n",
       "      <th>age</th>\n",
       "      <th>month</th>\n",
       "      <th>day</th>\n",
       "    </tr>\n",
       "  </thead>\n",
       "  <tbody>\n",
       "    <tr>\n",
       "      <th>0</th>\n",
       "      <td>147.0</td>\n",
       "      <td>0.672597</td>\n",
       "      <td>95</td>\n",
       "      <td>0.623577</td>\n",
       "      <td>0.637768</td>\n",
       "      <td>1.000000</td>\n",
       "      <td>1.000000</td>\n",
       "      <td>1.000000</td>\n",
       "      <td>0.803954</td>\n",
       "      <td>1.154386e+07</td>\n",
       "      <td>1.912712e+07</td>\n",
       "      <td>2.200028e+07</td>\n",
       "      <td>1</td>\n",
       "      <td>1</td>\n",
       "      <td>61</td>\n",
       "      <td>5.0</td>\n",
       "      <td>27.0</td>\n",
       "    </tr>\n",
       "    <tr>\n",
       "      <th>1</th>\n",
       "      <td>104.0</td>\n",
       "      <td>0.672597</td>\n",
       "      <td>92</td>\n",
       "      <td>0.588511</td>\n",
       "      <td>0.674861</td>\n",
       "      <td>0.750000</td>\n",
       "      <td>0.937500</td>\n",
       "      <td>1.000000</td>\n",
       "      <td>0.956410</td>\n",
       "      <td>1.154386e+07</td>\n",
       "      <td>1.912712e+07</td>\n",
       "      <td>2.200028e+07</td>\n",
       "      <td>1</td>\n",
       "      <td>0</td>\n",
       "      <td>46</td>\n",
       "      <td>4.0</td>\n",
       "      <td>14.0</td>\n",
       "    </tr>\n",
       "    <tr>\n",
       "      <th>2</th>\n",
       "      <td>315.0</td>\n",
       "      <td>0.605319</td>\n",
       "      <td>81</td>\n",
       "      <td>0.455850</td>\n",
       "      <td>0.475802</td>\n",
       "      <td>0.666667</td>\n",
       "      <td>0.428571</td>\n",
       "      <td>0.888889</td>\n",
       "      <td>0.816577</td>\n",
       "      <td>1.154386e+07</td>\n",
       "      <td>1.912712e+07</td>\n",
       "      <td>2.200028e+07</td>\n",
       "      <td>0</td>\n",
       "      <td>0</td>\n",
       "      <td>77</td>\n",
       "      <td>11.0</td>\n",
       "      <td>15.0</td>\n",
       "    </tr>\n",
       "    <tr>\n",
       "      <th>3</th>\n",
       "      <td>178.0</td>\n",
       "      <td>0.634396</td>\n",
       "      <td>95</td>\n",
       "      <td>0.787385</td>\n",
       "      <td>0.747666</td>\n",
       "      <td>0.780488</td>\n",
       "      <td>1.000000</td>\n",
       "      <td>0.809524</td>\n",
       "      <td>0.854996</td>\n",
       "      <td>1.154386e+07</td>\n",
       "      <td>1.912712e+07</td>\n",
       "      <td>2.200028e+07</td>\n",
       "      <td>1</td>\n",
       "      <td>0</td>\n",
       "      <td>27</td>\n",
       "      <td>6.0</td>\n",
       "      <td>28.0</td>\n",
       "    </tr>\n",
       "    <tr>\n",
       "      <th>4</th>\n",
       "      <td>63.0</td>\n",
       "      <td>0.551396</td>\n",
       "      <td>93</td>\n",
       "      <td>0.623577</td>\n",
       "      <td>0.600676</td>\n",
       "      <td>0.555556</td>\n",
       "      <td>0.625000</td>\n",
       "      <td>0.571429</td>\n",
       "      <td>0.718643</td>\n",
       "      <td>1.154386e+07</td>\n",
       "      <td>1.912712e+07</td>\n",
       "      <td>2.200028e+07</td>\n",
       "      <td>1</td>\n",
       "      <td>1</td>\n",
       "      <td>29</td>\n",
       "      <td>3.0</td>\n",
       "      <td>3.0</td>\n",
       "    </tr>\n",
       "  </tbody>\n",
       "</table>\n",
       "</div>"
      ],
      "text/plain": [
       "   date_published     genre  duration   country  language  director    writer  \\\n",
       "0           147.0  0.672597        95  0.623577  0.637768  1.000000  1.000000   \n",
       "1           104.0  0.672597        92  0.588511  0.674861  0.750000  0.937500   \n",
       "2           315.0  0.605319        81  0.455850  0.475802  0.666667  0.428571   \n",
       "3           178.0  0.634396        95  0.787385  0.747666  0.780488  1.000000   \n",
       "4            63.0  0.551396        93  0.623577  0.600676  0.555556  0.625000   \n",
       "\n",
       "   production_company    actors        budget  usa_gross_income  \\\n",
       "0            1.000000  0.803954  1.154386e+07      1.912712e+07   \n",
       "1            1.000000  0.956410  1.154386e+07      1.912712e+07   \n",
       "2            0.888889  0.816577  1.154386e+07      1.912712e+07   \n",
       "3            0.809524  0.854996  1.154386e+07      1.912712e+07   \n",
       "4            0.571429  0.718643  1.154386e+07      1.912712e+07   \n",
       "\n",
       "   worlwide_gross_income  popularity  change_title  age  month   day  \n",
       "0           2.200028e+07           1             1   61    5.0  27.0  \n",
       "1           2.200028e+07           1             0   46    4.0  14.0  \n",
       "2           2.200028e+07           0             0   77   11.0  15.0  \n",
       "3           2.200028e+07           1             0   27    6.0  28.0  \n",
       "4           2.200028e+07           1             1   29    3.0   3.0  "
      ]
     },
     "execution_count": 734,
     "metadata": {},
     "output_type": "execute_result"
    }
   ],
   "source": [
    "refined_data[\"date_published\"] = (refined_data['month'] - 1) * 30 + refined_data['day']\n",
    "refined_data.fillna(-1, inplace = True)\n",
    "refined_data.head()"
   ]
  },
  {
   "cell_type": "code",
   "execution_count": 735,
   "id": "05039e03-7432-4b9f-a82c-bfdc869b154b",
   "metadata": {},
   "outputs": [],
   "source": [
    "refined_data = refined_data.drop([\"month\", \"day\"], axis=1)"
   ]
  },
  {
   "cell_type": "code",
   "execution_count": 737,
   "id": "bca5edf9-c1ff-4134-b418-e4ee43e186e6",
   "metadata": {},
   "outputs": [],
   "source": [
    "with open(\"target_mean_mappings.json\", 'w') as f:\n",
    "    json.dump(mapping,f, indent = 4 )"
   ]
  },
  {
   "cell_type": "markdown",
   "id": "8edfcb96-4d37-49fc-ba13-c847c4996d0c",
   "metadata": {},
   "source": [
    "# Checkpoint"
   ]
  },
  {
   "cell_type": "code",
   "execution_count": 738,
   "id": "b0e0d196-856d-4eed-9d8b-c556177551b5",
   "metadata": {},
   "outputs": [],
   "source": [
    "from sklearn.model_selection import train_test_split\n",
    "X = refined_data.drop(\"popularity\", axis = 1)\n",
    "y = refined_data[\"popularity\"]\n",
    "X_train, X_test, y_train, y_test = train_test_split(X, y, test_size = 0.2, random_state = 2002)"
   ]
  },
  {
   "cell_type": "code",
   "execution_count": 739,
   "id": "04540099-667d-4f96-ae7b-665a2b15776a",
   "metadata": {},
   "outputs": [],
   "source": [
    "models = {\"Logistic Regression\": LogisticRegression(),\n",
    "         \"KNN\": KNeighborsClassifier(),\n",
    "         \"Random Forest\": RandomForestClassifier()}\n",
    "\n",
    "def fit_and_score(models, X_train, X_test, y_train, y_test):\n",
    "    np.random.seed(2002)\n",
    "    model_scores = {}\n",
    "    for name, model in models.items():\n",
    "        model.fit(X_train, y_train)\n",
    "        model_scores[name] = model.score(X_test, y_test)\n",
    "    return model_scores"
   ]
  },
  {
   "cell_type": "code",
   "execution_count": 740,
   "id": "bada9437-fac0-4413-ab5b-4f20a9c13a22",
   "metadata": {},
   "outputs": [],
   "source": [
    "model_score = fit_and_score(models = models, X_train = X_train, X_test = X_test,\n",
    "                           y_train = y_train, y_test = y_test)"
   ]
  },
  {
   "cell_type": "code",
   "execution_count": 741,
   "id": "e44ef1e1-4ced-4c58-af78-ada228dfa6ff",
   "metadata": {},
   "outputs": [
    {
     "data": {
      "text/plain": [
       "{'Logistic Regression': 0.5490508731966591,\n",
       " 'KNN': 0.634624145785877,\n",
       " 'Random Forest': 0.9858010630220198}"
      ]
     },
     "execution_count": 741,
     "metadata": {},
     "output_type": "execute_result"
    }
   ],
   "source": [
    "model_score"
   ]
  },
  {
   "cell_type": "markdown",
   "id": "8877d161-ec9c-4811-a7b1-0e059dd53f45",
   "metadata": {},
   "source": [
    "# Model comparison"
   ]
  },
  {
   "cell_type": "code",
   "execution_count": 742,
   "id": "7db0fde0-c7ab-48bf-b6cb-bf8b5f98a26d",
   "metadata": {},
   "outputs": [
    {
     "data": {
      "text/plain": [
       "<Axes: >"
      ]
     },
     "execution_count": 742,
     "metadata": {},
     "output_type": "execute_result"
    },
    {
     "data": {
      "image/png": "[encoded data removed]",
      "text/plain": [
       "<Figure size 640x480 with 1 Axes>"
      ]
     },
     "metadata": {},
     "output_type": "display_data"
    }
   ],
   "source": [
    "model_compare = pd.DataFrame(model_score, index = [\"accuracy\"])\n",
    "model_compare.T.plot.bar()"
   ]
  },
  {
   "cell_type": "code",
   "execution_count": 743,
   "id": "7ba97aa5-4bbb-46be-a9b9-47b0fcfc1c80",
   "metadata": {},
   "outputs": [],
   "source": [
    "rf_grid = {\"n_estimators\": np.arange(10, 1000, 50),\n",
    "          \"max_depth\": [None, 3, 5, 10],\n",
    "           \"min_samples_split\":np.arange(2, 20, 2),\n",
    "           \"min_samples_leaf\": np.arange(1, 20, 2)}"
   ]
  },
  {
   "cell_type": "code",
   "execution_count": 744,
   "id": "6056f81b-0d99-4a47-b782-2d82c5ee890c",
   "metadata": {},
   "outputs": [],
   "source": [
    "# np.random.seed(2002)\n",
    "\n",
    "# rs_rf = RandomizedSearchCV(RandomForestClassifier(), param_distributions= rf_grid, cv = 5, n_iter = 20, verbose = True)\n",
    "# rs_rf.fit(X_train, y_train)"
   ]
  },
  {
   "cell_type": "code",
   "execution_count": 745,
   "id": "9adb34b9-e3f6-4f43-85c8-d037b451e52b",
   "metadata": {},
   "outputs": [],
   "source": [
    "#rs_rf.best_params_"
   ]
  },
  {
   "cell_type": "code",
   "execution_count": 746,
   "id": "d872767e-82ee-413a-a212-1f98d80a053c",
   "metadata": {},
   "outputs": [
    {
     "data": {
      "text/plain": [
       "0.9858010630220198"
      ]
     },
     "execution_count": 746,
     "metadata": {},
     "output_type": "execute_result"
    }
   ],
   "source": [
    "models[\"Random Forest\"].score(X_test, y_test)"
   ]
  },
  {
   "cell_type": "code",
   "execution_count": 747,
   "id": "890a630c-5b84-4b1e-be81-88119489a4c5",
   "metadata": {},
   "outputs": [],
   "source": [
    "y_pred = models[\"Random Forest\"].predict(X_test)"
   ]
  },
  {
   "cell_type": "code",
   "execution_count": 748,
   "id": "ee2a48ef-9345-428c-b79a-68fc650cf6db",
   "metadata": {},
   "outputs": [],
   "source": [
    "from sklearn import metrics\n",
    "fpr, tpr, thresholds = metrics.roc_curve(y_test, y_pred)"
   ]
  },
  {
   "cell_type": "code",
   "execution_count": 749,
   "id": "9eb93c45-d3b3-4855-8709-5ca46a578f1b",
   "metadata": {},
   "outputs": [],
   "source": [
    "roc_auc = metrics.auc(fpr, tpr)"
   ]
  },
  {
   "cell_type": "code",
   "execution_count": 750,
   "id": "7e63ce98-30e6-4e40-84c0-ca58b16c2038",
   "metadata": {},
   "outputs": [
    {
     "data": {
      "text/plain": [
       "<sklearn.metrics._plot.roc_curve.RocCurveDisplay at 0x238075faf60>"
      ]
     },
     "execution_count": 750,
     "metadata": {},
     "output_type": "execute_result"
    },
    {
     "data": {
      "image/png": "[encoded data removed]",
      "text/plain": [
       "<Figure size 640x480 with 1 Axes>"
      ]
     },
     "metadata": {},
     "output_type": "display_data"
    }
   ],
   "source": [
    "# import ROC curve function from sklearn\n",
    "RocCurveDisplay(fpr = fpr, tpr = tpr, roc_auc = roc_auc, estimator_name = models[\"Random Forest\"]).plot()"
   ]
  },
  {
   "cell_type": "code",
   "execution_count": 751,
   "id": "9fc10317-06c3-463f-8c0c-ef93157cad5c",
   "metadata": {},
   "outputs": [],
   "source": [
    "y_preds = models[\"Random Forest\"].predict(X_test)"
   ]
  },
  {
   "cell_type": "code",
   "execution_count": 762,
   "id": "29d69f75-c8cc-40bf-a0da-92cb99a324d2",
   "metadata": {},
   "outputs": [
    {
     "name": "stdout",
     "output_type": "stream",
     "text": [
      "[[5796   79]\n",
      " [ 108 7187]]\n"
     ]
    }
   ],
   "source": [
    "# Confusion matrix\n",
    "print(confusion_matrix(y_preds, y_test))"
   ]
  },
  {
   "cell_type": "code",
   "execution_count": 753,
   "id": "b4376ac5-d3de-4a96-9986-ef526165ae81",
   "metadata": {},
   "outputs": [
    {
     "data": {
      "image/png": "[encoded data removed]",
      "text/plain": [
       "<Figure size 500x500 with 1 Axes>"
      ]
     },
     "metadata": {},
     "output_type": "display_data"
    }
   ],
   "source": [
    "sns.set(font_scale = 1.5)\n",
    "\n",
    "def plot_conf_mat(y_test, y_preds):\n",
    "    fig, ax = plt.subplots(figsize = (5, 5))\n",
    "    ax = sns.heatmap(confusion_matrix(y_preds, y_test),\n",
    "                    annot = True,\n",
    "                    cbar = False, xticklabels = True, yticklabels = True)\n",
    "    plt.xlabel(\"True label\")\n",
    "    plt.ylabel(\"Predicted label\")\n",
    "\n",
    "plot_conf_mat(y_test, y_preds)"
   ]
  },
  {
   "cell_type": "code",
   "execution_count": 754,
   "id": "367fa01e-a9b4-4605-9c0c-d5a3e1b4ad74",
   "metadata": {},
   "outputs": [
    {
     "name": "stdout",
     "output_type": "stream",
     "text": [
      "              precision    recall  f1-score   support\n",
      "\n",
      "           0       0.99      0.98      0.98      5904\n",
      "           1       0.99      0.99      0.99      7266\n",
      "\n",
      "    accuracy                           0.99     13170\n",
      "   macro avg       0.99      0.99      0.99     13170\n",
      "weighted avg       0.99      0.99      0.99     13170\n",
      "\n"
     ]
    }
   ],
   "source": [
    "print(classification_report(y_test, y_preds))"
   ]
  },
  {
   "cell_type": "code",
   "execution_count": 755,
   "id": "209fd5db-8c29-4416-9e80-4cf57478efaa",
   "metadata": {},
   "outputs": [],
   "source": [
    "### Calculate evaluation metrics using cross-validation\n",
    "\n",
    "clf = models[\"Random Forest\"]"
   ]
  },
  {
   "cell_type": "code",
   "execution_count": 756,
   "id": "a5f24b63-6510-41ff-9afb-fda826288549",
   "metadata": {},
   "outputs": [],
   "source": [
    "# Cross validated accuracy\n",
    "cv_acc = cross_val_score(clf, X, y, cv = 5, scoring = \"accuracy\")\n",
    "cv_acc = np.mean(cv_acc)"
   ]
  },
  {
   "cell_type": "code",
   "execution_count": 757,
   "id": "30db56a5-7165-4ab3-a70a-8c4663425c3d",
   "metadata": {},
   "outputs": [],
   "source": [
    "# Cross validated precision\n",
    "cv_prec = cross_val_score(clf, X, y, cv = 5, scoring = 'precision')\n",
    "cv_prec = np.mean(cv_prec)"
   ]
  },
  {
   "cell_type": "code",
   "execution_count": 758,
   "id": "6b96cd1a-d26d-4a3a-ba9b-46a26fe93f4a",
   "metadata": {
    "collapsed": true,
    "jupyter": {
     "outputs_hidden": true
    }
   },
   "outputs": [
    {
     "ename": "KeyboardInterrupt",
     "evalue": "",
     "output_type": "error",
     "traceback": [
      "\u001b[1;31m---------------------------------------------------------------------------\u001b[0m",
      "\u001b[1;31mKeyboardInterrupt\u001b[0m                         Traceback (most recent call last)",
      "Cell \u001b[1;32mIn[758], line 2\u001b[0m\n\u001b[0;32m      1\u001b[0m \u001b[38;5;66;03m# Cross validated recall\u001b[39;00m\n\u001b[1;32m----> 2\u001b[0m cv_recall \u001b[38;5;241m=\u001b[39m cross_val_score(clf, X, y, cv \u001b[38;5;241m=\u001b[39m \u001b[38;5;241m5\u001b[39m, scoring \u001b[38;5;241m=\u001b[39m \u001b[38;5;124m\"\u001b[39m\u001b[38;5;124mrecall\u001b[39m\u001b[38;5;124m\"\u001b[39m)\n\u001b[0;32m      3\u001b[0m cv_recall \u001b[38;5;241m=\u001b[39m np\u001b[38;5;241m.\u001b[39mmean(cv_recall)\n",
      "File \u001b[1;32m~\\Desktop\\my_proj1\\env\\Lib\\site-packages\\sklearn\\model_selection\\_validation.py:562\u001b[0m, in \u001b[0;36mcross_val_score\u001b[1;34m(estimator, X, y, groups, scoring, cv, n_jobs, verbose, fit_params, pre_dispatch, error_score)\u001b[0m\n\u001b[0;32m    559\u001b[0m \u001b[38;5;66;03m# To ensure multimetric format is not supported\u001b[39;00m\n\u001b[0;32m    560\u001b[0m scorer \u001b[38;5;241m=\u001b[39m check_scoring(estimator, scoring\u001b[38;5;241m=\u001b[39mscoring)\n\u001b[1;32m--> 562\u001b[0m cv_results \u001b[38;5;241m=\u001b[39m cross_validate(\n\u001b[0;32m    563\u001b[0m     estimator\u001b[38;5;241m=\u001b[39mestimator,\n\u001b[0;32m    564\u001b[0m     X\u001b[38;5;241m=\u001b[39mX,\n\u001b[0;32m    565\u001b[0m     y\u001b[38;5;241m=\u001b[39my,\n\u001b[0;32m    566\u001b[0m     groups\u001b[38;5;241m=\u001b[39mgroups,\n\u001b[0;32m    567\u001b[0m     scoring\u001b[38;5;241m=\u001b[39m{\u001b[38;5;124m\"\u001b[39m\u001b[38;5;124mscore\u001b[39m\u001b[38;5;124m\"\u001b[39m: scorer},\n\u001b[0;32m    568\u001b[0m     cv\u001b[38;5;241m=\u001b[39mcv,\n\u001b[0;32m    569\u001b[0m     n_jobs\u001b[38;5;241m=\u001b[39mn_jobs,\n\u001b[0;32m    570\u001b[0m     verbose\u001b[38;5;241m=\u001b[39mverbose,\n\u001b[0;32m    571\u001b[0m     fit_params\u001b[38;5;241m=\u001b[39mfit_params,\n\u001b[0;32m    572\u001b[0m     pre_dispatch\u001b[38;5;241m=\u001b[39mpre_dispatch,\n\u001b[0;32m    573\u001b[0m     error_score\u001b[38;5;241m=\u001b[39merror_score,\n\u001b[0;32m    574\u001b[0m )\n\u001b[0;32m    575\u001b[0m \u001b[38;5;28;01mreturn\u001b[39;00m cv_results[\u001b[38;5;124m\"\u001b[39m\u001b[38;5;124mtest_score\u001b[39m\u001b[38;5;124m\"\u001b[39m]\n",
      "File \u001b[1;32m~\\Desktop\\my_proj1\\env\\Lib\\site-packages\\sklearn\\utils\\_param_validation.py:211\u001b[0m, in \u001b[0;36mvalidate_params.<locals>.decorator.<locals>.wrapper\u001b[1;34m(*args, **kwargs)\u001b[0m\n\u001b[0;32m    205\u001b[0m \u001b[38;5;28;01mtry\u001b[39;00m:\n\u001b[0;32m    206\u001b[0m     \u001b[38;5;28;01mwith\u001b[39;00m config_context(\n\u001b[0;32m    207\u001b[0m         skip_parameter_validation\u001b[38;5;241m=\u001b[39m(\n\u001b[0;32m    208\u001b[0m             prefer_skip_nested_validation \u001b[38;5;129;01mor\u001b[39;00m global_skip_validation\n\u001b[0;32m    209\u001b[0m         )\n\u001b[0;32m    210\u001b[0m     ):\n\u001b[1;32m--> 211\u001b[0m         \u001b[38;5;28;01mreturn\u001b[39;00m func(\u001b[38;5;241m*\u001b[39margs, \u001b[38;5;241m*\u001b[39m\u001b[38;5;241m*\u001b[39mkwargs)\n\u001b[0;32m    212\u001b[0m \u001b[38;5;28;01mexcept\u001b[39;00m InvalidParameterError \u001b[38;5;28;01mas\u001b[39;00m e:\n\u001b[0;32m    213\u001b[0m     \u001b[38;5;66;03m# When the function is just a wrapper around an estimator, we allow\u001b[39;00m\n\u001b[0;32m    214\u001b[0m     \u001b[38;5;66;03m# the function to delegate validation to the estimator, but we replace\u001b[39;00m\n\u001b[0;32m    215\u001b[0m     \u001b[38;5;66;03m# the name of the estimator by the name of the function in the error\u001b[39;00m\n\u001b[0;32m    216\u001b[0m     \u001b[38;5;66;03m# message to avoid confusion.\u001b[39;00m\n\u001b[0;32m    217\u001b[0m     msg \u001b[38;5;241m=\u001b[39m re\u001b[38;5;241m.\u001b[39msub(\n\u001b[0;32m    218\u001b[0m         \u001b[38;5;124mr\u001b[39m\u001b[38;5;124m\"\u001b[39m\u001b[38;5;124mparameter of \u001b[39m\u001b[38;5;124m\\\u001b[39m\u001b[38;5;124mw+ must be\u001b[39m\u001b[38;5;124m\"\u001b[39m,\n\u001b[0;32m    219\u001b[0m         \u001b[38;5;124mf\u001b[39m\u001b[38;5;124m\"\u001b[39m\u001b[38;5;124mparameter of \u001b[39m\u001b[38;5;132;01m{\u001b[39;00mfunc\u001b[38;5;241m.\u001b[39m\u001b[38;5;18m__qualname__\u001b[39m\u001b[38;5;132;01m}\u001b[39;00m\u001b[38;5;124m must be\u001b[39m\u001b[38;5;124m\"\u001b[39m,\n\u001b[0;32m    220\u001b[0m         \u001b[38;5;28mstr\u001b[39m(e),\n\u001b[0;32m    221\u001b[0m     )\n",
      "File \u001b[1;32m~\\Desktop\\my_proj1\\env\\Lib\\site-packages\\sklearn\\model_selection\\_validation.py:309\u001b[0m, in \u001b[0;36mcross_validate\u001b[1;34m(estimator, X, y, groups, scoring, cv, n_jobs, verbose, fit_params, pre_dispatch, return_train_score, return_estimator, return_indices, error_score)\u001b[0m\n\u001b[0;32m    306\u001b[0m \u001b[38;5;66;03m# We clone the estimator to make sure that all the folds are\u001b[39;00m\n\u001b[0;32m    307\u001b[0m \u001b[38;5;66;03m# independent, and that it is pickle-able.\u001b[39;00m\n\u001b[0;32m    308\u001b[0m parallel \u001b[38;5;241m=\u001b[39m Parallel(n_jobs\u001b[38;5;241m=\u001b[39mn_jobs, verbose\u001b[38;5;241m=\u001b[39mverbose, pre_dispatch\u001b[38;5;241m=\u001b[39mpre_dispatch)\n\u001b[1;32m--> 309\u001b[0m results \u001b[38;5;241m=\u001b[39m parallel(\n\u001b[0;32m    310\u001b[0m     delayed(_fit_and_score)(\n\u001b[0;32m    311\u001b[0m         clone(estimator),\n\u001b[0;32m    312\u001b[0m         X,\n\u001b[0;32m    313\u001b[0m         y,\n\u001b[0;32m    314\u001b[0m         scorers,\n\u001b[0;32m    315\u001b[0m         train,\n\u001b[0;32m    316\u001b[0m         test,\n\u001b[0;32m    317\u001b[0m         verbose,\n\u001b[0;32m    318\u001b[0m         \u001b[38;5;28;01mNone\u001b[39;00m,\n\u001b[0;32m    319\u001b[0m         fit_params,\n\u001b[0;32m    320\u001b[0m         return_train_score\u001b[38;5;241m=\u001b[39mreturn_train_score,\n\u001b[0;32m    321\u001b[0m         return_times\u001b[38;5;241m=\u001b[39m\u001b[38;5;28;01mTrue\u001b[39;00m,\n\u001b[0;32m    322\u001b[0m         return_estimator\u001b[38;5;241m=\u001b[39mreturn_estimator,\n\u001b[0;32m    323\u001b[0m         error_score\u001b[38;5;241m=\u001b[39merror_score,\n\u001b[0;32m    324\u001b[0m     )\n\u001b[0;32m    325\u001b[0m     \u001b[38;5;28;01mfor\u001b[39;00m train, test \u001b[38;5;129;01min\u001b[39;00m indices\n\u001b[0;32m    326\u001b[0m )\n\u001b[0;32m    328\u001b[0m _warn_or_raise_about_fit_failures(results, error_score)\n\u001b[0;32m    330\u001b[0m \u001b[38;5;66;03m# For callable scoring, the return type is only know after calling. If the\u001b[39;00m\n\u001b[0;32m    331\u001b[0m \u001b[38;5;66;03m# return type is a dictionary, the error scores can now be inserted with\u001b[39;00m\n\u001b[0;32m    332\u001b[0m \u001b[38;5;66;03m# the correct key.\u001b[39;00m\n",
      "File \u001b[1;32m~\\Desktop\\my_proj1\\env\\Lib\\site-packages\\sklearn\\utils\\parallel.py:65\u001b[0m, in \u001b[0;36mParallel.__call__\u001b[1;34m(self, iterable)\u001b[0m\n\u001b[0;32m     60\u001b[0m config \u001b[38;5;241m=\u001b[39m get_config()\n\u001b[0;32m     61\u001b[0m iterable_with_config \u001b[38;5;241m=\u001b[39m (\n\u001b[0;32m     62\u001b[0m     (_with_config(delayed_func, config), args, kwargs)\n\u001b[0;32m     63\u001b[0m     \u001b[38;5;28;01mfor\u001b[39;00m delayed_func, args, kwargs \u001b[38;5;129;01min\u001b[39;00m iterable\n\u001b[0;32m     64\u001b[0m )\n\u001b[1;32m---> 65\u001b[0m \u001b[38;5;28;01mreturn\u001b[39;00m \u001b[38;5;28msuper\u001b[39m()\u001b[38;5;241m.\u001b[39m\u001b[38;5;21m__call__\u001b[39m(iterable_with_config)\n",
      "File \u001b[1;32m~\\Desktop\\my_proj1\\env\\Lib\\site-packages\\joblib\\parallel.py:1085\u001b[0m, in \u001b[0;36mParallel.__call__\u001b[1;34m(self, iterable)\u001b[0m\n\u001b[0;32m   1076\u001b[0m \u001b[38;5;28;01mtry\u001b[39;00m:\n\u001b[0;32m   1077\u001b[0m     \u001b[38;5;66;03m# Only set self._iterating to True if at least a batch\u001b[39;00m\n\u001b[0;32m   1078\u001b[0m     \u001b[38;5;66;03m# was dispatched. In particular this covers the edge\u001b[39;00m\n\u001b[1;32m   (...)\u001b[0m\n\u001b[0;32m   1082\u001b[0m     \u001b[38;5;66;03m# was very quick and its callback already dispatched all the\u001b[39;00m\n\u001b[0;32m   1083\u001b[0m     \u001b[38;5;66;03m# remaining jobs.\u001b[39;00m\n\u001b[0;32m   1084\u001b[0m     \u001b[38;5;28mself\u001b[39m\u001b[38;5;241m.\u001b[39m_iterating \u001b[38;5;241m=\u001b[39m \u001b[38;5;28;01mFalse\u001b[39;00m\n\u001b[1;32m-> 1085\u001b[0m     \u001b[38;5;28;01mif\u001b[39;00m \u001b[38;5;28mself\u001b[39m\u001b[38;5;241m.\u001b[39mdispatch_one_batch(iterator):\n\u001b[0;32m   1086\u001b[0m         \u001b[38;5;28mself\u001b[39m\u001b[38;5;241m.\u001b[39m_iterating \u001b[38;5;241m=\u001b[39m \u001b[38;5;28mself\u001b[39m\u001b[38;5;241m.\u001b[39m_original_iterator \u001b[38;5;129;01mis\u001b[39;00m \u001b[38;5;129;01mnot\u001b[39;00m \u001b[38;5;28;01mNone\u001b[39;00m\n\u001b[0;32m   1088\u001b[0m     \u001b[38;5;28;01mwhile\u001b[39;00m \u001b[38;5;28mself\u001b[39m\u001b[38;5;241m.\u001b[39mdispatch_one_batch(iterator):\n",
      "File \u001b[1;32m~\\Desktop\\my_proj1\\env\\Lib\\site-packages\\joblib\\parallel.py:901\u001b[0m, in \u001b[0;36mParallel.dispatch_one_batch\u001b[1;34m(self, iterator)\u001b[0m\n\u001b[0;32m    899\u001b[0m     \u001b[38;5;28;01mreturn\u001b[39;00m \u001b[38;5;28;01mFalse\u001b[39;00m\n\u001b[0;32m    900\u001b[0m \u001b[38;5;28;01melse\u001b[39;00m:\n\u001b[1;32m--> 901\u001b[0m     \u001b[38;5;28mself\u001b[39m\u001b[38;5;241m.\u001b[39m_dispatch(tasks)\n\u001b[0;32m    902\u001b[0m     \u001b[38;5;28;01mreturn\u001b[39;00m \u001b[38;5;28;01mTrue\u001b[39;00m\n",
      "File \u001b[1;32m~\\Desktop\\my_proj1\\env\\Lib\\site-packages\\joblib\\parallel.py:819\u001b[0m, in \u001b[0;36mParallel._dispatch\u001b[1;34m(self, batch)\u001b[0m\n\u001b[0;32m    817\u001b[0m \u001b[38;5;28;01mwith\u001b[39;00m \u001b[38;5;28mself\u001b[39m\u001b[38;5;241m.\u001b[39m_lock:\n\u001b[0;32m    818\u001b[0m     job_idx \u001b[38;5;241m=\u001b[39m \u001b[38;5;28mlen\u001b[39m(\u001b[38;5;28mself\u001b[39m\u001b[38;5;241m.\u001b[39m_jobs)\n\u001b[1;32m--> 819\u001b[0m     job \u001b[38;5;241m=\u001b[39m \u001b[38;5;28mself\u001b[39m\u001b[38;5;241m.\u001b[39m_backend\u001b[38;5;241m.\u001b[39mapply_async(batch, callback\u001b[38;5;241m=\u001b[39mcb)\n\u001b[0;32m    820\u001b[0m     \u001b[38;5;66;03m# A job can complete so quickly than its callback is\u001b[39;00m\n\u001b[0;32m    821\u001b[0m     \u001b[38;5;66;03m# called before we get here, causing self._jobs to\u001b[39;00m\n\u001b[0;32m    822\u001b[0m     \u001b[38;5;66;03m# grow. To ensure correct results ordering, .insert is\u001b[39;00m\n\u001b[0;32m    823\u001b[0m     \u001b[38;5;66;03m# used (rather than .append) in the following line\u001b[39;00m\n\u001b[0;32m    824\u001b[0m     \u001b[38;5;28mself\u001b[39m\u001b[38;5;241m.\u001b[39m_jobs\u001b[38;5;241m.\u001b[39minsert(job_idx, job)\n",
      "File \u001b[1;32m~\\Desktop\\my_proj1\\env\\Lib\\site-packages\\joblib\\_parallel_backends.py:208\u001b[0m, in \u001b[0;36mSequentialBackend.apply_async\u001b[1;34m(self, func, callback)\u001b[0m\n\u001b[0;32m    206\u001b[0m \u001b[38;5;28;01mdef\u001b[39;00m \u001b[38;5;21mapply_async\u001b[39m(\u001b[38;5;28mself\u001b[39m, func, callback\u001b[38;5;241m=\u001b[39m\u001b[38;5;28;01mNone\u001b[39;00m):\n\u001b[0;32m    207\u001b[0m \u001b[38;5;250m    \u001b[39m\u001b[38;5;124;03m\"\"\"Schedule a func to be run\"\"\"\u001b[39;00m\n\u001b[1;32m--> 208\u001b[0m     result \u001b[38;5;241m=\u001b[39m ImmediateResult(func)\n\u001b[0;32m    209\u001b[0m     \u001b[38;5;28;01mif\u001b[39;00m callback:\n\u001b[0;32m    210\u001b[0m         callback(result)\n",
      "File \u001b[1;32m~\\Desktop\\my_proj1\\env\\Lib\\site-packages\\joblib\\_parallel_backends.py:597\u001b[0m, in \u001b[0;36mImmediateResult.__init__\u001b[1;34m(self, batch)\u001b[0m\n\u001b[0;32m    594\u001b[0m \u001b[38;5;28;01mdef\u001b[39;00m \u001b[38;5;21m__init__\u001b[39m(\u001b[38;5;28mself\u001b[39m, batch):\n\u001b[0;32m    595\u001b[0m     \u001b[38;5;66;03m# Don't delay the application, to avoid keeping the input\u001b[39;00m\n\u001b[0;32m    596\u001b[0m     \u001b[38;5;66;03m# arguments in memory\u001b[39;00m\n\u001b[1;32m--> 597\u001b[0m     \u001b[38;5;28mself\u001b[39m\u001b[38;5;241m.\u001b[39mresults \u001b[38;5;241m=\u001b[39m batch()\n",
      "File \u001b[1;32m~\\Desktop\\my_proj1\\env\\Lib\\site-packages\\joblib\\parallel.py:288\u001b[0m, in \u001b[0;36mBatchedCalls.__call__\u001b[1;34m(self)\u001b[0m\n\u001b[0;32m    284\u001b[0m \u001b[38;5;28;01mdef\u001b[39;00m \u001b[38;5;21m__call__\u001b[39m(\u001b[38;5;28mself\u001b[39m):\n\u001b[0;32m    285\u001b[0m     \u001b[38;5;66;03m# Set the default nested backend to self._backend but do not set the\u001b[39;00m\n\u001b[0;32m    286\u001b[0m     \u001b[38;5;66;03m# change the default number of processes to -1\u001b[39;00m\n\u001b[0;32m    287\u001b[0m     \u001b[38;5;28;01mwith\u001b[39;00m parallel_backend(\u001b[38;5;28mself\u001b[39m\u001b[38;5;241m.\u001b[39m_backend, n_jobs\u001b[38;5;241m=\u001b[39m\u001b[38;5;28mself\u001b[39m\u001b[38;5;241m.\u001b[39m_n_jobs):\n\u001b[1;32m--> 288\u001b[0m         \u001b[38;5;28;01mreturn\u001b[39;00m [func(\u001b[38;5;241m*\u001b[39margs, \u001b[38;5;241m*\u001b[39m\u001b[38;5;241m*\u001b[39mkwargs)\n\u001b[0;32m    289\u001b[0m                 \u001b[38;5;28;01mfor\u001b[39;00m func, args, kwargs \u001b[38;5;129;01min\u001b[39;00m \u001b[38;5;28mself\u001b[39m\u001b[38;5;241m.\u001b[39mitems]\n",
      "File \u001b[1;32m~\\Desktop\\my_proj1\\env\\Lib\\site-packages\\sklearn\\utils\\parallel.py:127\u001b[0m, in \u001b[0;36m_FuncWrapper.__call__\u001b[1;34m(self, *args, **kwargs)\u001b[0m\n\u001b[0;32m    125\u001b[0m     config \u001b[38;5;241m=\u001b[39m {}\n\u001b[0;32m    126\u001b[0m \u001b[38;5;28;01mwith\u001b[39;00m config_context(\u001b[38;5;241m*\u001b[39m\u001b[38;5;241m*\u001b[39mconfig):\n\u001b[1;32m--> 127\u001b[0m     \u001b[38;5;28;01mreturn\u001b[39;00m \u001b[38;5;28mself\u001b[39m\u001b[38;5;241m.\u001b[39mfunction(\u001b[38;5;241m*\u001b[39margs, \u001b[38;5;241m*\u001b[39m\u001b[38;5;241m*\u001b[39mkwargs)\n",
      "File \u001b[1;32m~\\Desktop\\my_proj1\\env\\Lib\\site-packages\\sklearn\\model_selection\\_validation.py:732\u001b[0m, in \u001b[0;36m_fit_and_score\u001b[1;34m(estimator, X, y, scorer, train, test, verbose, parameters, fit_params, return_train_score, return_parameters, return_n_test_samples, return_times, return_estimator, split_progress, candidate_progress, error_score)\u001b[0m\n\u001b[0;32m    730\u001b[0m         estimator\u001b[38;5;241m.\u001b[39mfit(X_train, \u001b[38;5;241m*\u001b[39m\u001b[38;5;241m*\u001b[39mfit_params)\n\u001b[0;32m    731\u001b[0m     \u001b[38;5;28;01melse\u001b[39;00m:\n\u001b[1;32m--> 732\u001b[0m         estimator\u001b[38;5;241m.\u001b[39mfit(X_train, y_train, \u001b[38;5;241m*\u001b[39m\u001b[38;5;241m*\u001b[39mfit_params)\n\u001b[0;32m    734\u001b[0m \u001b[38;5;28;01mexcept\u001b[39;00m \u001b[38;5;167;01mException\u001b[39;00m:\n\u001b[0;32m    735\u001b[0m     \u001b[38;5;66;03m# Note fit time as time until error\u001b[39;00m\n\u001b[0;32m    736\u001b[0m     fit_time \u001b[38;5;241m=\u001b[39m time\u001b[38;5;241m.\u001b[39mtime() \u001b[38;5;241m-\u001b[39m start_time\n",
      "File \u001b[1;32m~\\Desktop\\my_proj1\\env\\Lib\\site-packages\\sklearn\\base.py:1151\u001b[0m, in \u001b[0;36m_fit_context.<locals>.decorator.<locals>.wrapper\u001b[1;34m(estimator, *args, **kwargs)\u001b[0m\n\u001b[0;32m   1144\u001b[0m     estimator\u001b[38;5;241m.\u001b[39m_validate_params()\n\u001b[0;32m   1146\u001b[0m \u001b[38;5;28;01mwith\u001b[39;00m config_context(\n\u001b[0;32m   1147\u001b[0m     skip_parameter_validation\u001b[38;5;241m=\u001b[39m(\n\u001b[0;32m   1148\u001b[0m         prefer_skip_nested_validation \u001b[38;5;129;01mor\u001b[39;00m global_skip_validation\n\u001b[0;32m   1149\u001b[0m     )\n\u001b[0;32m   1150\u001b[0m ):\n\u001b[1;32m-> 1151\u001b[0m     \u001b[38;5;28;01mreturn\u001b[39;00m fit_method(estimator, \u001b[38;5;241m*\u001b[39margs, \u001b[38;5;241m*\u001b[39m\u001b[38;5;241m*\u001b[39mkwargs)\n",
      "File \u001b[1;32m~\\Desktop\\my_proj1\\env\\Lib\\site-packages\\sklearn\\ensemble\\_forest.py:456\u001b[0m, in \u001b[0;36mBaseForest.fit\u001b[1;34m(self, X, y, sample_weight)\u001b[0m\n\u001b[0;32m    445\u001b[0m trees \u001b[38;5;241m=\u001b[39m [\n\u001b[0;32m    446\u001b[0m     \u001b[38;5;28mself\u001b[39m\u001b[38;5;241m.\u001b[39m_make_estimator(append\u001b[38;5;241m=\u001b[39m\u001b[38;5;28;01mFalse\u001b[39;00m, random_state\u001b[38;5;241m=\u001b[39mrandom_state)\n\u001b[0;32m    447\u001b[0m     \u001b[38;5;28;01mfor\u001b[39;00m i \u001b[38;5;129;01min\u001b[39;00m \u001b[38;5;28mrange\u001b[39m(n_more_estimators)\n\u001b[0;32m    448\u001b[0m ]\n\u001b[0;32m    450\u001b[0m \u001b[38;5;66;03m# Parallel loop: we prefer the threading backend as the Cython code\u001b[39;00m\n\u001b[0;32m    451\u001b[0m \u001b[38;5;66;03m# for fitting the trees is internally releasing the Python GIL\u001b[39;00m\n\u001b[0;32m    452\u001b[0m \u001b[38;5;66;03m# making threading more efficient than multiprocessing in\u001b[39;00m\n\u001b[0;32m    453\u001b[0m \u001b[38;5;66;03m# that case. However, for joblib 0.12+ we respect any\u001b[39;00m\n\u001b[0;32m    454\u001b[0m \u001b[38;5;66;03m# parallel_backend contexts set at a higher level,\u001b[39;00m\n\u001b[0;32m    455\u001b[0m \u001b[38;5;66;03m# since correctness does not rely on using threads.\u001b[39;00m\n\u001b[1;32m--> 456\u001b[0m trees \u001b[38;5;241m=\u001b[39m Parallel(\n\u001b[0;32m    457\u001b[0m     n_jobs\u001b[38;5;241m=\u001b[39m\u001b[38;5;28mself\u001b[39m\u001b[38;5;241m.\u001b[39mn_jobs,\n\u001b[0;32m    458\u001b[0m     verbose\u001b[38;5;241m=\u001b[39m\u001b[38;5;28mself\u001b[39m\u001b[38;5;241m.\u001b[39mverbose,\n\u001b[0;32m    459\u001b[0m     prefer\u001b[38;5;241m=\u001b[39m\u001b[38;5;124m\"\u001b[39m\u001b[38;5;124mthreads\u001b[39m\u001b[38;5;124m\"\u001b[39m,\n\u001b[0;32m    460\u001b[0m )(\n\u001b[0;32m    461\u001b[0m     delayed(_parallel_build_trees)(\n\u001b[0;32m    462\u001b[0m         t,\n\u001b[0;32m    463\u001b[0m         \u001b[38;5;28mself\u001b[39m\u001b[38;5;241m.\u001b[39mbootstrap,\n\u001b[0;32m    464\u001b[0m         X,\n\u001b[0;32m    465\u001b[0m         y,\n\u001b[0;32m    466\u001b[0m         sample_weight,\n\u001b[0;32m    467\u001b[0m         i,\n\u001b[0;32m    468\u001b[0m         \u001b[38;5;28mlen\u001b[39m(trees),\n\u001b[0;32m    469\u001b[0m         verbose\u001b[38;5;241m=\u001b[39m\u001b[38;5;28mself\u001b[39m\u001b[38;5;241m.\u001b[39mverbose,\n\u001b[0;32m    470\u001b[0m         class_weight\u001b[38;5;241m=\u001b[39m\u001b[38;5;28mself\u001b[39m\u001b[38;5;241m.\u001b[39mclass_weight,\n\u001b[0;32m    471\u001b[0m         n_samples_bootstrap\u001b[38;5;241m=\u001b[39mn_samples_bootstrap,\n\u001b[0;32m    472\u001b[0m     )\n\u001b[0;32m    473\u001b[0m     \u001b[38;5;28;01mfor\u001b[39;00m i, t \u001b[38;5;129;01min\u001b[39;00m \u001b[38;5;28menumerate\u001b[39m(trees)\n\u001b[0;32m    474\u001b[0m )\n\u001b[0;32m    476\u001b[0m \u001b[38;5;66;03m# Collect newly grown trees\u001b[39;00m\n\u001b[0;32m    477\u001b[0m \u001b[38;5;28mself\u001b[39m\u001b[38;5;241m.\u001b[39mestimators_\u001b[38;5;241m.\u001b[39mextend(trees)\n",
      "File \u001b[1;32m~\\Desktop\\my_proj1\\env\\Lib\\site-packages\\sklearn\\utils\\parallel.py:65\u001b[0m, in \u001b[0;36mParallel.__call__\u001b[1;34m(self, iterable)\u001b[0m\n\u001b[0;32m     60\u001b[0m config \u001b[38;5;241m=\u001b[39m get_config()\n\u001b[0;32m     61\u001b[0m iterable_with_config \u001b[38;5;241m=\u001b[39m (\n\u001b[0;32m     62\u001b[0m     (_with_config(delayed_func, config), args, kwargs)\n\u001b[0;32m     63\u001b[0m     \u001b[38;5;28;01mfor\u001b[39;00m delayed_func, args, kwargs \u001b[38;5;129;01min\u001b[39;00m iterable\n\u001b[0;32m     64\u001b[0m )\n\u001b[1;32m---> 65\u001b[0m \u001b[38;5;28;01mreturn\u001b[39;00m \u001b[38;5;28msuper\u001b[39m()\u001b[38;5;241m.\u001b[39m\u001b[38;5;21m__call__\u001b[39m(iterable_with_config)\n",
      "File \u001b[1;32m~\\Desktop\\my_proj1\\env\\Lib\\site-packages\\joblib\\parallel.py:1088\u001b[0m, in \u001b[0;36mParallel.__call__\u001b[1;34m(self, iterable)\u001b[0m\n\u001b[0;32m   1085\u001b[0m \u001b[38;5;28;01mif\u001b[39;00m \u001b[38;5;28mself\u001b[39m\u001b[38;5;241m.\u001b[39mdispatch_one_batch(iterator):\n\u001b[0;32m   1086\u001b[0m     \u001b[38;5;28mself\u001b[39m\u001b[38;5;241m.\u001b[39m_iterating \u001b[38;5;241m=\u001b[39m \u001b[38;5;28mself\u001b[39m\u001b[38;5;241m.\u001b[39m_original_iterator \u001b[38;5;129;01mis\u001b[39;00m \u001b[38;5;129;01mnot\u001b[39;00m \u001b[38;5;28;01mNone\u001b[39;00m\n\u001b[1;32m-> 1088\u001b[0m \u001b[38;5;28;01mwhile\u001b[39;00m \u001b[38;5;28mself\u001b[39m\u001b[38;5;241m.\u001b[39mdispatch_one_batch(iterator):\n\u001b[0;32m   1089\u001b[0m     \u001b[38;5;28;01mpass\u001b[39;00m\n\u001b[0;32m   1091\u001b[0m \u001b[38;5;28;01mif\u001b[39;00m pre_dispatch \u001b[38;5;241m==\u001b[39m \u001b[38;5;124m\"\u001b[39m\u001b[38;5;124mall\u001b[39m\u001b[38;5;124m\"\u001b[39m \u001b[38;5;129;01mor\u001b[39;00m n_jobs \u001b[38;5;241m==\u001b[39m \u001b[38;5;241m1\u001b[39m:\n\u001b[0;32m   1092\u001b[0m     \u001b[38;5;66;03m# The iterable was consumed all at once by the above for loop.\u001b[39;00m\n\u001b[0;32m   1093\u001b[0m     \u001b[38;5;66;03m# No need to wait for async callbacks to trigger to\u001b[39;00m\n\u001b[0;32m   1094\u001b[0m     \u001b[38;5;66;03m# consumption.\u001b[39;00m\n",
      "File \u001b[1;32m~\\Desktop\\my_proj1\\env\\Lib\\site-packages\\joblib\\parallel.py:901\u001b[0m, in \u001b[0;36mParallel.dispatch_one_batch\u001b[1;34m(self, iterator)\u001b[0m\n\u001b[0;32m    899\u001b[0m     \u001b[38;5;28;01mreturn\u001b[39;00m \u001b[38;5;28;01mFalse\u001b[39;00m\n\u001b[0;32m    900\u001b[0m \u001b[38;5;28;01melse\u001b[39;00m:\n\u001b[1;32m--> 901\u001b[0m     \u001b[38;5;28mself\u001b[39m\u001b[38;5;241m.\u001b[39m_dispatch(tasks)\n\u001b[0;32m    902\u001b[0m     \u001b[38;5;28;01mreturn\u001b[39;00m \u001b[38;5;28;01mTrue\u001b[39;00m\n",
      "File \u001b[1;32m~\\Desktop\\my_proj1\\env\\Lib\\site-packages\\joblib\\parallel.py:819\u001b[0m, in \u001b[0;36mParallel._dispatch\u001b[1;34m(self, batch)\u001b[0m\n\u001b[0;32m    817\u001b[0m \u001b[38;5;28;01mwith\u001b[39;00m \u001b[38;5;28mself\u001b[39m\u001b[38;5;241m.\u001b[39m_lock:\n\u001b[0;32m    818\u001b[0m     job_idx \u001b[38;5;241m=\u001b[39m \u001b[38;5;28mlen\u001b[39m(\u001b[38;5;28mself\u001b[39m\u001b[38;5;241m.\u001b[39m_jobs)\n\u001b[1;32m--> 819\u001b[0m     job \u001b[38;5;241m=\u001b[39m \u001b[38;5;28mself\u001b[39m\u001b[38;5;241m.\u001b[39m_backend\u001b[38;5;241m.\u001b[39mapply_async(batch, callback\u001b[38;5;241m=\u001b[39mcb)\n\u001b[0;32m    820\u001b[0m     \u001b[38;5;66;03m# A job can complete so quickly than its callback is\u001b[39;00m\n\u001b[0;32m    821\u001b[0m     \u001b[38;5;66;03m# called before we get here, causing self._jobs to\u001b[39;00m\n\u001b[0;32m    822\u001b[0m     \u001b[38;5;66;03m# grow. To ensure correct results ordering, .insert is\u001b[39;00m\n\u001b[0;32m    823\u001b[0m     \u001b[38;5;66;03m# used (rather than .append) in the following line\u001b[39;00m\n\u001b[0;32m    824\u001b[0m     \u001b[38;5;28mself\u001b[39m\u001b[38;5;241m.\u001b[39m_jobs\u001b[38;5;241m.\u001b[39minsert(job_idx, job)\n",
      "File \u001b[1;32m~\\Desktop\\my_proj1\\env\\Lib\\site-packages\\joblib\\_parallel_backends.py:208\u001b[0m, in \u001b[0;36mSequentialBackend.apply_async\u001b[1;34m(self, func, callback)\u001b[0m\n\u001b[0;32m    206\u001b[0m \u001b[38;5;28;01mdef\u001b[39;00m \u001b[38;5;21mapply_async\u001b[39m(\u001b[38;5;28mself\u001b[39m, func, callback\u001b[38;5;241m=\u001b[39m\u001b[38;5;28;01mNone\u001b[39;00m):\n\u001b[0;32m    207\u001b[0m \u001b[38;5;250m    \u001b[39m\u001b[38;5;124;03m\"\"\"Schedule a func to be run\"\"\"\u001b[39;00m\n\u001b[1;32m--> 208\u001b[0m     result \u001b[38;5;241m=\u001b[39m ImmediateResult(func)\n\u001b[0;32m    209\u001b[0m     \u001b[38;5;28;01mif\u001b[39;00m callback:\n\u001b[0;32m    210\u001b[0m         callback(result)\n",
      "File \u001b[1;32m~\\Desktop\\my_proj1\\env\\Lib\\site-packages\\joblib\\_parallel_backends.py:597\u001b[0m, in \u001b[0;36mImmediateResult.__init__\u001b[1;34m(self, batch)\u001b[0m\n\u001b[0;32m    594\u001b[0m \u001b[38;5;28;01mdef\u001b[39;00m \u001b[38;5;21m__init__\u001b[39m(\u001b[38;5;28mself\u001b[39m, batch):\n\u001b[0;32m    595\u001b[0m     \u001b[38;5;66;03m# Don't delay the application, to avoid keeping the input\u001b[39;00m\n\u001b[0;32m    596\u001b[0m     \u001b[38;5;66;03m# arguments in memory\u001b[39;00m\n\u001b[1;32m--> 597\u001b[0m     \u001b[38;5;28mself\u001b[39m\u001b[38;5;241m.\u001b[39mresults \u001b[38;5;241m=\u001b[39m batch()\n",
      "File \u001b[1;32m~\\Desktop\\my_proj1\\env\\Lib\\site-packages\\joblib\\parallel.py:288\u001b[0m, in \u001b[0;36mBatchedCalls.__call__\u001b[1;34m(self)\u001b[0m\n\u001b[0;32m    284\u001b[0m \u001b[38;5;28;01mdef\u001b[39;00m \u001b[38;5;21m__call__\u001b[39m(\u001b[38;5;28mself\u001b[39m):\n\u001b[0;32m    285\u001b[0m     \u001b[38;5;66;03m# Set the default nested backend to self._backend but do not set the\u001b[39;00m\n\u001b[0;32m    286\u001b[0m     \u001b[38;5;66;03m# change the default number of processes to -1\u001b[39;00m\n\u001b[0;32m    287\u001b[0m     \u001b[38;5;28;01mwith\u001b[39;00m parallel_backend(\u001b[38;5;28mself\u001b[39m\u001b[38;5;241m.\u001b[39m_backend, n_jobs\u001b[38;5;241m=\u001b[39m\u001b[38;5;28mself\u001b[39m\u001b[38;5;241m.\u001b[39m_n_jobs):\n\u001b[1;32m--> 288\u001b[0m         \u001b[38;5;28;01mreturn\u001b[39;00m [func(\u001b[38;5;241m*\u001b[39margs, \u001b[38;5;241m*\u001b[39m\u001b[38;5;241m*\u001b[39mkwargs)\n\u001b[0;32m    289\u001b[0m                 \u001b[38;5;28;01mfor\u001b[39;00m func, args, kwargs \u001b[38;5;129;01min\u001b[39;00m \u001b[38;5;28mself\u001b[39m\u001b[38;5;241m.\u001b[39mitems]\n",
      "File \u001b[1;32m~\\Desktop\\my_proj1\\env\\Lib\\site-packages\\sklearn\\utils\\parallel.py:127\u001b[0m, in \u001b[0;36m_FuncWrapper.__call__\u001b[1;34m(self, *args, **kwargs)\u001b[0m\n\u001b[0;32m    125\u001b[0m     config \u001b[38;5;241m=\u001b[39m {}\n\u001b[0;32m    126\u001b[0m \u001b[38;5;28;01mwith\u001b[39;00m config_context(\u001b[38;5;241m*\u001b[39m\u001b[38;5;241m*\u001b[39mconfig):\n\u001b[1;32m--> 127\u001b[0m     \u001b[38;5;28;01mreturn\u001b[39;00m \u001b[38;5;28mself\u001b[39m\u001b[38;5;241m.\u001b[39mfunction(\u001b[38;5;241m*\u001b[39margs, \u001b[38;5;241m*\u001b[39m\u001b[38;5;241m*\u001b[39mkwargs)\n",
      "File \u001b[1;32m~\\Desktop\\my_proj1\\env\\Lib\\site-packages\\sklearn\\ensemble\\_forest.py:188\u001b[0m, in \u001b[0;36m_parallel_build_trees\u001b[1;34m(tree, bootstrap, X, y, sample_weight, tree_idx, n_trees, verbose, class_weight, n_samples_bootstrap)\u001b[0m\n\u001b[0;32m    185\u001b[0m     \u001b[38;5;28;01melif\u001b[39;00m class_weight \u001b[38;5;241m==\u001b[39m \u001b[38;5;124m\"\u001b[39m\u001b[38;5;124mbalanced_subsample\u001b[39m\u001b[38;5;124m\"\u001b[39m:\n\u001b[0;32m    186\u001b[0m         curr_sample_weight \u001b[38;5;241m*\u001b[39m\u001b[38;5;241m=\u001b[39m compute_sample_weight(\u001b[38;5;124m\"\u001b[39m\u001b[38;5;124mbalanced\u001b[39m\u001b[38;5;124m\"\u001b[39m, y, indices\u001b[38;5;241m=\u001b[39mindices)\n\u001b[1;32m--> 188\u001b[0m     tree\u001b[38;5;241m.\u001b[39mfit(X, y, sample_weight\u001b[38;5;241m=\u001b[39mcurr_sample_weight, check_input\u001b[38;5;241m=\u001b[39m\u001b[38;5;28;01mFalse\u001b[39;00m)\n\u001b[0;32m    189\u001b[0m \u001b[38;5;28;01melse\u001b[39;00m:\n\u001b[0;32m    190\u001b[0m     tree\u001b[38;5;241m.\u001b[39mfit(X, y, sample_weight\u001b[38;5;241m=\u001b[39msample_weight, check_input\u001b[38;5;241m=\u001b[39m\u001b[38;5;28;01mFalse\u001b[39;00m)\n",
      "File \u001b[1;32m~\\Desktop\\my_proj1\\env\\Lib\\site-packages\\sklearn\\base.py:1151\u001b[0m, in \u001b[0;36m_fit_context.<locals>.decorator.<locals>.wrapper\u001b[1;34m(estimator, *args, **kwargs)\u001b[0m\n\u001b[0;32m   1144\u001b[0m     estimator\u001b[38;5;241m.\u001b[39m_validate_params()\n\u001b[0;32m   1146\u001b[0m \u001b[38;5;28;01mwith\u001b[39;00m config_context(\n\u001b[0;32m   1147\u001b[0m     skip_parameter_validation\u001b[38;5;241m=\u001b[39m(\n\u001b[0;32m   1148\u001b[0m         prefer_skip_nested_validation \u001b[38;5;129;01mor\u001b[39;00m global_skip_validation\n\u001b[0;32m   1149\u001b[0m     )\n\u001b[0;32m   1150\u001b[0m ):\n\u001b[1;32m-> 1151\u001b[0m     \u001b[38;5;28;01mreturn\u001b[39;00m fit_method(estimator, \u001b[38;5;241m*\u001b[39margs, \u001b[38;5;241m*\u001b[39m\u001b[38;5;241m*\u001b[39mkwargs)\n",
      "File \u001b[1;32m~\\Desktop\\my_proj1\\env\\Lib\\site-packages\\sklearn\\tree\\_classes.py:959\u001b[0m, in \u001b[0;36mDecisionTreeClassifier.fit\u001b[1;34m(self, X, y, sample_weight, check_input)\u001b[0m\n\u001b[0;32m    928\u001b[0m \u001b[38;5;129m@_fit_context\u001b[39m(prefer_skip_nested_validation\u001b[38;5;241m=\u001b[39m\u001b[38;5;28;01mTrue\u001b[39;00m)\n\u001b[0;32m    929\u001b[0m \u001b[38;5;28;01mdef\u001b[39;00m \u001b[38;5;21mfit\u001b[39m(\u001b[38;5;28mself\u001b[39m, X, y, sample_weight\u001b[38;5;241m=\u001b[39m\u001b[38;5;28;01mNone\u001b[39;00m, check_input\u001b[38;5;241m=\u001b[39m\u001b[38;5;28;01mTrue\u001b[39;00m):\n\u001b[0;32m    930\u001b[0m \u001b[38;5;250m    \u001b[39m\u001b[38;5;124;03m\"\"\"Build a decision tree classifier from the training set (X, y).\u001b[39;00m\n\u001b[0;32m    931\u001b[0m \n\u001b[0;32m    932\u001b[0m \u001b[38;5;124;03m    Parameters\u001b[39;00m\n\u001b[1;32m   (...)\u001b[0m\n\u001b[0;32m    956\u001b[0m \u001b[38;5;124;03m        Fitted estimator.\u001b[39;00m\n\u001b[0;32m    957\u001b[0m \u001b[38;5;124;03m    \"\"\"\u001b[39;00m\n\u001b[1;32m--> 959\u001b[0m     \u001b[38;5;28msuper\u001b[39m()\u001b[38;5;241m.\u001b[39m_fit(\n\u001b[0;32m    960\u001b[0m         X,\n\u001b[0;32m    961\u001b[0m         y,\n\u001b[0;32m    962\u001b[0m         sample_weight\u001b[38;5;241m=\u001b[39msample_weight,\n\u001b[0;32m    963\u001b[0m         check_input\u001b[38;5;241m=\u001b[39mcheck_input,\n\u001b[0;32m    964\u001b[0m     )\n\u001b[0;32m    965\u001b[0m     \u001b[38;5;28;01mreturn\u001b[39;00m \u001b[38;5;28mself\u001b[39m\n",
      "File \u001b[1;32m~\\Desktop\\my_proj1\\env\\Lib\\site-packages\\sklearn\\tree\\_classes.py:443\u001b[0m, in \u001b[0;36mBaseDecisionTree._fit\u001b[1;34m(self, X, y, sample_weight, check_input, missing_values_in_feature_mask)\u001b[0m\n\u001b[0;32m    432\u001b[0m \u001b[38;5;28;01melse\u001b[39;00m:\n\u001b[0;32m    433\u001b[0m     builder \u001b[38;5;241m=\u001b[39m BestFirstTreeBuilder(\n\u001b[0;32m    434\u001b[0m         splitter,\n\u001b[0;32m    435\u001b[0m         min_samples_split,\n\u001b[1;32m   (...)\u001b[0m\n\u001b[0;32m    440\u001b[0m         \u001b[38;5;28mself\u001b[39m\u001b[38;5;241m.\u001b[39mmin_impurity_decrease,\n\u001b[0;32m    441\u001b[0m     )\n\u001b[1;32m--> 443\u001b[0m builder\u001b[38;5;241m.\u001b[39mbuild(\u001b[38;5;28mself\u001b[39m\u001b[38;5;241m.\u001b[39mtree_, X, y, sample_weight, missing_values_in_feature_mask)\n\u001b[0;32m    445\u001b[0m \u001b[38;5;28;01mif\u001b[39;00m \u001b[38;5;28mself\u001b[39m\u001b[38;5;241m.\u001b[39mn_outputs_ \u001b[38;5;241m==\u001b[39m \u001b[38;5;241m1\u001b[39m \u001b[38;5;129;01mand\u001b[39;00m is_classifier(\u001b[38;5;28mself\u001b[39m):\n\u001b[0;32m    446\u001b[0m     \u001b[38;5;28mself\u001b[39m\u001b[38;5;241m.\u001b[39mn_classes_ \u001b[38;5;241m=\u001b[39m \u001b[38;5;28mself\u001b[39m\u001b[38;5;241m.\u001b[39mn_classes_[\u001b[38;5;241m0\u001b[39m]\n",
      "\u001b[1;31mKeyboardInterrupt\u001b[0m: "
     ]
    }
   ],
   "source": [
    "# Cross validated recall\n",
    "cv_recall = cross_val_score(clf, X, y, cv = 5, scoring = \"recall\")\n",
    "cv_recall = np.mean(cv_recall)"
   ]
  },
  {
   "cell_type": "code",
   "execution_count": null,
   "id": "cc1f3111-6e61-45ca-973c-5af13b3dd4a3",
   "metadata": {},
   "outputs": [],
   "source": [
    "# cross validated f1\n",
    "cv_f1 = cross_val_score(clf, X, y, cv = 5, scoring = \"f1\")\n",
    "cv_f1 = np.mean(cv_f1)"
   ]
  },
  {
   "cell_type": "code",
   "execution_count": null,
   "id": "a9186e47-a7f0-411b-995b-9a6aa43749ee",
   "metadata": {},
   "outputs": [],
   "source": [
    "cv_metrics = pd.DataFrame({\"Accuracy\": cv_acc,\n",
    "                          \"Precision\": cv_prec,\n",
    "                          \"Recall\": cv_recall,\n",
    "                          \"F1\": cv_f1},\n",
    "                         index = [0])\n",
    "cv_metrics.T.plot.bar(title = \"Cross-validated classification metrics\", legend = False);"
   ]
  },
  {
   "cell_type": "markdown",
   "id": "dcc47be0-fc24-484a-bf83-c7dd75995e34",
   "metadata": {},
   "source": [
    "### Feature important\n",
    "Which feature contributed most to the outcomes of the model"
   ]
  },
  {
   "cell_type": "code",
   "execution_count": 759,
   "id": "1fad2b07-99ad-463b-9af3-31ac0654f407",
   "metadata": {},
   "outputs": [
    {
     "name": "stdout",
     "output_type": "stream",
     "text": [
      "Feature importances:\n",
      "actors: 0.40995145463125116\n",
      "writer: 0.22152104506744855\n",
      "director: 0.15297903898234008\n",
      "production_company: 0.1358745843297979\n",
      "age: 0.017116777154866595\n",
      "genre: 0.016156905318310967\n",
      "duration: 0.011369540424221551\n",
      "language: 0.010747645734115154\n",
      "country: 0.006868399173331627\n",
      "date_published: 0.006075448776057696\n",
      "worlwide_gross_income: 0.003431993361317984\n",
      "budget: 0.0032419987506262108\n",
      "usa_gross_income: 0.002999918561557962\n",
      "change_title: 0.0016652497347564652\n"
     ]
    }
   ],
   "source": [
    "importances = clf.feature_importances_\n",
    "\n",
    "feature_names = X_train.columns\n",
    "feature_importances = sorted(zip(importances, feature_names), reverse = True)\n",
    "\n",
    "print(\"Feature importances:\")\n",
    "for importance, name in feature_importances:\n",
    "    print(f\"{name}: {importance}\")"
   ]
  },
  {
   "cell_type": "code",
   "execution_count": 760,
   "id": "4fd59254-d7a5-4ee2-a198-06176b4c2a7e",
   "metadata": {},
   "outputs": [
    {
     "data": {
      "image/png": "[encoded data removed]",
      "text/plain": [
       "<Figure size 640x480 with 1 Axes>"
      ]
     },
     "metadata": {},
     "output_type": "display_data"
    }
   ],
   "source": [
    "import pandas as pd\n",
    "import matplotlib.pyplot as plt\n",
    "\n",
    "# Assuming 'feature_importances' is a list of tuples where each tuple is (importance, feature_name)\n",
    "# Let's convert that into a DataFrame for easier manipulation and visualization\n",
    "\n",
    "# Convert to DataFrame\n",
    "feature_df = pd.DataFrame(feature_importances, columns=['Importance', 'Feature'])\n",
    "\n",
    "# Set index to 'Feature' for clarity in plotting\n",
    "feature_df.set_index('Feature', inplace=True)\n",
    "\n",
    "# Plotting\n",
    "feature_df.sort_values(by='Importance', ascending=True).plot(kind='barh', title=\"Feature Importance\", legend=False)\n",
    "plt.xlabel('Importance')\n",
    "plt.ylabel('Feature')\n",
    "plt.show()\n"
   ]
  },
  {
   "cell_type": "markdown",
   "id": "f714a191-0236-4bd9-9b65-53ada296a258",
   "metadata": {},
   "source": [
    "6. Experimentation"
   ]
  },
  {
   "cell_type": "code",
   "execution_count": 761,
   "id": "d8bf70a1-223a-4998-a5de-cdd5e6b760e5",
   "metadata": {},
   "outputs": [
    {
     "data": {
      "text/plain": [
       "['filmPredictModel.joblib']"
      ]
     },
     "execution_count": 761,
     "metadata": {},
     "output_type": "execute_result"
    }
   ],
   "source": [
    "from joblib import dump, load\n",
    "\n",
    "model_filename = 'filmPredictModel.joblib'\n",
    "dump(clf, model_filename)"
   ]
  },
  {
   "cell_type": "markdown",
   "id": "599dda1d-4e91-45ad-9f27-cc4ad84c4d4b",
   "metadata": {},
   "source": []
  }
 ],
 "metadata": {
  "kernelspec": {
   "display_name": "Python 3 (ipykernel)",
   "language": "python",
   "name": "python3"
  },
  "language_info": {
   "codemirror_mode": {
    "name": "ipython",
    "version": 3
   },
   "file_extension": ".py",
   "mimetype": "text/x-python",
   "name": "python",
   "nbconvert_exporter": "python",
   "pygments_lexer": "ipython3",
   "version": "3.12.2"
  }
 },
 "nbformat": 4,
 "nbformat_minor": 5
}
